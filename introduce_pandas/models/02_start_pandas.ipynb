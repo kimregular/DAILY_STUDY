{
 "cells": [
  {
   "metadata": {},
   "cell_type": "markdown",
   "source": [
    "# 판다스 시작하기\n",
    "## 데이터셋 불러오기"
   ],
   "id": "c2a64c53b9e56122"
  },
  {
   "metadata": {},
   "cell_type": "markdown",
   "source": [
    "판다스는 파이썬과 함꼐 제공되는 표준 라이브러리가 아니므로 먼저 주피터 노트북에서 새로운 노트북을 열어 라이브러리를 불러와야 한다.  \n",
    "이후 데이터셋 \"gapminder.csv\" 를 `pd.read_csv()` 메서드로 불러오자."
   ],
   "id": "67bc0dc972600b9b"
  },
  {
   "cell_type": "code",
   "id": "initial_id",
   "metadata": {
    "collapsed": true,
    "ExecuteTime": {
     "end_time": "2024-07-16T20:43:09.431461Z",
     "start_time": "2024-07-16T20:43:08.955538Z"
    }
   },
   "source": "import pandas as pd",
   "outputs": [],
   "execution_count": 1
  },
  {
   "metadata": {},
   "cell_type": "code",
   "outputs": [],
   "execution_count": null,
   "source": "",
   "id": "e6105b52d67590f6"
  }
 ],
 "metadata": {
  "kernelspec": {
   "display_name": "Python 3",
   "language": "python",
   "name": "python3"
  },
  "language_info": {
   "codemirror_mode": {
    "name": "ipython",
    "version": 2
   },
   "file_extension": ".py",
   "mimetype": "text/x-python",
   "name": "python",
   "nbconvert_exporter": "python",
   "pygments_lexer": "ipython2",
   "version": "2.7.6"
  }
 },
 "nbformat": 4,
 "nbformat_minor": 5
}
