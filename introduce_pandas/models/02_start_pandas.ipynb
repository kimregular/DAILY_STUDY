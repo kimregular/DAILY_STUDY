{
 "cells": [
  {
   "metadata": {},
   "cell_type": "markdown",
   "source": [
    "# 판다스 시작하기\n",
    "## 데이터셋 불러오기\n",
    "\n",
    "### 실습에서 사용할 데이터셋은 [여기](https://github.com/easysIT/doit_pandas)에서 다운로드할 수 있다."
   ],
   "id": "c2a64c53b9e56122"
  },
  {
   "metadata": {},
   "cell_type": "markdown",
   "source": [
    "판다스는 파이썬과 함께 제공되는 표준 라이브러리가 아니므로 먼저 주피터 노트북에서 새로운 노트북을 열어 라이브러리를 불러와야 한다.  \n",
    "이후 데이터셋 \"gapminder.csv\" 를 `pd.read_csv()` 메서드로 불러오자."
   ],
   "id": "67bc0dc972600b9b"
  },
  {
   "cell_type": "code",
   "id": "initial_id",
   "metadata": {
    "collapsed": true,
    "ExecuteTime": {
     "end_time": "2024-07-18T07:41:57.466755Z",
     "start_time": "2024-07-18T07:41:57.464491Z"
    }
   },
   "source": "import pandas as pd",
   "outputs": [],
   "execution_count": 10
  },
  {
   "metadata": {
    "ExecuteTime": {
     "end_time": "2024-07-18T07:41:57.502521Z",
     "start_time": "2024-07-18T07:41:57.497969Z"
    }
   },
   "cell_type": "code",
   "source": "df = pd.read_csv(\"data/gapminder.csv\", sep=\"\\t\")",
   "id": "e6105b52d67590f6",
   "outputs": [],
   "execution_count": 11
  },
  {
   "metadata": {},
   "cell_type": "markdown",
   "source": "csv 파일은 기본적으로 콤마(`,`)로 구분되어 있다고 가정한다. 그러나 `gapminder.tsv` 파일은 탭을 기준으로 구분되어 있다.  따라서 구분 값을 `read_csv()` 메서드에 알려줘야한다. 해당 동작은 `sep=` 파라미터로 처리될 수 있다.",
   "id": "7e00534d58120e33"
  },
  {
   "metadata": {
    "ExecuteTime": {
     "end_time": "2024-07-18T07:41:57.508756Z",
     "start_time": "2024-07-18T07:41:57.503875Z"
    }
   },
   "cell_type": "code",
   "source": "print(df)",
   "id": "1a6a74b5966e044f",
   "outputs": [
    {
     "name": "stdout",
     "output_type": "stream",
     "text": [
      "          country continent  year  lifeExp       pop   gdpPercap\n",
      "0     Afghanistan      Asia  1952   28.801   8425333  779.445314\n",
      "1     Afghanistan      Asia  1957   30.332   9240934  820.853030\n",
      "2     Afghanistan      Asia  1962   31.997  10267083  853.100710\n",
      "3     Afghanistan      Asia  1967   34.020  11537966  836.197138\n",
      "4     Afghanistan      Asia  1972   36.088  13079460  739.981106\n",
      "...           ...       ...   ...      ...       ...         ...\n",
      "1699     Zimbabwe    Africa  1987   62.351   9216418  706.157306\n",
      "1700     Zimbabwe    Africa  1992   60.377  10704340  693.420786\n",
      "1701     Zimbabwe    Africa  1997   46.809  11404948  792.449960\n",
      "1702     Zimbabwe    Africa  2002   39.989  11926563  672.038623\n",
      "1703     Zimbabwe    Africa  2007   43.487  12311143  469.709298\n",
      "\n",
      "[1704 rows x 6 columns]\n"
     ]
    }
   ],
   "execution_count": 12
  },
  {
   "metadata": {
    "ExecuteTime": {
     "end_time": "2024-07-18T07:41:57.515384Z",
     "start_time": "2024-07-18T07:41:57.510672Z"
    }
   },
   "cell_type": "code",
   "source": "print(type(df))",
   "id": "230e2515bc4a01c5",
   "outputs": [
    {
     "name": "stdout",
     "output_type": "stream",
     "text": [
      "<class 'pandas.core.frame.DataFrame'>\n"
     ]
    }
   ],
   "execution_count": 13
  },
  {
   "metadata": {},
   "cell_type": "markdown",
   "source": [
    "데이터프레임 객체는 shape 속성을 사용해 저장된 데이터셋의 행과 열의 개수를 확인할 수 있다.   \n",
    "shape 속성은 첫 번째 값이 행 개수이고 두 번째 값이 열 개수인 튜플을 반환한다."
   ],
   "id": "4b3ea5c585714823"
  },
  {
   "metadata": {
    "ExecuteTime": {
     "end_time": "2024-07-18T07:41:57.523446Z",
     "start_time": "2024-07-18T07:41:57.517979Z"
    }
   },
   "cell_type": "code",
   "source": "df.shape",
   "id": "981ff92aa414a2a8",
   "outputs": [
    {
     "data": {
      "text/plain": [
       "(1704, 6)"
      ]
     },
     "execution_count": 14,
     "metadata": {},
     "output_type": "execute_result"
    }
   ],
   "execution_count": 14
  },
  {
   "metadata": {},
   "cell_type": "markdown",
   "source": [
    "결과를 보면 이 데이터셋은 1704개의 행과 6개의 열로 구성된다는 것을 확인할 수 있다.  \n",
    "참고로 shape는 메서드가 아니기 때문에 괄호를 붙이면 오류가 난다.\n",
    "  \n",
    "이번에는 데이터셋에 어떤 정보가 있는지 알아보자. shape 속성과 마찬가지로 columns 속성을 사용하면 데이터프레임의 열 이름을 확인할 수 있다. 불러온 데이터셋의 열 이름은 각각 country, continent, year, lifeExp, pop, pdfPercap 이다. "
   ],
   "id": "c21bc1b24db0b168"
  },
  {
   "metadata": {
    "ExecuteTime": {
     "end_time": "2024-07-18T07:41:57.527350Z",
     "start_time": "2024-07-18T07:41:57.524440Z"
    }
   },
   "cell_type": "code",
   "source": "df.columns",
   "id": "dd29f5b60585ee18",
   "outputs": [
    {
     "data": {
      "text/plain": [
       "Index(['country', 'continent', 'year', 'lifeExp', 'pop', 'gdpPercap'], dtype='object')"
      ]
     },
     "execution_count": 15,
     "metadata": {},
     "output_type": "execute_result"
    }
   ],
   "execution_count": 15
  },
  {
   "metadata": {},
   "cell_type": "markdown",
   "source": "데이터프레임 객체의 각 열은 같은 자료형이어야 하지만 각 행은 여러 가지 자료형일 수 있다. dtypes 속성으로 갭마인더 데이터셋의 각 열이 어떤 자료형인지를 확인할 수 있다.",
   "id": "77d6db29cb2d227d"
  },
  {
   "metadata": {
    "ExecuteTime": {
     "end_time": "2024-07-18T07:41:57.535502Z",
     "start_time": "2024-07-18T07:41:57.531041Z"
    }
   },
   "cell_type": "code",
   "source": "df.dtypes",
   "id": "d87f4e2305056407",
   "outputs": [
    {
     "data": {
      "text/plain": [
       "country       object\n",
       "continent     object\n",
       "year           int64\n",
       "lifeExp      float64\n",
       "pop            int64\n",
       "gdpPercap    float64\n",
       "dtype: object"
      ]
     },
     "execution_count": 16,
     "metadata": {},
     "output_type": "execute_result"
    }
   ],
   "execution_count": 16
  },
  {
   "metadata": {},
   "cell_type": "markdown",
   "source": "열의 자료형뿐만 아니라 데이터와 관련된 다양한 정보를 함께 확인하고 싶다면 `info()` 메서드를 사용한다.",
   "id": "2a5dc285e3c1eaa9"
  },
  {
   "metadata": {
    "ExecuteTime": {
     "end_time": "2024-07-18T07:41:57.604759Z",
     "start_time": "2024-07-18T07:41:57.594786Z"
    }
   },
   "cell_type": "code",
   "source": "df.info()",
   "id": "248c620bb83c0dbb",
   "outputs": [
    {
     "name": "stdout",
     "output_type": "stream",
     "text": [
      "<class 'pandas.core.frame.DataFrame'>\n",
      "RangeIndex: 1704 entries, 0 to 1703\n",
      "Data columns (total 6 columns):\n",
      " #   Column     Non-Null Count  Dtype  \n",
      "---  ------     --------------  -----  \n",
      " 0   country    1704 non-null   object \n",
      " 1   continent  1704 non-null   object \n",
      " 2   year       1704 non-null   int64  \n",
      " 3   lifeExp    1704 non-null   float64\n",
      " 4   pop        1704 non-null   int64  \n",
      " 5   gdpPercap  1704 non-null   float64\n",
      "dtypes: float64(2), int64(2), object(2)\n",
      "memory usage: 80.0+ KB\n"
     ]
    }
   ],
   "execution_count": 17
  },
  {
   "metadata": {},
   "cell_type": "markdown",
   "source": [
    "판다스의 자료형은 파이썬과 다르다!  \n",
    "country는 object로, year는 int64라는 자료형을 출력했다. 이처럼 판다스는 파이썬과는 다른 자료형을 사용한다. 다음 표를 보고 판다스와 파이썬의 자료형이 어떻게 다른지 알아두자.  \n",
    "\n",
    "| 판다스        | 파이썬      | 설명                           |\n",
    "|------------|----------|------------------------------|\n",
    "| object     | string   | 문자열, 가장 일반적인 자료형             |\n",
    "| datetime64 | datetime | 표준 라이브러리 datetime에서 제공하는 자료형 |\n",
    "| int64      | int      | 정수                           |\n",
    "| float64    | float    | 소수점이 있는 숫자                   |"
   ],
   "id": "ecb553f986d7f181"
  },
  {
   "metadata": {},
   "cell_type": "markdown",
   "source": [
    "## 데이터 추출하기  \n",
    "\n",
    "불러온 데이터 파일의 내용을 살펴보자.     \n",
    "단순하게 데이터프레임의 내용을 `print()`로 출력할 수도 있지만 대부분의 데이터는 다양한 정보를 포함하므로 그대로 출력하면 한눈에 내용을 파악하기 어렵다.     \n",
    "작은 단위로 데이터를 쪼개서 살펴보는 것이 좋다. 데이터프레임에 `head()` 메서드를 사용하면 가장 앞 5개 행을 확인할 수 있다."
   ],
   "id": "d8842197d351a870"
  },
  {
   "metadata": {
    "ExecuteTime": {
     "end_time": "2024-07-18T07:41:57.630568Z",
     "start_time": "2024-07-18T07:41:57.624173Z"
    }
   },
   "cell_type": "code",
   "source": "df.head()",
   "id": "4a84e4ac870ea5b",
   "outputs": [
    {
     "data": {
      "text/plain": [
       "       country continent  year  lifeExp       pop   gdpPercap\n",
       "0  Afghanistan      Asia  1952   28.801   8425333  779.445314\n",
       "1  Afghanistan      Asia  1957   30.332   9240934  820.853030\n",
       "2  Afghanistan      Asia  1962   31.997  10267083  853.100710\n",
       "3  Afghanistan      Asia  1967   34.020  11537966  836.197138\n",
       "4  Afghanistan      Asia  1972   36.088  13079460  739.981106"
      ],
      "text/html": [
       "<div>\n",
       "<style scoped>\n",
       "    .dataframe tbody tr th:only-of-type {\n",
       "        vertical-align: middle;\n",
       "    }\n",
       "\n",
       "    .dataframe tbody tr th {\n",
       "        vertical-align: top;\n",
       "    }\n",
       "\n",
       "    .dataframe thead th {\n",
       "        text-align: right;\n",
       "    }\n",
       "</style>\n",
       "<table border=\"1\" class=\"dataframe\">\n",
       "  <thead>\n",
       "    <tr style=\"text-align: right;\">\n",
       "      <th></th>\n",
       "      <th>country</th>\n",
       "      <th>continent</th>\n",
       "      <th>year</th>\n",
       "      <th>lifeExp</th>\n",
       "      <th>pop</th>\n",
       "      <th>gdpPercap</th>\n",
       "    </tr>\n",
       "  </thead>\n",
       "  <tbody>\n",
       "    <tr>\n",
       "      <th>0</th>\n",
       "      <td>Afghanistan</td>\n",
       "      <td>Asia</td>\n",
       "      <td>1952</td>\n",
       "      <td>28.801</td>\n",
       "      <td>8425333</td>\n",
       "      <td>779.445314</td>\n",
       "    </tr>\n",
       "    <tr>\n",
       "      <th>1</th>\n",
       "      <td>Afghanistan</td>\n",
       "      <td>Asia</td>\n",
       "      <td>1957</td>\n",
       "      <td>30.332</td>\n",
       "      <td>9240934</td>\n",
       "      <td>820.853030</td>\n",
       "    </tr>\n",
       "    <tr>\n",
       "      <th>2</th>\n",
       "      <td>Afghanistan</td>\n",
       "      <td>Asia</td>\n",
       "      <td>1962</td>\n",
       "      <td>31.997</td>\n",
       "      <td>10267083</td>\n",
       "      <td>853.100710</td>\n",
       "    </tr>\n",
       "    <tr>\n",
       "      <th>3</th>\n",
       "      <td>Afghanistan</td>\n",
       "      <td>Asia</td>\n",
       "      <td>1967</td>\n",
       "      <td>34.020</td>\n",
       "      <td>11537966</td>\n",
       "      <td>836.197138</td>\n",
       "    </tr>\n",
       "    <tr>\n",
       "      <th>4</th>\n",
       "      <td>Afghanistan</td>\n",
       "      <td>Asia</td>\n",
       "      <td>1972</td>\n",
       "      <td>36.088</td>\n",
       "      <td>13079460</td>\n",
       "      <td>739.981106</td>\n",
       "    </tr>\n",
       "  </tbody>\n",
       "</table>\n",
       "</div>"
      ]
     },
     "execution_count": 18,
     "metadata": {},
     "output_type": "execute_result"
    }
   ],
   "execution_count": 18
  },
  {
   "metadata": {},
   "cell_type": "markdown",
   "source": [
    "## 열 데이터 추출하기\n",
    "데이터프레임에 열 이름을 지정한 대괄호를 덧붙이면 데이터의 특정 열에 접근할 수 있다.\n",
    "\n",
    "### 문자열로 열 데이터 추출하기\n",
    "1. 먼저 불러온 데이터프레임 df 에서 country 열 데이터를 추출하고 그 결과를 country_df 변수에 저장한다."
   ],
   "id": "23ffa9255dea7ff8"
  },
  {
   "metadata": {
    "ExecuteTime": {
     "end_time": "2024-07-18T07:43:44.362685Z",
     "start_time": "2024-07-18T07:43:44.357441Z"
    }
   },
   "cell_type": "code",
   "source": "country_df = df[\"country\"]",
   "id": "1e7f9dffddc0bad7",
   "outputs": [],
   "execution_count": 19
  },
  {
   "metadata": {},
   "cell_type": "markdown",
   "source": "2. 데이터프레임과 마찬가지로 각 열에서도 `head()` 메서드를 호출할 수 있다.",
   "id": "bd468b192fbbce62"
  },
  {
   "metadata": {
    "ExecuteTime": {
     "end_time": "2024-07-18T07:44:32.420975Z",
     "start_time": "2024-07-18T07:44:32.417387Z"
    }
   },
   "cell_type": "code",
   "source": "country_df.head()",
   "id": "1dd209ee3dc1c7fd",
   "outputs": [
    {
     "data": {
      "text/plain": [
       "0    Afghanistan\n",
       "1    Afghanistan\n",
       "2    Afghanistan\n",
       "3    Afghanistan\n",
       "4    Afghanistan\n",
       "Name: country, dtype: object"
      ]
     },
     "execution_count": 21,
     "metadata": {},
     "output_type": "execute_result"
    }
   ],
   "execution_count": 21
  },
  {
   "metadata": {},
   "cell_type": "markdown",
   "source": "3. `head()` 와 반대로 마지막 5개 행을 출력하는 `tail()` 메서드도 있다. ",
   "id": "1a894dab0b346e6b"
  },
  {
   "metadata": {
    "ExecuteTime": {
     "end_time": "2024-07-18T07:45:18.378714Z",
     "start_time": "2024-07-18T07:45:18.366149Z"
    }
   },
   "cell_type": "code",
   "source": "country_df.tail()",
   "id": "7c993c226c6b9b3",
   "outputs": [
    {
     "data": {
      "text/plain": [
       "1699    Zimbabwe\n",
       "1700    Zimbabwe\n",
       "1701    Zimbabwe\n",
       "1702    Zimbabwe\n",
       "1703    Zimbabwe\n",
       "Name: country, dtype: object"
      ]
     },
     "execution_count": 22,
     "metadata": {},
     "output_type": "execute_result"
    }
   ],
   "execution_count": 22
  },
  {
   "metadata": {},
   "cell_type": "markdown",
   "source": [
    "### 리스트로 열 데이터 추출하기\n",
    "\n",
    "1. 열 이름으로 여러 열의 데이터를 추출하고 싶다면 대괄호 안에 열 이름 리스트를 전달한다.  \n",
    "    이때 대괄호는 [[]]와 같이 이중으로 중첩한다. 바깥 대괄호는 데이터프레임에서 열을 추출한다는 뜻이다.  \n",
    "    안쪽 대괄호는 선택할 열 목록을 지정한 파이썬 리스트이다.\n",
    "\n",
    "2. df 에서 country, continent, year 등 3개 열 데이터를 추출하고 그 결과를 subset 변수에 저장하자."
   ],
   "id": "91f49e8c5fd693f7"
  },
  {
   "metadata": {
    "ExecuteTime": {
     "end_time": "2024-07-18T07:49:02.300626Z",
     "start_time": "2024-07-18T07:49:02.289561Z"
    }
   },
   "cell_type": "code",
   "source": "subset = df[[\"country\", \"continent\", \"year\"]]",
   "id": "100b8d54947d1ea4",
   "outputs": [],
   "execution_count": 23
  },
  {
   "metadata": {
    "ExecuteTime": {
     "end_time": "2024-07-18T07:49:07.792767Z",
     "start_time": "2024-07-18T07:49:07.788204Z"
    }
   },
   "cell_type": "code",
   "source": "subset.head()",
   "id": "d1d28030a48f08fb",
   "outputs": [
    {
     "data": {
      "text/plain": [
       "       country continent  year\n",
       "0  Afghanistan      Asia  1952\n",
       "1  Afghanistan      Asia  1957\n",
       "2  Afghanistan      Asia  1962\n",
       "3  Afghanistan      Asia  1967\n",
       "4  Afghanistan      Asia  1972"
      ],
      "text/html": [
       "<div>\n",
       "<style scoped>\n",
       "    .dataframe tbody tr th:only-of-type {\n",
       "        vertical-align: middle;\n",
       "    }\n",
       "\n",
       "    .dataframe tbody tr th {\n",
       "        vertical-align: top;\n",
       "    }\n",
       "\n",
       "    .dataframe thead th {\n",
       "        text-align: right;\n",
       "    }\n",
       "</style>\n",
       "<table border=\"1\" class=\"dataframe\">\n",
       "  <thead>\n",
       "    <tr style=\"text-align: right;\">\n",
       "      <th></th>\n",
       "      <th>country</th>\n",
       "      <th>continent</th>\n",
       "      <th>year</th>\n",
       "    </tr>\n",
       "  </thead>\n",
       "  <tbody>\n",
       "    <tr>\n",
       "      <th>0</th>\n",
       "      <td>Afghanistan</td>\n",
       "      <td>Asia</td>\n",
       "      <td>1952</td>\n",
       "    </tr>\n",
       "    <tr>\n",
       "      <th>1</th>\n",
       "      <td>Afghanistan</td>\n",
       "      <td>Asia</td>\n",
       "      <td>1957</td>\n",
       "    </tr>\n",
       "    <tr>\n",
       "      <th>2</th>\n",
       "      <td>Afghanistan</td>\n",
       "      <td>Asia</td>\n",
       "      <td>1962</td>\n",
       "    </tr>\n",
       "    <tr>\n",
       "      <th>3</th>\n",
       "      <td>Afghanistan</td>\n",
       "      <td>Asia</td>\n",
       "      <td>1967</td>\n",
       "    </tr>\n",
       "    <tr>\n",
       "      <th>4</th>\n",
       "      <td>Afghanistan</td>\n",
       "      <td>Asia</td>\n",
       "      <td>1972</td>\n",
       "    </tr>\n",
       "  </tbody>\n",
       "</table>\n",
       "</div>"
      ]
     },
     "execution_count": 24,
     "metadata": {},
     "output_type": "execute_result"
    }
   ],
   "execution_count": 24
  },
  {
   "metadata": {},
   "cell_type": "code",
   "outputs": [],
   "execution_count": null,
   "source": "",
   "id": "7ae3556d7dde652e"
  }
 ],
 "metadata": {
  "kernelspec": {
   "display_name": "Python 3",
   "language": "python",
   "name": "python3"
  },
  "language_info": {
   "codemirror_mode": {
    "name": "ipython",
    "version": 2
   },
   "file_extension": ".py",
   "mimetype": "text/x-python",
   "name": "python",
   "nbconvert_exporter": "python",
   "pygments_lexer": "ipython2",
   "version": "2.7.6"
  }
 },
 "nbformat": 4,
 "nbformat_minor": 5
}
