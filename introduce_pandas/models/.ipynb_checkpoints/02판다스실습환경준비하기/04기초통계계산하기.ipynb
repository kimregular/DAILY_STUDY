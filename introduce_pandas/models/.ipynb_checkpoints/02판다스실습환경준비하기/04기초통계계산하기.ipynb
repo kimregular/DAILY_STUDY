{
 "cells": [
  {
   "metadata": {},
   "cell_type": "markdown",
   "source": [
    "## 기초 통계 계산하기\n",
    "\n",
    "이전까지 데이터 추출방법을 알아보았다. 이번에는 추출한 데이터로 몇 가지 기초 통계를 계산해보자. "
   ],
   "id": "8bd786f1e7413760"
  },
  {
   "cell_type": "code",
   "id": "initial_id",
   "metadata": {
    "collapsed": true,
    "ExecuteTime": {
     "end_time": "2024-08-03T15:08:46.286987Z",
     "start_time": "2024-08-03T15:08:45.792567Z"
    }
   },
   "source": [
    "import pandas as pd\n",
    "df = pd.read_csv('data/gapminder.csv', sep='\\t')"
   ],
   "outputs": [],
   "execution_count": 1
  },
  {
   "metadata": {
    "ExecuteTime": {
     "end_time": "2024-08-03T15:08:49.731870Z",
     "start_time": "2024-08-03T15:08:49.725533Z"
    }
   },
   "cell_type": "code",
   "source": "print(df)",
   "id": "fc643698a1442d47",
   "outputs": [
    {
     "name": "stdout",
     "output_type": "stream",
     "text": [
      "          country continent  year  lifeExp       pop   gdpPercap\n",
      "0     Afghanistan      Asia  1952   28.801   8425333  779.445314\n",
      "1     Afghanistan      Asia  1957   30.332   9240934  820.853030\n",
      "2     Afghanistan      Asia  1962   31.997  10267083  853.100710\n",
      "3     Afghanistan      Asia  1967   34.020  11537966  836.197138\n",
      "4     Afghanistan      Asia  1972   36.088  13079460  739.981106\n",
      "...           ...       ...   ...      ...       ...         ...\n",
      "1699     Zimbabwe    Africa  1987   62.351   9216418  706.157306\n",
      "1700     Zimbabwe    Africa  1992   60.377  10704340  693.420786\n",
      "1701     Zimbabwe    Africa  1997   46.809  11404948  792.449960\n",
      "1702     Zimbabwe    Africa  2002   39.989  11926563  672.038623\n",
      "1703     Zimbabwe    Africa  2007   43.487  12311143  469.709298\n",
      "\n",
      "[1704 rows x 6 columns]\n"
     ]
    }
   ],
   "execution_count": 2
  },
  {
   "metadata": {},
   "cell_type": "markdown",
   "source": [
    "각 열은 국가, 대륙, 연도, 기대수명, 인구, 1인당 국내 총생산을나타낸다. 그러면 다음과 같은 질문을 생각해볼 수 있다.\n",
    "\n",
    "- 연도별 평균 기대 수명은?\n",
    "- 기대 수명, 인구, GDP의 평균은?\n",
    "- 데이터를 대륙별로 나누어 통계를 계산하면?\n",
    "- 대륙별 국가 개수는?\n",
    "\n",
    "이런 질문의 답을 구할 수 있는 데이터 활용 방법을 알아보자."
   ],
   "id": "7cd4dbd43e28d9fb"
  },
  {
   "metadata": {},
   "cell_type": "markdown",
   "source": [
    "### 그룹화한 데이터의 평균 구하기\n",
    "## 1개 열 그룹화하기\n",
    "\n",
    "답을 구하려면 그룹화한 계산을 수행해야 한다. 즉, 평균이나 빈도를 구할 때 데이터의 일부를 선택하여 게산한다. 그룹화한 계산은 분할-적용-결합 과정으로 생각할 수 있다. 먼저 데이터를 여러 부분으로 분할한 다음, 분할한 각 부분에 선택한 함수나 연산을 적용하고 마지막으로 각 결과를 하나의 데이터프레임으로 결합한다.\n",
    "\n",
    "데이터프레임의 `groupby()` 메서드를 사용하면 데이터를 그룹화할 수 있으며 그룹화한 데이터를 대상으로 계산을 수행할 수 있다.\n",
    "\n",
    "1. 먼저 앞에서 언급한 첫 번째 질문인 연도별 평균 기대 수명을 알아보자. 다음 순서에 따라 질문의 답을 구한다.\n",
    "    1. 데이터를 연도별로 그룹화한다.\n",
    "    2. lifeExp 열을 선택한다.\n",
    "    3. 평균을 계산한다.\n",
    "\n",
    "이 과정은 코드 한 줄로 수행할 수 있다."
   ],
   "id": "b01ea49d26e83f87"
  },
  {
   "metadata": {
    "ExecuteTime": {
     "end_time": "2024-08-03T15:14:14.124671Z",
     "start_time": "2024-08-03T15:14:14.107148Z"
    }
   },
   "cell_type": "code",
   "source": "print(df.groupby('year')['lifeExp'].mean())",
   "id": "d8e1dc6c5a0f4b15",
   "outputs": [
    {
     "name": "stdout",
     "output_type": "stream",
     "text": [
      "year\n",
      "1952    49.057620\n",
      "1957    51.507401\n",
      "1962    53.609249\n",
      "1967    55.678290\n",
      "1972    57.647386\n",
      "1977    59.570157\n",
      "1982    61.533197\n",
      "1987    63.212613\n",
      "1992    64.160338\n",
      "1997    65.014676\n",
      "2002    65.694923\n",
      "2007    67.007423\n",
      "Name: lifeExp, dtype: float64\n"
     ]
    }
   ],
   "execution_count": 3
  },
  {
   "metadata": {
    "ExecuteTime": {
     "end_time": "2024-08-03T15:16:45.713929Z",
     "start_time": "2024-08-03T15:16:45.700586Z"
    }
   },
   "cell_type": "code",
   "source": "print(df.groupby('continent')['lifeExp'].mean())",
   "id": "d33d650af70a9429",
   "outputs": [
    {
     "name": "stdout",
     "output_type": "stream",
     "text": [
      "continent\n",
      "Africa      48.865330\n",
      "Americas    64.658737\n",
      "Asia        60.064903\n",
      "Europe      71.903686\n",
      "Oceania     74.326208\n",
      "Name: lifeExp, dtype: float64\n"
     ]
    }
   ],
   "execution_count": 4
  },
  {
   "metadata": {},
   "cell_type": "code",
   "outputs": [],
   "execution_count": null,
   "source": "print(df.groupby('continent')['gdpPercap'].mean())",
   "id": "4b837f1b7caa58f"
  }
 ],
 "metadata": {
  "kernelspec": {
   "display_name": "Python 3",
   "language": "python",
   "name": "python3"
  },
  "language_info": {
   "codemirror_mode": {
    "name": "ipython",
    "version": 2
   },
   "file_extension": ".py",
   "mimetype": "text/x-python",
   "name": "python",
   "nbconvert_exporter": "python",
   "pygments_lexer": "ipython2",
   "version": "2.7.6"
  }
 },
 "nbformat": 4,
 "nbformat_minor": 5
}
