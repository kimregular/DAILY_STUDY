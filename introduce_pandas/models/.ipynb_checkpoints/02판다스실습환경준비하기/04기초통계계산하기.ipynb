{
 "cells": [
  {
   "metadata": {},
   "cell_type": "markdown",
   "source": [
    "## 기초 통계 계산하기\n",
    "\n",
    "이전까지 데이터 추출방법을 알아보았다. 이번에는 추출한 데이터로 몇 가지 기초 통계를 계산해보자. "
   ],
   "id": "8bd786f1e7413760"
  },
  {
   "cell_type": "code",
   "id": "initial_id",
   "metadata": {
    "collapsed": true,
    "ExecuteTime": {
     "end_time": "2024-08-03T15:08:46.286987Z",
     "start_time": "2024-08-03T15:08:45.792567Z"
    }
   },
   "source": [
    "import pandas as pd\n",
    "df = pd.read_csv('data/gapminder.csv', sep='\\t')"
   ],
   "outputs": [],
   "execution_count": 1
  },
  {
   "metadata": {
    "ExecuteTime": {
     "end_time": "2024-08-03T15:08:49.731870Z",
     "start_time": "2024-08-03T15:08:49.725533Z"
    }
   },
   "cell_type": "code",
   "source": "print(df)",
   "id": "fc643698a1442d47",
   "outputs": [
    {
     "name": "stdout",
     "output_type": "stream",
     "text": [
      "          country continent  year  lifeExp       pop   gdpPercap\n",
      "0     Afghanistan      Asia  1952   28.801   8425333  779.445314\n",
      "1     Afghanistan      Asia  1957   30.332   9240934  820.853030\n",
      "2     Afghanistan      Asia  1962   31.997  10267083  853.100710\n",
      "3     Afghanistan      Asia  1967   34.020  11537966  836.197138\n",
      "4     Afghanistan      Asia  1972   36.088  13079460  739.981106\n",
      "...           ...       ...   ...      ...       ...         ...\n",
      "1699     Zimbabwe    Africa  1987   62.351   9216418  706.157306\n",
      "1700     Zimbabwe    Africa  1992   60.377  10704340  693.420786\n",
      "1701     Zimbabwe    Africa  1997   46.809  11404948  792.449960\n",
      "1702     Zimbabwe    Africa  2002   39.989  11926563  672.038623\n",
      "1703     Zimbabwe    Africa  2007   43.487  12311143  469.709298\n",
      "\n",
      "[1704 rows x 6 columns]\n"
     ]
    }
   ],
   "execution_count": 2
  },
  {
   "metadata": {},
   "cell_type": "markdown",
   "source": [
    "각 열은 국가, 대륙, 연도, 기대수명, 인구, 1인당 국내 총생산을나타낸다. 그러면 다음과 같은 질문을 생각해볼 수 있다.\n",
    "\n",
    "- 연도별 평균 기대 수명은?\n",
    "- 기대 수명, 인구, GDP의 평균은?\n",
    "- 데이터를 대륙별로 나누어 통계를 계산하면?\n",
    "- 대륙별 국가 개수는?\n",
    "\n",
    "이런 질문의 답을 구할 수 있는 데이터 활용 방법을 알아보자."
   ],
   "id": "7cd4dbd43e28d9fb"
  },
  {
   "metadata": {},
   "cell_type": "code",
   "outputs": [],
   "execution_count": null,
   "source": "",
   "id": "d8e1dc6c5a0f4b15"
  }
 ],
 "metadata": {
  "kernelspec": {
   "display_name": "Python 3",
   "language": "python",
   "name": "python3"
  },
  "language_info": {
   "codemirror_mode": {
    "name": "ipython",
    "version": 2
   },
   "file_extension": ".py",
   "mimetype": "text/x-python",
   "name": "python",
   "nbconvert_exporter": "python",
   "pygments_lexer": "ipython2",
   "version": "2.7.6"
  }
 },
 "nbformat": 4,
 "nbformat_minor": 5
}
