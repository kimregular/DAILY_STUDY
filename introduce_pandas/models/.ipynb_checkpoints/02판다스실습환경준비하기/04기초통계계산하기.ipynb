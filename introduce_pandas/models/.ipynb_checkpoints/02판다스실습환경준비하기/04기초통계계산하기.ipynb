{
 "cells": [
  {
   "metadata": {},
   "cell_type": "markdown",
   "source": [
    "## 기초 통계 계산하기\n",
    "\n",
    "이전까지 데이터 추출방법을 알아보았다. 이번에는 추출한 데이터로 몇 가지 기초 통계를 계산해보자. "
   ],
   "id": "8bd786f1e7413760"
  },
  {
   "cell_type": "code",
   "id": "initial_id",
   "metadata": {
    "collapsed": true,
    "ExecuteTime": {
     "end_time": "2024-08-06T12:11:13.419675Z",
     "start_time": "2024-08-06T12:11:12.826701Z"
    }
   },
   "source": [
    "import pandas as pd\n",
    "df = pd.read_csv('data/gapminder.csv', sep='\\t')"
   ],
   "outputs": [],
   "execution_count": 2
  },
  {
   "metadata": {
    "ExecuteTime": {
     "end_time": "2024-08-06T12:11:13.428231Z",
     "start_time": "2024-08-06T12:11:13.420753Z"
    }
   },
   "cell_type": "code",
   "source": "print(df)",
   "id": "fc643698a1442d47",
   "outputs": [
    {
     "name": "stdout",
     "output_type": "stream",
     "text": [
      "          country continent  year  lifeExp       pop   gdpPercap\n",
      "0     Afghanistan      Asia  1952   28.801   8425333  779.445314\n",
      "1     Afghanistan      Asia  1957   30.332   9240934  820.853030\n",
      "2     Afghanistan      Asia  1962   31.997  10267083  853.100710\n",
      "3     Afghanistan      Asia  1967   34.020  11537966  836.197138\n",
      "4     Afghanistan      Asia  1972   36.088  13079460  739.981106\n",
      "...           ...       ...   ...      ...       ...         ...\n",
      "1699     Zimbabwe    Africa  1987   62.351   9216418  706.157306\n",
      "1700     Zimbabwe    Africa  1992   60.377  10704340  693.420786\n",
      "1701     Zimbabwe    Africa  1997   46.809  11404948  792.449960\n",
      "1702     Zimbabwe    Africa  2002   39.989  11926563  672.038623\n",
      "1703     Zimbabwe    Africa  2007   43.487  12311143  469.709298\n",
      "\n",
      "[1704 rows x 6 columns]\n"
     ]
    }
   ],
   "execution_count": 3
  },
  {
   "metadata": {},
   "cell_type": "markdown",
   "source": [
    "각 열은 국가, 대륙, 연도, 기대수명, 인구, 1인당 국내 총생산을나타낸다. 그러면 다음과 같은 질문을 생각해볼 수 있다.\n",
    "\n",
    "- 연도별 평균 기대 수명은?\n",
    "- 기대 수명, 인구, GDP의 평균은?\n",
    "- 데이터를 대륙별로 나누어 통계를 계산하면?\n",
    "- 대륙별 국가 개수는?\n",
    "\n",
    "이런 질문의 답을 구할 수 있는 데이터 활용 방법을 알아보자."
   ],
   "id": "7cd4dbd43e28d9fb"
  },
  {
   "metadata": {},
   "cell_type": "markdown",
   "source": [
    "### 그룹화한 데이터의 평균 구하기\n",
    "## 1개 열 그룹화하기\n",
    "\n",
    "답을 구하려면 그룹화한 계산을 수행해야 한다. 즉, 평균이나 빈도를 구할 때 데이터의 일부를 선택하여 게산한다. 그룹화한 계산은 분할-적용-결합 과정으로 생각할 수 있다. 먼저 데이터를 여러 부분으로 분할한 다음, 분할한 각 부분에 선택한 함수나 연산을 적용하고 마지막으로 각 결과를 하나의 데이터프레임으로 결합한다.\n",
    "\n",
    "데이터프레임의 `groupby()` 메서드를 사용하면 데이터를 그룹화할 수 있으며 그룹화한 데이터를 대상으로 계산을 수행할 수 있다.\n",
    "\n",
    "1. 먼저 앞에서 언급한 첫 번째 질문인 연도별 평균 기대 수명을 알아보자. 다음 순서에 따라 질문의 답을 구한다.\n",
    "    1. 데이터를 연도별로 그룹화한다.\n",
    "    2. lifeExp 열을 선택한다.\n",
    "    3. 평균을 계산한다.\n",
    "\n",
    "이 과정은 코드 한 줄로 수행할 수 있다."
   ],
   "id": "b01ea49d26e83f87"
  },
  {
   "metadata": {
    "ExecuteTime": {
     "end_time": "2024-08-06T12:11:13.434165Z",
     "start_time": "2024-08-06T12:11:13.429072Z"
    }
   },
   "cell_type": "code",
   "source": "print(df.groupby('year')['lifeExp'].mean())",
   "id": "d8e1dc6c5a0f4b15",
   "outputs": [
    {
     "name": "stdout",
     "output_type": "stream",
     "text": [
      "year\n",
      "1952    49.057620\n",
      "1957    51.507401\n",
      "1962    53.609249\n",
      "1967    55.678290\n",
      "1972    57.647386\n",
      "1977    59.570157\n",
      "1982    61.533197\n",
      "1987    63.212613\n",
      "1992    64.160338\n",
      "1997    65.014676\n",
      "2002    65.694923\n",
      "2007    67.007423\n",
      "Name: lifeExp, dtype: float64\n"
     ]
    }
   ],
   "execution_count": 4
  },
  {
   "metadata": {
    "ExecuteTime": {
     "end_time": "2024-08-06T12:11:13.441609Z",
     "start_time": "2024-08-06T12:11:13.436283Z"
    }
   },
   "cell_type": "code",
   "source": "print(df.groupby('year')['lifeExp'].mean())",
   "id": "d33d650af70a9429",
   "outputs": [
    {
     "name": "stdout",
     "output_type": "stream",
     "text": [
      "year\n",
      "1952    49.057620\n",
      "1957    51.507401\n",
      "1962    53.609249\n",
      "1967    55.678290\n",
      "1972    57.647386\n",
      "1977    59.570157\n",
      "1982    61.533197\n",
      "1987    63.212613\n",
      "1992    64.160338\n",
      "1997    65.014676\n",
      "2002    65.694923\n",
      "2007    67.007423\n",
      "Name: lifeExp, dtype: float64\n"
     ]
    }
   ],
   "execution_count": 5
  },
  {
   "metadata": {
    "ExecuteTime": {
     "end_time": "2024-08-06T12:11:13.446752Z",
     "start_time": "2024-08-06T12:11:13.442318Z"
    }
   },
   "cell_type": "code",
   "source": "print(df.groupby('year')['gdpPercap'].mean())",
   "id": "4b837f1b7caa58f",
   "outputs": [
    {
     "name": "stdout",
     "output_type": "stream",
     "text": [
      "year\n",
      "1952     3725.276046\n",
      "1957     4299.408345\n",
      "1962     4725.812342\n",
      "1967     5483.653047\n",
      "1972     6770.082815\n",
      "1977     7313.166421\n",
      "1982     7518.901673\n",
      "1987     7900.920218\n",
      "1992     8158.608521\n",
      "1997     9090.175363\n",
      "2002     9917.848365\n",
      "2007    11680.071820\n",
      "Name: gdpPercap, dtype: float64\n"
     ]
    }
   ],
   "execution_count": 6
  },
  {
   "metadata": {
    "ExecuteTime": {
     "end_time": "2024-08-06T12:11:13.455372Z",
     "start_time": "2024-08-06T12:11:13.448525Z"
    }
   },
   "cell_type": "code",
   "source": "df.groupby('country')['pop'].mean()",
   "id": "fd73460b8853eac3",
   "outputs": [
    {
     "data": {
      "text/plain": [
       "country\n",
       "Afghanistan           1.582372e+07\n",
       "Albania               2.580249e+06\n",
       "Algeria               1.987541e+07\n",
       "Angola                7.309390e+06\n",
       "Argentina             2.860224e+07\n",
       "                          ...     \n",
       "Vietnam               5.456857e+07\n",
       "West Bank and Gaza    1.848606e+06\n",
       "Yemen, Rep.           1.084319e+07\n",
       "Zambia                6.353805e+06\n",
       "Zimbabwe              7.641966e+06\n",
       "Name: pop, Length: 142, dtype: float64"
      ]
     },
     "execution_count": 7,
     "metadata": {},
     "output_type": "execute_result"
    }
   ],
   "execution_count": 7
  },
  {
   "metadata": {},
   "cell_type": "markdown",
   "source": [
    "### 2개 이상의 열 그룹화하기\n",
    "\n",
    "두 개 이상의 변수로 데이터를 그룹화하고 싶다면 열 데이터를 추출할 때와 마찬가지로 리스트를 사용하여 열을 지정한다.\n",
    "\n",
    "1. 리스트를 사용하여 그룹화할 열을 지정한다."
   ],
   "id": "29c99148621e3634"
  },
  {
   "metadata": {
    "ExecuteTime": {
     "end_time": "2024-08-06T12:11:29.967212Z",
     "start_time": "2024-08-06T12:11:29.959895Z"
    }
   },
   "cell_type": "code",
   "source": "multi_group_var = df.groupby(['year', 'continent'])[['lifeExp', 'gdpPercap']].mean()",
   "id": "768111a07c452e81",
   "outputs": [],
   "execution_count": 10
  },
  {
   "metadata": {},
   "cell_type": "markdown",
   "source": "2. 처음 10개 행을 보면 다음과 같다.",
   "id": "9d589848daa85780"
  },
  {
   "metadata": {
    "ExecuteTime": {
     "end_time": "2024-08-06T12:12:03.969611Z",
     "start_time": "2024-08-06T12:12:03.965117Z"
    }
   },
   "cell_type": "code",
   "source": "print(multi_group_var)",
   "id": "321a4d41c9b31907",
   "outputs": [
    {
     "name": "stdout",
     "output_type": "stream",
     "text": [
      "                  lifeExp     gdpPercap\n",
      "year continent                         \n",
      "1952 Africa     39.135500   1252.572466\n",
      "     Americas   53.279840   4079.062552\n",
      "     Asia       46.314394   5195.484004\n",
      "     Europe     64.408500   5661.057435\n",
      "     Oceania    69.255000  10298.085650\n",
      "1957 Africa     41.266346   1385.236062\n",
      "     Americas   55.960280   4616.043733\n",
      "     Asia       49.318544   5787.732940\n",
      "     Europe     66.703067   6963.012816\n",
      "     Oceania    70.295000  11598.522455\n",
      "1962 Africa     43.319442   1598.078825\n",
      "     Americas   58.398760   4901.541870\n",
      "     Asia       51.563223   5729.369625\n",
      "     Europe     68.539233   8365.486814\n",
      "     Oceania    71.085000  12696.452430\n",
      "1967 Africa     45.334538   2050.363801\n",
      "     Americas   60.410920   5668.253496\n",
      "     Asia       54.663640   5971.173374\n",
      "     Europe     69.737600  10143.823757\n",
      "     Oceania    71.310000  14495.021790\n",
      "1972 Africa     47.450942   2339.615674\n",
      "     Americas   62.394920   6491.334139\n",
      "     Asia       57.319269   8187.468699\n",
      "     Europe     70.775033  12479.575246\n",
      "     Oceania    71.910000  16417.333380\n",
      "1977 Africa     49.580423   2585.938508\n",
      "     Americas   64.391560   7352.007126\n",
      "     Asia       59.610556   7791.314020\n",
      "     Europe     71.937767  14283.979110\n",
      "     Oceania    72.855000  17283.957605\n",
      "1982 Africa     51.592865   2481.592960\n",
      "     Americas   66.228840   7506.737088\n",
      "     Asia       62.617939   7434.135157\n",
      "     Europe     72.806400  15617.896551\n",
      "     Oceania    74.290000  18554.709840\n",
      "1987 Africa     53.344788   2282.668991\n",
      "     Americas   68.090720   7793.400261\n",
      "     Asia       64.851182   7608.226508\n",
      "     Europe     73.642167  17214.310727\n",
      "     Oceania    75.320000  20448.040160\n",
      "1992 Africa     53.629577   2281.810333\n",
      "     Americas   69.568360   8044.934406\n",
      "     Asia       66.537212   8639.690248\n",
      "     Europe     74.440100  17061.568084\n",
      "     Oceania    76.945000  20894.045885\n",
      "1997 Africa     53.598269   2378.759555\n",
      "     Americas   71.150480   8889.300863\n",
      "     Asia       68.020515   9834.093295\n",
      "     Europe     75.505167  19076.781802\n",
      "     Oceania    78.190000  24024.175170\n",
      "2002 Africa     53.325231   2599.385159\n",
      "     Americas   72.422040   9287.677107\n",
      "     Asia       69.233879  10174.090397\n",
      "     Europe     76.700600  21711.732422\n",
      "     Oceania    79.740000  26938.778040\n",
      "2007 Africa     54.806038   3089.032605\n",
      "     Americas   73.608120  11003.031625\n",
      "     Asia       70.728485  12473.026870\n",
      "     Europe     77.648600  25054.481636\n",
      "     Oceania    80.719500  29810.188275\n"
     ]
    }
   ],
   "execution_count": 11
  },
  {
   "metadata": {},
   "cell_type": "markdown",
   "source": "출력 결과를 보면 연도와 대륙별로 데이터를 그룹화했으며 연도에 따른 대륙별 기대 수명과 GDP 평균을 확인할 수 있다. 지금까지 살펴본 출력 결과와 양식이 조금 다르다. year, continent, lifeExp, gpdPercap 열 이름이 서로 다른 줄에 출력되었다. 또한 year와 continent 열이 계층 구조를 이룬다.  ",
   "id": "ffdb40b96bfe7d2e"
  },
  {
   "metadata": {},
   "cell_type": "markdown",
   "source": "3. 기존 데이터프레임 구조와 같이 계층 구조를 없애고 데이터프레임을 평탄화하고 싶다면 `reset_index()` 메서드를 사용한다.",
   "id": "92fe2b195300581d"
  },
  {
   "metadata": {
    "ExecuteTime": {
     "end_time": "2024-08-06T12:18:13.116404Z",
     "start_time": "2024-08-06T12:18:13.111702Z"
    }
   },
   "cell_type": "code",
   "source": [
    "flat = multi_group_var.reset_index()\n",
    "print(flat)"
   ],
   "id": "d964c03fc17cce06",
   "outputs": [
    {
     "name": "stdout",
     "output_type": "stream",
     "text": [
      "    year continent    lifeExp     gdpPercap\n",
      "0   1952    Africa  39.135500   1252.572466\n",
      "1   1952  Americas  53.279840   4079.062552\n",
      "2   1952      Asia  46.314394   5195.484004\n",
      "3   1952    Europe  64.408500   5661.057435\n",
      "4   1952   Oceania  69.255000  10298.085650\n",
      "5   1957    Africa  41.266346   1385.236062\n",
      "6   1957  Americas  55.960280   4616.043733\n",
      "7   1957      Asia  49.318544   5787.732940\n",
      "8   1957    Europe  66.703067   6963.012816\n",
      "9   1957   Oceania  70.295000  11598.522455\n",
      "10  1962    Africa  43.319442   1598.078825\n",
      "11  1962  Americas  58.398760   4901.541870\n",
      "12  1962      Asia  51.563223   5729.369625\n",
      "13  1962    Europe  68.539233   8365.486814\n",
      "14  1962   Oceania  71.085000  12696.452430\n",
      "15  1967    Africa  45.334538   2050.363801\n",
      "16  1967  Americas  60.410920   5668.253496\n",
      "17  1967      Asia  54.663640   5971.173374\n",
      "18  1967    Europe  69.737600  10143.823757\n",
      "19  1967   Oceania  71.310000  14495.021790\n",
      "20  1972    Africa  47.450942   2339.615674\n",
      "21  1972  Americas  62.394920   6491.334139\n",
      "22  1972      Asia  57.319269   8187.468699\n",
      "23  1972    Europe  70.775033  12479.575246\n",
      "24  1972   Oceania  71.910000  16417.333380\n",
      "25  1977    Africa  49.580423   2585.938508\n",
      "26  1977  Americas  64.391560   7352.007126\n",
      "27  1977      Asia  59.610556   7791.314020\n",
      "28  1977    Europe  71.937767  14283.979110\n",
      "29  1977   Oceania  72.855000  17283.957605\n",
      "30  1982    Africa  51.592865   2481.592960\n",
      "31  1982  Americas  66.228840   7506.737088\n",
      "32  1982      Asia  62.617939   7434.135157\n",
      "33  1982    Europe  72.806400  15617.896551\n",
      "34  1982   Oceania  74.290000  18554.709840\n",
      "35  1987    Africa  53.344788   2282.668991\n",
      "36  1987  Americas  68.090720   7793.400261\n",
      "37  1987      Asia  64.851182   7608.226508\n",
      "38  1987    Europe  73.642167  17214.310727\n",
      "39  1987   Oceania  75.320000  20448.040160\n",
      "40  1992    Africa  53.629577   2281.810333\n",
      "41  1992  Americas  69.568360   8044.934406\n",
      "42  1992      Asia  66.537212   8639.690248\n",
      "43  1992    Europe  74.440100  17061.568084\n",
      "44  1992   Oceania  76.945000  20894.045885\n",
      "45  1997    Africa  53.598269   2378.759555\n",
      "46  1997  Americas  71.150480   8889.300863\n",
      "47  1997      Asia  68.020515   9834.093295\n",
      "48  1997    Europe  75.505167  19076.781802\n",
      "49  1997   Oceania  78.190000  24024.175170\n",
      "50  2002    Africa  53.325231   2599.385159\n",
      "51  2002  Americas  72.422040   9287.677107\n",
      "52  2002      Asia  69.233879  10174.090397\n",
      "53  2002    Europe  76.700600  21711.732422\n",
      "54  2002   Oceania  79.740000  26938.778040\n",
      "55  2007    Africa  54.806038   3089.032605\n",
      "56  2007  Americas  73.608120  11003.031625\n",
      "57  2007      Asia  70.728485  12473.026870\n",
      "58  2007    Europe  77.648600  25054.481636\n",
      "59  2007   Oceania  80.719500  29810.188275\n"
     ]
    }
   ],
   "execution_count": 13
  },
  {
   "metadata": {},
   "cell_type": "markdown",
   "source": [
    "### 그룹화한 데이터 개수 세기\n",
    "\n",
    "데이터 분석에서 평균만큼 개수를 구하는 일이 많다. 이번에는 그룹화한 데이터의 개수가 몇 개인지를 알아보자. 통계에서는 이를 빈도수라 부른다.\n",
    "\n",
    "1. 리시즈의 `nunique()` 메서드는 중복을 제외한 개수를 구한다. 예를 들어 continent 별 country 개수는 다음과 같이 구한다."
   ],
   "id": "9c671a61a83f09f2"
  },
  {
   "metadata": {},
   "cell_type": "code",
   "outputs": [],
   "execution_count": null,
   "source": "print(df.groupby('continent')['country'].nunique())",
   "id": "90f3fcf928fcda43"
  }
 ],
 "metadata": {
  "kernelspec": {
   "display_name": "Python 3",
   "language": "python",
   "name": "python3"
  },
  "language_info": {
   "codemirror_mode": {
    "name": "ipython",
    "version": 2
   },
   "file_extension": ".py",
   "mimetype": "text/x-python",
   "name": "python",
   "nbconvert_exporter": "python",
   "pygments_lexer": "ipython2",
   "version": "2.7.6"
  }
 },
 "nbformat": 4,
 "nbformat_minor": 5
}
