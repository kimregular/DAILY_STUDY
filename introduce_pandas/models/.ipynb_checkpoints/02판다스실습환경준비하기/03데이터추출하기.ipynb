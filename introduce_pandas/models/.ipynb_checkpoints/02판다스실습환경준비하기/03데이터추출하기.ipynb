{
 "cells": [
  {
   "metadata": {},
   "cell_type": "markdown",
   "source": [
    "## 데이터 추출하기  \n",
    "\n",
    "불러온 데이터 파일의 내용을 살펴보자.     \n",
    "단순하게 데이터프레임의 내용을 `print()`로 출력할 수도 있지만 대부분의 데이터는 다양한 정보를 포함하므로 그대로 출력하면 한눈에 내용을 파악하기 어렵다.     \n",
    "작은 단위로 데이터를 쪼개서 살펴보는 것이 좋다. 데이터프레임에 `head()` 메서드를 사용하면 가장 앞 5개 행을 확인할 수 있다."
   ],
   "id": "12d98009af0f96cc"
  },
  {
   "cell_type": "code",
   "id": "initial_id",
   "metadata": {
    "collapsed": true,
    "ExecuteTime": {
     "end_time": "2024-08-03T14:01:48.398474Z",
     "start_time": "2024-08-03T14:01:48.395353Z"
    }
   },
   "source": "import pandas as pd",
   "outputs": [],
   "execution_count": 5
  },
  {
   "metadata": {
    "ExecuteTime": {
     "end_time": "2024-08-03T14:02:02.645003Z",
     "start_time": "2024-08-03T14:02:02.638722Z"
    }
   },
   "cell_type": "code",
   "source": "df = pd.read_csv('data/gapminder.csv', sep=\"\\t\")",
   "id": "8354b1cfac5204ef",
   "outputs": [],
   "execution_count": 6
  },
  {
   "metadata": {
    "ExecuteTime": {
     "end_time": "2024-08-03T14:04:10.441559Z",
     "start_time": "2024-08-03T14:04:10.423699Z"
    }
   },
   "cell_type": "code",
   "source": "print(df.head())",
   "id": "a116b0d1617e5ebb",
   "outputs": [
    {
     "name": "stdout",
     "output_type": "stream",
     "text": [
      "       country continent  year  lifeExp       pop   gdpPercap\n",
      "0  Afghanistan      Asia  1952   28.801   8425333  779.445314\n",
      "1  Afghanistan      Asia  1957   30.332   9240934  820.853030\n",
      "2  Afghanistan      Asia  1962   31.997  10267083  853.100710\n",
      "3  Afghanistan      Asia  1967   34.020  11537966  836.197138\n",
      "4  Afghanistan      Asia  1972   36.088  13079460  739.981106\n"
     ]
    }
   ],
   "execution_count": 8
  },
  {
   "metadata": {},
   "cell_type": "markdown",
   "source": "이렇게 5개 행을 출력하면 데이터를 잘 불러왔는지, 열의 내용은 무엇인지 간단히 확인하기 좋다.",
   "id": "41bf72945bb30ed8"
  },
  {
   "metadata": {},
   "cell_type": "markdown",
   "source": [
    "### 열 데이터 추출하기\n",
    "\n",
    "특정 열의 데이터를 확인하자. 데이터프레임에 열 이름을 지정한 대괄호(`[]`)를 덧붙이면 데이터의 특정 열에 접근할 수 있다. \n",
    "\n",
    "1. 먼저 불러온 ㄴ데이터프레임 df에서 country 열 데이터를 추출하고 그 결과를 country_df 변수에 저장한다.\n",
    "2. 데이터프레임과 마찬가지로 각 열에서도 `head()` 메서드를 호출할 수 있다. 이 메서드로 country_df의 첫 5개 데이터를 살펴보자.\n",
    "3. `head()`와 반대로 마지막 5개 행을 출력하는 `tail()` 메서드도 있다. country_df 의 마지막 5개 데이터를 살펴보자.\n"
   ],
   "id": "46d733024f8c5c57"
  },
  {
   "metadata": {
    "ExecuteTime": {
     "end_time": "2024-08-03T14:07:39.174597Z",
     "start_time": "2024-08-03T14:07:39.167485Z"
    }
   },
   "cell_type": "code",
   "source": "country_df = df['country']",
   "id": "fe060fbcb1dfbe60",
   "outputs": [],
   "execution_count": 9
  },
  {
   "metadata": {
    "ExecuteTime": {
     "end_time": "2024-08-03T14:07:45.399110Z",
     "start_time": "2024-08-03T14:07:45.396843Z"
    }
   },
   "cell_type": "code",
   "source": "print(country_df.head())",
   "id": "b28ac99ea933e3b5",
   "outputs": [
    {
     "name": "stdout",
     "output_type": "stream",
     "text": [
      "0    Afghanistan\n",
      "1    Afghanistan\n",
      "2    Afghanistan\n",
      "3    Afghanistan\n",
      "4    Afghanistan\n",
      "Name: country, dtype: object\n"
     ]
    }
   ],
   "execution_count": 10
  },
  {
   "metadata": {
    "ExecuteTime": {
     "end_time": "2024-08-03T14:08:00.964587Z",
     "start_time": "2024-08-03T14:08:00.962588Z"
    }
   },
   "cell_type": "code",
   "source": "print(country_df.tail())",
   "id": "5b3b6e1203d22bda",
   "outputs": [
    {
     "name": "stdout",
     "output_type": "stream",
     "text": [
      "1699    Zimbabwe\n",
      "1700    Zimbabwe\n",
      "1701    Zimbabwe\n",
      "1702    Zimbabwe\n",
      "1703    Zimbabwe\n",
      "Name: country, dtype: object\n"
     ]
    }
   ],
   "execution_count": 11
  },
  {
   "metadata": {},
   "cell_type": "markdown",
   "source": [
    "### 리스트로 열 데이터 추출하기\n",
    "\n",
    "1. 열 이름으로 여러 열의 데이터를 추출하고 싶다면 대괄호 안에 열 이름 리스트를 전달한다. 이때 대괄호는 `[[]]`와 같이 이중으로 중첩한다. 바깥쪽 대괄호는 데이터프레임에서 열을 추출한다는 뜻이고 안쪽 대괄호는 선택할 열 목록을 지정한 파이썬 리스트이다.\n",
    "2. df 에서 country, continent, year 등 3개 열 데이터를 추출하고 그 결과를 subset 변수에 저장하자"
   ],
   "id": "bc05436bb95020c2"
  },
  {
   "metadata": {
    "ExecuteTime": {
     "end_time": "2024-08-03T14:10:17.339692Z",
     "start_time": "2024-08-03T14:10:17.328974Z"
    }
   },
   "cell_type": "code",
   "source": "subset = df[[ 'country', 'continent', 'year']]",
   "id": "6f1575612ad5b932",
   "outputs": [],
   "execution_count": 12
  },
  {
   "metadata": {},
   "cell_type": "markdown",
   "source": "sebset을 출력하면 리스트로 지정한 3개 열을 표시한다.",
   "id": "2c1cd0b4352d345a"
  },
  {
   "metadata": {
    "ExecuteTime": {
     "end_time": "2024-08-03T14:10:51.463929Z",
     "start_time": "2024-08-03T14:10:51.453487Z"
    }
   },
   "cell_type": "code",
   "source": "print(subset.head())",
   "id": "d8029396da5033eb",
   "outputs": [
    {
     "name": "stdout",
     "output_type": "stream",
     "text": [
      "       country continent  year\n",
      "0  Afghanistan      Asia  1952\n",
      "1  Afghanistan      Asia  1957\n",
      "2  Afghanistan      Asia  1962\n",
      "3  Afghanistan      Asia  1967\n",
      "4  Afghanistan      Asia  1972\n"
     ]
    }
   ],
   "execution_count": 13
  },
  {
   "metadata": {},
   "cell_type": "markdown",
   "source": [
    "#### 주의할 점\n",
    "\n",
    "데이터프레임에 대괄호를 덧붙이는 대괄호 표기법에 열 이름이 아닌 열 위치를 전달하면 오류가 발생한다. 예를 들어 첫 번째 열을 추출한다는 의미로 0을 지정하면 오류가 발생한다.\n",
    "\n",
    "```python\n",
    "df[0] # error! \n",
    "```\n",
    "\n",
    "대괄호 표기법은 열 이름으로 데이터를 추출할 때만 사용할 수 있다는 점에 주의하자."
   ],
   "id": "f14772ef3097dac1"
  },
  {
   "metadata": {},
   "cell_type": "markdown",
   "source": "### 열 데이터를 추출하는 두 가지 방법의 차이점 이해하기",
   "id": "62b9d5aba82f4e63"
  },
  {
   "metadata": {},
   "cell_type": "code",
   "outputs": [],
   "execution_count": null,
   "source": "",
   "id": "b22d594be480b2c8"
  }
 ],
 "metadata": {
  "kernelspec": {
   "display_name": "Python 3",
   "language": "python",
   "name": "python3"
  },
  "language_info": {
   "codemirror_mode": {
    "name": "ipython",
    "version": 2
   },
   "file_extension": ".py",
   "mimetype": "text/x-python",
   "name": "python",
   "nbconvert_exporter": "python",
   "pygments_lexer": "ipython2",
   "version": "2.7.6"
  }
 },
 "nbformat": 4,
 "nbformat_minor": 5
}
