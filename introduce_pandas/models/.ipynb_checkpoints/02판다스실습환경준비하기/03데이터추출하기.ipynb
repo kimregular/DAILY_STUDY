{
 "cells": [
  {
   "metadata": {},
   "cell_type": "markdown",
   "source": [
    "## 데이터 추출하기  \n",
    "\n",
    "불러온 데이터 파일의 내용을 살펴보자.     \n",
    "단순하게 데이터프레임의 내용을 `print()`로 출력할 수도 있지만 대부분의 데이터는 다양한 정보를 포함하므로 그대로 출력하면 한눈에 내용을 파악하기 어렵다.     \n",
    "작은 단위로 데이터를 쪼개서 살펴보는 것이 좋다. 데이터프레임에 `head()` 메서드를 사용하면 가장 앞 5개 행을 확인할 수 있다."
   ],
   "id": "12d98009af0f96cc"
  },
  {
   "cell_type": "code",
   "id": "initial_id",
   "metadata": {
    "collapsed": true,
    "ExecuteTime": {
     "end_time": "2024-08-03T14:01:48.398474Z",
     "start_time": "2024-08-03T14:01:48.395353Z"
    }
   },
   "source": "import pandas as pd",
   "outputs": [],
   "execution_count": 5
  },
  {
   "metadata": {
    "ExecuteTime": {
     "end_time": "2024-08-03T14:02:02.645003Z",
     "start_time": "2024-08-03T14:02:02.638722Z"
    }
   },
   "cell_type": "code",
   "source": "df = pd.read_csv('data/gapminder.csv', sep=\"\\t\")",
   "id": "8354b1cfac5204ef",
   "outputs": [],
   "execution_count": 6
  },
  {
   "metadata": {
    "ExecuteTime": {
     "end_time": "2024-08-03T14:04:10.441559Z",
     "start_time": "2024-08-03T14:04:10.423699Z"
    }
   },
   "cell_type": "code",
   "source": "print(df.head())",
   "id": "a116b0d1617e5ebb",
   "outputs": [
    {
     "name": "stdout",
     "output_type": "stream",
     "text": [
      "       country continent  year  lifeExp       pop   gdpPercap\n",
      "0  Afghanistan      Asia  1952   28.801   8425333  779.445314\n",
      "1  Afghanistan      Asia  1957   30.332   9240934  820.853030\n",
      "2  Afghanistan      Asia  1962   31.997  10267083  853.100710\n",
      "3  Afghanistan      Asia  1967   34.020  11537966  836.197138\n",
      "4  Afghanistan      Asia  1972   36.088  13079460  739.981106\n"
     ]
    }
   ],
   "execution_count": 8
  },
  {
   "metadata": {},
   "cell_type": "markdown",
   "source": "이렇게 5개 행을 출력하면 데이터를 잘 불러왔는지, 열의 내용은 무엇인지 간단히 확인하기 좋다.",
   "id": "41bf72945bb30ed8"
  },
  {
   "metadata": {},
   "cell_type": "markdown",
   "source": [
    "### 열 데이터 추출하기\n",
    "\n",
    "특정 열의 데이터를 확인하자. 데이터프레임에 열 이름을 지정한 대괄호(`[]`)를 덧붙이면 데이터의 특정 열에 접근할 수 있다. \n",
    "\n",
    "1. 먼저 불러온 데이터프레임 df에서 country 열 데이터를 추출하고 그 결과를 country_df 변수에 저장한다.\n",
    "2. 데이터프레임과 마찬가지로 각 열에서도 `head()` 메서드를 호출할 수 있다. 이 메서드로 country_df의 첫 5개 데이터를 살펴보자.\n",
    "3. `head()`와 반대로 마지막 5개 행을 출력하는 `tail()` 메서드도 있다. country_df 의 마지막 5개 데이터를 살펴보자.\n"
   ],
   "id": "46d733024f8c5c57"
  },
  {
   "metadata": {
    "ExecuteTime": {
     "end_time": "2024-08-03T14:07:39.174597Z",
     "start_time": "2024-08-03T14:07:39.167485Z"
    }
   },
   "cell_type": "code",
   "source": "country_df = df['country']",
   "id": "fe060fbcb1dfbe60",
   "outputs": [],
   "execution_count": 9
  },
  {
   "metadata": {
    "ExecuteTime": {
     "end_time": "2024-08-03T14:07:45.399110Z",
     "start_time": "2024-08-03T14:07:45.396843Z"
    }
   },
   "cell_type": "code",
   "source": "print(country_df.head())",
   "id": "b28ac99ea933e3b5",
   "outputs": [
    {
     "name": "stdout",
     "output_type": "stream",
     "text": [
      "0    Afghanistan\n",
      "1    Afghanistan\n",
      "2    Afghanistan\n",
      "3    Afghanistan\n",
      "4    Afghanistan\n",
      "Name: country, dtype: object\n"
     ]
    }
   ],
   "execution_count": 10
  },
  {
   "metadata": {
    "ExecuteTime": {
     "end_time": "2024-08-03T14:08:00.964587Z",
     "start_time": "2024-08-03T14:08:00.962588Z"
    }
   },
   "cell_type": "code",
   "source": "print(country_df.tail())",
   "id": "5b3b6e1203d22bda",
   "outputs": [
    {
     "name": "stdout",
     "output_type": "stream",
     "text": [
      "1699    Zimbabwe\n",
      "1700    Zimbabwe\n",
      "1701    Zimbabwe\n",
      "1702    Zimbabwe\n",
      "1703    Zimbabwe\n",
      "Name: country, dtype: object\n"
     ]
    }
   ],
   "execution_count": 11
  },
  {
   "metadata": {},
   "cell_type": "markdown",
   "source": [
    "### 리스트로 열 데이터 추출하기\n",
    "\n",
    "1. 열 이름으로 여러 열의 데이터를 추출하고 싶다면 대괄호 안에 열 이름 리스트를 전달한다. 이때 대괄호는 `[[]]`와 같이 이중으로 중첩한다. 바깥쪽 대괄호는 데이터프레임에서 열을 추출한다는 뜻이고 안쪽 대괄호는 선택할 열 목록을 지정한 파이썬 리스트이다.\n",
    "2. df 에서 country, continent, year 등 3개 열 데이터를 추출하고 그 결과를 subset 변수에 저장하자"
   ],
   "id": "bc05436bb95020c2"
  },
  {
   "metadata": {
    "ExecuteTime": {
     "end_time": "2024-08-03T14:10:17.339692Z",
     "start_time": "2024-08-03T14:10:17.328974Z"
    }
   },
   "cell_type": "code",
   "source": "subset = df[[ 'country', 'continent', 'year']]",
   "id": "6f1575612ad5b932",
   "outputs": [],
   "execution_count": 12
  },
  {
   "metadata": {},
   "cell_type": "markdown",
   "source": "sebset을 출력하면 리스트로 지정한 3개 열을 표시한다.",
   "id": "2c1cd0b4352d345a"
  },
  {
   "metadata": {
    "ExecuteTime": {
     "end_time": "2024-08-03T14:10:51.463929Z",
     "start_time": "2024-08-03T14:10:51.453487Z"
    }
   },
   "cell_type": "code",
   "source": "print(subset.head())",
   "id": "d8029396da5033eb",
   "outputs": [
    {
     "name": "stdout",
     "output_type": "stream",
     "text": [
      "       country continent  year\n",
      "0  Afghanistan      Asia  1952\n",
      "1  Afghanistan      Asia  1957\n",
      "2  Afghanistan      Asia  1962\n",
      "3  Afghanistan      Asia  1967\n",
      "4  Afghanistan      Asia  1972\n"
     ]
    }
   ],
   "execution_count": 13
  },
  {
   "metadata": {},
   "cell_type": "markdown",
   "source": [
    "#### 주의할 점\n",
    "\n",
    "데이터프레임에 대괄호를 덧붙이는 대괄호 표기법에 열 이름이 아닌 열 위치를 전달하면 오류가 발생한다. 예를 들어 첫 번째 열을 추출한다는 의미로 0을 지정하면 오류가 발생한다.\n",
    "\n",
    "```python\n",
    "df[0] # error! \n",
    "```\n",
    "\n",
    "대괄호 표기법은 열 이름으로 데이터를 추출할 때만 사용할 수 있다는 점에 주의하자."
   ],
   "id": "f14772ef3097dac1"
  },
  {
   "metadata": {},
   "cell_type": "markdown",
   "source": [
    "### 열 데이터를 추출하는 두 가지 방법의 차이점 이해하기\n",
    "\n",
    "데이터프레임에서 열 데이터를 추출하는 방법으로 대괄호에 열 이름을 문자열로 지정하거나 열 이름을 담은 리스트를 넣는 두 가지 방법을 알아봤다. 두 방법의 차이점은 반환하는 객체의 자료형이 다르다는 점이다.  \n",
    "\n",
    "\n",
    "1. 열의 이름을 문자열로 지정하여 열 데이터를 추출하면 시리즈 전체를 결과로 반환한다. df에서 country 열 데이터를 추출한다고 했을 때 열 이름을 대괄호에 넣어 열 데이털르 추출하고 그 결과를 country_df에 저장해보자. `type()` 함수로 자료형을 확인하면 시리즈 객체라는 것을 알 수 있다.\n",
    "\n",
    "\n"
   ],
   "id": "62b9d5aba82f4e63"
  },
  {
   "metadata": {
    "ExecuteTime": {
     "end_time": "2024-08-03T14:19:40.192660Z",
     "start_time": "2024-08-03T14:19:40.188571Z"
    }
   },
   "cell_type": "code",
   "source": "print(type(country_df))",
   "id": "b22d594be480b2c8",
   "outputs": [
    {
     "name": "stdout",
     "output_type": "stream",
     "text": [
      "<class 'pandas.core.series.Series'>\n"
     ]
    }
   ],
   "execution_count": 14
  },
  {
   "metadata": {},
   "cell_type": "markdown",
   "source": "2. country_df를 print() 로 출력하면 데이터프레임 객체와 조금 다른 형식으로 내용을 보여준다. 데이터프레임을 출력했을 때와는 다르게 위가 아닌 아래에 열 이름을 출력하며 마지막 줄은 행과 열 개수가 아닌 열 이름, 길이, 자료형 정보이다.",
   "id": "760f37db72d46e"
  },
  {
   "metadata": {
    "ExecuteTime": {
     "end_time": "2024-08-03T14:20:00.265097Z",
     "start_time": "2024-08-03T14:20:00.259357Z"
    }
   },
   "cell_type": "code",
   "source": "print(country_df)",
   "id": "bf7b522adb366a6e",
   "outputs": [
    {
     "name": "stdout",
     "output_type": "stream",
     "text": [
      "0       Afghanistan\n",
      "1       Afghanistan\n",
      "2       Afghanistan\n",
      "3       Afghanistan\n",
      "4       Afghanistan\n",
      "           ...     \n",
      "1699       Zimbabwe\n",
      "1700       Zimbabwe\n",
      "1701       Zimbabwe\n",
      "1702       Zimbabwe\n",
      "1703       Zimbabwe\n",
      "Name: country, Length: 1704, dtype: object\n"
     ]
    }
   ],
   "execution_count": 15
  },
  {
   "metadata": {},
   "cell_type": "markdown",
   "source": "3. 비교하고자 이번에는 country 열만 포함하는 요소가 하나인 리스트로 열 데이터를 추출해보자. 추출한 결과를 country_df_list에 저장하고 `type()` 함수를 사용하여 자료형을 확인한다. country_df_list의 자료형은 country_df와 다르게 데이터프레임 객체임을 알 수 있다. 이와 같이 대괄호에 리스트를 전달하면 항상 DataFrame 객체를 반환한다.",
   "id": "465f54331d2aa5f7"
  },
  {
   "metadata": {
    "ExecuteTime": {
     "end_time": "2024-08-03T14:21:36.472486Z",
     "start_time": "2024-08-03T14:21:36.468890Z"
    }
   },
   "cell_type": "code",
   "source": [
    "country_df_list = df[['country']]\n",
    "print(type(country_df_list))"
   ],
   "id": "d68511c50b2bf0e1",
   "outputs": [
    {
     "name": "stdout",
     "output_type": "stream",
     "text": [
      "<class 'pandas.core.frame.DataFrame'>\n"
     ]
    }
   ],
   "execution_count": 20
  },
  {
   "metadata": {},
   "cell_type": "markdown",
   "source": "4. `print()`로 country_df_list의 출력 결과를 보면 앞서 살펴본 country_df와 형식이 다르다는 점을 확인할 수 있다.",
   "id": "c0b166499ddcbea2"
  },
  {
   "metadata": {
    "ExecuteTime": {
     "end_time": "2024-08-03T14:21:23.496794Z",
     "start_time": "2024-08-03T14:21:23.492417Z"
    }
   },
   "cell_type": "code",
   "source": "print(country_df_list)",
   "id": "5a849aeed7567a5f",
   "outputs": [
    {
     "name": "stdout",
     "output_type": "stream",
     "text": [
      "          country\n",
      "0     Afghanistan\n",
      "1     Afghanistan\n",
      "2     Afghanistan\n",
      "3     Afghanistan\n",
      "4     Afghanistan\n",
      "...           ...\n",
      "1699     Zimbabwe\n",
      "1700     Zimbabwe\n",
      "1701     Zimbabwe\n",
      "1702     Zimbabwe\n",
      "1703     Zimbabwe\n",
      "\n",
      "[1704 rows x 1 columns]\n"
     ]
    }
   ],
   "execution_count": 19
  },
  {
   "metadata": {},
   "cell_type": "markdown",
   "source": [
    "### 행 데이터 추출하기\n",
    "\n",
    "행 데이터는 행 이름이나 행 번호 등 다양한 방법으로 추출할 수 있다. 다음 표는 행 데이터를 추출할 때 사용하는 데이터프레임의 두 가지 속성을 나타낸다.\n",
    "\n",
    "|속성|설명|\n",
    "|---|---|\n",
    "|loc|행 이름을 기준으로 행 추출|\n",
    "|iloc| 행 번호를 기준으로 행 추출|\n",
    "\n",
    "표에서 알 수 있듯이 이 두 가지는 행을 추출하는 기준이 다르다."
   ],
   "id": "2a0b4be0dc430e28"
  },
  {
   "metadata": {},
   "cell_type": "markdown",
   "source": [
    "### 행 이름으로 데이터 추출하기\n",
    "\n",
    "1. 갭마인더 데이터셋을 다시 살펴보자."
   ],
   "id": "9cb859220da27fa5"
  },
  {
   "metadata": {
    "ExecuteTime": {
     "end_time": "2024-08-03T14:28:35.872557Z",
     "start_time": "2024-08-03T14:28:35.861326Z"
    }
   },
   "cell_type": "code",
   "source": "print(df)",
   "id": "f358b73629339154",
   "outputs": [
    {
     "name": "stdout",
     "output_type": "stream",
     "text": [
      "          country continent  year  lifeExp       pop   gdpPercap\n",
      "0     Afghanistan      Asia  1952   28.801   8425333  779.445314\n",
      "1     Afghanistan      Asia  1957   30.332   9240934  820.853030\n",
      "2     Afghanistan      Asia  1962   31.997  10267083  853.100710\n",
      "3     Afghanistan      Asia  1967   34.020  11537966  836.197138\n",
      "4     Afghanistan      Asia  1972   36.088  13079460  739.981106\n",
      "...           ...       ...   ...      ...       ...         ...\n",
      "1699     Zimbabwe    Africa  1987   62.351   9216418  706.157306\n",
      "1700     Zimbabwe    Africa  1992   60.377  10704340  693.420786\n",
      "1701     Zimbabwe    Africa  1997   46.809  11404948  792.449960\n",
      "1702     Zimbabwe    Africa  2002   39.989  11926563  672.038623\n",
      "1703     Zimbabwe    Africa  2007   43.487  12311143  469.709298\n",
      "\n",
      "[1704 rows x 6 columns]\n"
     ]
    }
   ],
   "execution_count": 21
  },
  {
   "metadata": {},
   "cell_type": "markdown",
   "source": "출력결과를 살펴보면 데이터프레임의 가장 왼쪽에 있는 행 번호를 확인할 수 있다. 이것이 판다스가 자동으로 매긴 DataFrame의 인덱스로, 칼럼 없는 행 번호이자 행 이름이다. 기본적으로 인덱스는 0부터 시작하는 번호지만, 시계열 데이터를 다룰 때는 타임스탬프와 같이 문자열로 직접 인덱스를 설정하기도 한다. 여기서는 기본 번호 그대로 사용한다.",
   "id": "eb1a5be123b266d3"
  },
  {
   "metadata": {},
   "cell_type": "markdown",
   "source": "2. 앞서 살펴보았듯이 데이터프레임의 loc 속성에 대괄호를 사용하여 인덱스(행 이름)를 전달하면 행 데이터를 추출할 수 있다. loc 속성의 대괄호에 0을 넣어 첫 번째 행 데이털르 추출하면 다음과 같은 결과가 나온다.",
   "id": "b2ff3e9d532a24cb"
  },
  {
   "metadata": {
    "ExecuteTime": {
     "end_time": "2024-08-03T14:31:24.837652Z",
     "start_time": "2024-08-03T14:31:24.825688Z"
    }
   },
   "cell_type": "code",
   "source": "print(df.loc[0])",
   "id": "5555fdb8f103172b",
   "outputs": [
    {
     "name": "stdout",
     "output_type": "stream",
     "text": [
      "country      Afghanistan\n",
      "continent           Asia\n",
      "year                1952\n",
      "lifeExp           28.801\n",
      "pop              8425333\n",
      "gdpPercap     779.445314\n",
      "Name: 0, dtype: object\n"
     ]
    }
   ],
   "execution_count": 22
  },
  {
   "metadata": {},
   "cell_type": "markdown",
   "source": "3. 이번에는 99를 사용하여 100번째 행 데이터를 추출해보자.",
   "id": "862aefb8dcadce7a"
  },
  {
   "metadata": {
    "ExecuteTime": {
     "end_time": "2024-08-03T14:32:07.562984Z",
     "start_time": "2024-08-03T14:32:07.539352Z"
    }
   },
   "cell_type": "code",
   "source": "print(df.loc[99])",
   "id": "faf4d84011181cf3",
   "outputs": [
    {
     "name": "stdout",
     "output_type": "stream",
     "text": [
      "country      Bangladesh\n",
      "continent          Asia\n",
      "year               1967\n",
      "lifeExp          43.453\n",
      "pop            62821884\n",
      "gdpPercap    721.186086\n",
      "Name: 99, dtype: object\n"
     ]
    }
   ],
   "execution_count": 23
  },
  {
   "metadata": {},
   "cell_type": "markdown",
   "source": [
    "파이썬에서는 리스트의 마지막 요소를 불러올 때 뒤에서 첫 번째 요소를 가리킨다는 의미로 -1을 사용한다. 그러나 loc 속성은 마지막 행의 데이터를 추출할 때 -1을 사용하면 오류가 발생한다. loc 속성은 행 이름을 참조하는데 -1이라는 행 이름은 없기 때문이다.\n",
    "\n",
    "```python\n",
    "print(df.loc[-1]) # error!\n",
    "```\n",
    "\n",
    "마지막 행 데이터를 추출하려면 다음고 ㅏ같이 행 개수를 구하고 행 개수에서 1을 뺀 값을 loc 속성에 전달하면 된다."
   ],
   "id": "14771fd0ff83617a"
  },
  {
   "metadata": {
    "ExecuteTime": {
     "end_time": "2024-08-03T14:35:27.804053Z",
     "start_time": "2024-08-03T14:35:27.794342Z"
    }
   },
   "cell_type": "code",
   "source": [
    "# shape 속성을 사용해서 행의 개수 구하기\n",
    "number_of_rows = df.shape[0]\n",
    "\n",
    "# 행의 개수에서 1을 뺀 값으로 마지막 행의 인덱스 구하기\n",
    "last_row_index = number_of_rows - 1\n",
    "\n",
    "# 마지막 행의 인덱스로 데이터 추출하기\n",
    "print(df.loc[last_row_index])"
   ],
   "id": "a827153de1fa9c4b",
   "outputs": [
    {
     "name": "stdout",
     "output_type": "stream",
     "text": [
      "country        Zimbabwe\n",
      "continent        Africa\n",
      "year               2007\n",
      "lifeExp          43.487\n",
      "pop            12311143\n",
      "gdpPercap    469.709298\n",
      "Name: 1703, dtype: object\n"
     ]
    }
   ],
   "execution_count": 26
  },
  {
   "metadata": {},
   "cell_type": "markdown",
   "source": "5. 마지막 행은 `tail()` 메서드로 구할 수도 있다. 행 개수를 의미하는 매개변수 n에 1을 지정하면 마지막 행의 데이터만 추출할 수 있다.",
   "id": "2da879226dc6dd91"
  },
  {
   "metadata": {
    "ExecuteTime": {
     "end_time": "2024-08-03T14:36:15.160777Z",
     "start_time": "2024-08-03T14:36:15.145506Z"
    }
   },
   "cell_type": "code",
   "source": "print(df.tail(1))",
   "id": "5e2d299d9e4e42af",
   "outputs": [
    {
     "name": "stdout",
     "output_type": "stream",
     "text": [
      "       country continent  year  lifeExp       pop   gdpPercap\n",
      "1703  Zimbabwe    Africa  2007   43.487  12311143  469.709298\n"
     ]
    }
   ],
   "execution_count": 27
  },
  {
   "metadata": {},
   "cell_type": "markdown",
   "source": "6. 마지막으로, 열과 같은 방법으로 행 데이터도 리스트를 사용하여 여러 개를 추출할 수 있다. 아래와 같이 첫 번째, 100번째, 1000번째 행의 데이터를 추출해보자.",
   "id": "18ff08308bb98d00"
  },
  {
   "metadata": {
    "ExecuteTime": {
     "end_time": "2024-08-03T14:37:42.281248Z",
     "start_time": "2024-08-03T14:37:42.269290Z"
    }
   },
   "cell_type": "code",
   "source": "print(df.loc[[0, 99, 999]])",
   "id": "9b27f914fbde8b94",
   "outputs": [
    {
     "name": "stdout",
     "output_type": "stream",
     "text": [
      "         country continent  year  lifeExp       pop    gdpPercap\n",
      "0    Afghanistan      Asia  1952   28.801   8425333   779.445314\n",
      "99    Bangladesh      Asia  1967   43.453  62821884   721.186086\n",
      "999     Mongolia      Asia  1967   51.253   1149500  1226.041130\n"
     ]
    }
   ],
   "execution_count": 28
  },
  {
   "metadata": {},
   "cell_type": "markdown",
   "source": [
    "### 행 번호로 행 데이터 추출하기\n",
    "\n",
    "1. iloc 속성은 행 데이터를 추출한다는 점과 대괄호를 쓴다는 점에서는 loc 속성과 같지만 행번호(행 위치)를 사용한다는 점이 다르다. iloc 속성을 사용하여 두 번째 행 데이터를 추출하자.\n",
    "\n",
    "* 갭마인더 데이터셋은 행 이름과 행 번호가 같으므로 두 속성을 같은 방식으로 사용할 수 있다. 그러나 인덱스를 직접 지정하여 행 이름과 행 번호가 다르면 결과는 달라진다."
   ],
   "id": "7a75308ac2cd9150"
  },
  {
   "metadata": {
    "ExecuteTime": {
     "end_time": "2024-08-03T14:45:19.284231Z",
     "start_time": "2024-08-03T14:45:19.274386Z"
    }
   },
   "cell_type": "code",
   "source": "print(df.iloc[1])",
   "id": "f94172d299ff4e9a",
   "outputs": [
    {
     "name": "stdout",
     "output_type": "stream",
     "text": [
      "country      Afghanistan\n",
      "continent           Asia\n",
      "year                1957\n",
      "lifeExp           30.332\n",
      "pop              9240934\n",
      "gdpPercap      820.85303\n",
      "Name: 1, dtype: object\n"
     ]
    }
   ],
   "execution_count": 29
  },
  {
   "metadata": {},
   "cell_type": "markdown",
   "source": "2. 이번에는 99를 입력해 100번째 행 데이터를 추출하자.",
   "id": "de1aeeb667925ab"
  },
  {
   "metadata": {
    "ExecuteTime": {
     "end_time": "2024-08-03T14:46:57.000468Z",
     "start_time": "2024-08-03T14:46:56.993334Z"
    }
   },
   "cell_type": "code",
   "source": "print(df.iloc[99])",
   "id": "dabc1a608af40f4e",
   "outputs": [
    {
     "name": "stdout",
     "output_type": "stream",
     "text": [
      "country      Bangladesh\n",
      "continent          Asia\n",
      "year               1967\n",
      "lifeExp          43.453\n",
      "pop            62821884\n",
      "gdpPercap    721.186086\n",
      "Name: 99, dtype: object\n"
     ]
    }
   ],
   "execution_count": 30
  },
  {
   "metadata": {},
   "cell_type": "markdown",
   "source": "3. loc 속서에서는 마지막 요소를 선택할 때 -1을 사용할 수 없었지만 iloc 속성에서는 사용할 수 있다. iloc 속성은특정 값이 아닌 요소의 위치, 즉 행 번호로 작동하기 때문이다.",
   "id": "b0bdccc0b280908a"
  },
  {
   "metadata": {
    "ExecuteTime": {
     "end_time": "2024-08-03T14:47:50.713059Z",
     "start_time": "2024-08-03T14:47:50.707365Z"
    }
   },
   "cell_type": "code",
   "source": "print(df.iloc[-1])",
   "id": "45c123c6b9a8b97c",
   "outputs": [
    {
     "name": "stdout",
     "output_type": "stream",
     "text": [
      "country        Zimbabwe\n",
      "continent        Africa\n",
      "year               2007\n",
      "lifeExp          43.487\n",
      "pop            12311143\n",
      "gdpPercap    469.709298\n",
      "Name: 1703, dtype: object\n"
     ]
    }
   ],
   "execution_count": 31
  },
  {
   "metadata": {},
   "cell_type": "markdown",
   "source": "4. loc 과 마찬가지로 iloc 도 리스트를 사용하여 행 데이터를 추출할 수 있다.",
   "id": "e40fc6de9c7aba0"
  },
  {
   "metadata": {
    "ExecuteTime": {
     "end_time": "2024-08-03T14:48:30.086759Z",
     "start_time": "2024-08-03T14:48:30.081827Z"
    }
   },
   "cell_type": "code",
   "source": "print(df.iloc[[0, 99, 999]])",
   "id": "97a63396610fafdc",
   "outputs": [
    {
     "name": "stdout",
     "output_type": "stream",
     "text": [
      "         country continent  year  lifeExp       pop    gdpPercap\n",
      "0    Afghanistan      Asia  1952   28.801   8425333   779.445314\n",
      "99    Bangladesh      Asia  1967   43.453  62821884   721.186086\n",
      "999     Mongolia      Asia  1967   51.253   1149500  1226.041130\n"
     ]
    }
   ],
   "execution_count": 32
  },
  {
   "metadata": {},
   "cell_type": "markdown",
   "source": [
    "### loc 과 iloc로 데이터 추출하기\n",
    "\n",
    "특정 행과 열을 함께 추출할 때 loc과 iloc는 대괄호와 함께 쉼표를 사용하는데, 쉼표 왼쪽은 행을 나타내고 오른쪽은 열을 나타낸다. 즉, `df.loc[[행], [열]]` 혹은 `df.iloc[[행], [열]]`과 같이 사용한다. 이때 loc에는 행 이름과 열 이름을 지정하고 iloc 에는 행 위치와 열 위치를 정수로 지정한다."
   ],
   "id": "374f47fd99c2cef2"
  },
  {
   "metadata": {},
   "cell_type": "markdown",
   "source": [
    "### 슬라이싱 구문으로 데이터 추출하기\n",
    "\n",
    "loc 와 iloc로 행이나 열 데이터를 추출하려면 슬라이싱 구문을 사용한다.  \n",
    "\n",
    "열 데이터를 추출하는 것은 특정 열의 모든 행 데이터를 가져와야 한다는 의미이므로 모든 행을 지정하는 방법이 필요하다. 슬라이싱 구문에서 콜론은 해당 축의 모든 값을 선택한다는 뜻으로, loc 와 iloc에도 그대로 적용할 수 있다. 즉, `df.loc[:, [열]]`은 특정 열의 모든 행 데이터를 뜻한다.\n",
    "\n",
    "1. loc 로 year와 pop 열 데이터를 추출하는 방법은 아래와 같다. 이때 콜론으로 행을 지정하여 year와 pop열의 모든 행 데이터를 가져온다."
   ],
   "id": "b4a4288695917be4"
  },
  {
   "metadata": {
    "ExecuteTime": {
     "end_time": "2024-08-03T14:53:49.145719Z",
     "start_time": "2024-08-03T14:53:49.135106Z"
    }
   },
   "cell_type": "code",
   "source": [
    "subset = df.loc[:,['year', 'pop']]\n",
    "print(subset)"
   ],
   "id": "62c112e20b62ecf8",
   "outputs": [
    {
     "name": "stdout",
     "output_type": "stream",
     "text": [
      "      year       pop\n",
      "0     1952   8425333\n",
      "1     1957   9240934\n",
      "2     1962  10267083\n",
      "3     1967  11537966\n",
      "4     1972  13079460\n",
      "...    ...       ...\n",
      "1699  1987   9216418\n",
      "1700  1992  10704340\n",
      "1701  1997  11404948\n",
      "1702  2002  11926563\n",
      "1703  2007  12311143\n",
      "\n",
      "[1704 rows x 2 columns]\n"
     ]
    }
   ],
   "execution_count": 33
  },
  {
   "metadata": {},
   "cell_type": "markdown",
   "source": "2. 이번에는 iloc 로 3, 5번째와 마지막 열 데이터를 추출해보자. loc 예제와 마찬가지로 콜론을 사용하여 모든 행 데이터를 가져온다.",
   "id": "b15a84f4ccfe5385"
  },
  {
   "metadata": {},
   "cell_type": "code",
   "outputs": [],
   "execution_count": null,
   "source": [
    "subset = df.iloc[:, [2, 4, -1]]\n",
    "print(subset)"
   ],
   "id": "3968a6fa423959c6"
  }
 ],
 "metadata": {
  "kernelspec": {
   "display_name": "Python 3",
   "language": "python",
   "name": "python3"
  },
  "language_info": {
   "codemirror_mode": {
    "name": "ipython",
    "version": 2
   },
   "file_extension": ".py",
   "mimetype": "text/x-python",
   "name": "python",
   "nbconvert_exporter": "python",
   "pygments_lexer": "ipython2",
   "version": "2.7.6"
  }
 },
 "nbformat": 4,
 "nbformat_minor": 5
}
