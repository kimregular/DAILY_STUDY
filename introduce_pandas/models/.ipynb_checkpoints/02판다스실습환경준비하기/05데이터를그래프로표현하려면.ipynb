{
 "cells": [
  {
   "metadata": {},
   "cell_type": "markdown",
   "source": [
    "# 데이터를 그래프로 표현하려면\n",
    "\n",
    "그래프와 같은 데이터 시각화는 데이터 분석 과정에서 매우 중요하다. 이렇게 하면 데이터를 이해하고 경향을 파악하는 등 많은 도움이 된다."
   ],
   "id": "ebf6005bd18b1943"
  },
  {
   "cell_type": "code",
   "id": "initial_id",
   "metadata": {
    "collapsed": true,
    "ExecuteTime": {
     "end_time": "2024-08-06T12:23:41.509716Z",
     "start_time": "2024-08-06T12:23:41.168895Z"
    }
   },
   "source": [
    "import pandas as pd\n",
    "df = pd.read_csv('data/gapminder.csv', sep='\\t')"
   ],
   "outputs": [],
   "execution_count": 1
  },
  {
   "metadata": {},
   "cell_type": "markdown",
   "source": [
    "### 데이터프레임으로 그래프 그리기\n",
    "\n",
    "1. 연도별 평균 기대 수명을 구해보자. 그리고 결과를 변수에 저장한다."
   ],
   "id": "59df44031508d390"
  },
  {
   "metadata": {
    "ExecuteTime": {
     "end_time": "2024-08-06T12:24:57.662468Z",
     "start_time": "2024-08-06T12:24:57.658735Z"
    }
   },
   "cell_type": "code",
   "source": "global_yearly_life_expectancy = df.groupby('year')['lifeExp'].mean()",
   "id": "88a36cd09a0f1e39",
   "outputs": [],
   "execution_count": 2
  },
  {
   "metadata": {
    "ExecuteTime": {
     "end_time": "2024-08-06T12:25:01.055228Z",
     "start_time": "2024-08-06T12:25:01.049439Z"
    }
   },
   "cell_type": "code",
   "source": "global_yearly_life_expectancy",
   "id": "1d9a282cdd5bb85a",
   "outputs": [
    {
     "data": {
      "text/plain": [
       "year\n",
       "1952    49.057620\n",
       "1957    51.507401\n",
       "1962    53.609249\n",
       "1967    55.678290\n",
       "1972    57.647386\n",
       "1977    59.570157\n",
       "1982    61.533197\n",
       "1987    63.212613\n",
       "1992    64.160338\n",
       "1997    65.014676\n",
       "2002    65.694923\n",
       "2007    67.007423\n",
       "Name: lifeExp, dtype: float64"
      ]
     },
     "execution_count": 3,
     "metadata": {},
     "output_type": "execute_result"
    }
   ],
   "execution_count": 3
  },
  {
   "metadata": {},
   "cell_type": "markdown",
   "source": "2. 데이터프레임을 대상으로 `plot()` 메서드를 호출하면 연도별 평균 기대 수명을 판다스 기본 그래프로 나타낸다.",
   "id": "77117871a9ddcb3c"
  },
  {
   "metadata": {},
   "cell_type": "code",
   "outputs": [],
   "execution_count": null,
   "source": "global_yearly_life_expectancy.plot()",
   "id": "f4f994a1b792fbf2"
  }
 ],
 "metadata": {
  "kernelspec": {
   "display_name": "Python 3",
   "language": "python",
   "name": "python3"
  },
  "language_info": {
   "codemirror_mode": {
    "name": "ipython",
    "version": 2
   },
   "file_extension": ".py",
   "mimetype": "text/x-python",
   "name": "python",
   "nbconvert_exporter": "python",
   "pygments_lexer": "ipython2",
   "version": "2.7.6"
  }
 },
 "nbformat": 4,
 "nbformat_minor": 5
}
