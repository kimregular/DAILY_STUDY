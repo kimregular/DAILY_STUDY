{
 "cells": [
  {
   "metadata": {},
   "cell_type": "markdown",
   "source": [
    "## 데이터셋 불러오기\n",
    "\n",
    "### 실습에서 사용할 데이터셋은 [여기](https://github.com/easysIT/doit_pandas)에서 다운로드할 수 있다."
   ],
   "id": "c2a64c53b9e56122"
  },
  {
   "metadata": {},
   "cell_type": "markdown",
   "source": [
    "판다스는 파이썬과 함께 제공되는 표준 라이브러리가 아니므로 먼저 주피터 노트북에서 새로운 노트북을 열어 라이브러리를 불러와야 한다.  \n",
    "이후 데이터셋 \"gapminder.csv\" 를 `pd.read_csv()` 메서드로 불러오자."
   ],
   "id": "67bc0dc972600b9b"
  },
  {
   "cell_type": "code",
   "id": "initial_id",
   "metadata": {
    "collapsed": true,
    "ExecuteTime": {
     "end_time": "2024-08-03T14:03:04.257059Z",
     "start_time": "2024-08-03T14:03:04.251389Z"
    }
   },
   "source": "import pandas as pd",
   "outputs": [],
   "execution_count": 11
  },
  {
   "metadata": {
    "ExecuteTime": {
     "end_time": "2024-08-03T14:03:04.331129Z",
     "start_time": "2024-08-03T14:03:04.321982Z"
    }
   },
   "cell_type": "code",
   "source": "df = pd.read_csv(\"data/gapminder.csv\", sep=\"\\t\")",
   "id": "e6105b52d67590f6",
   "outputs": [],
   "execution_count": 12
  },
  {
   "metadata": {},
   "cell_type": "markdown",
   "source": "csv 파일은 기본적으로 콤마(`,`)로 구분되어 있다고 가정한다. 그러나 `gapminder.tsv` 파일은 탭을 기준으로 구분되어 있다.  따라서 구분 값을 `read_csv()` 메서드에 알려줘야한다. 해당 동작은 `sep=` 파라미터로 처리될 수 있다.",
   "id": "7e00534d58120e33"
  },
  {
   "metadata": {
    "ExecuteTime": {
     "end_time": "2024-08-03T14:03:04.336176Z",
     "start_time": "2024-08-03T14:03:04.332113Z"
    }
   },
   "cell_type": "code",
   "source": "print(df)",
   "id": "1a6a74b5966e044f",
   "outputs": [
    {
     "name": "stdout",
     "output_type": "stream",
     "text": [
      "          country continent  year  lifeExp       pop   gdpPercap\n",
      "0     Afghanistan      Asia  1952   28.801   8425333  779.445314\n",
      "1     Afghanistan      Asia  1957   30.332   9240934  820.853030\n",
      "2     Afghanistan      Asia  1962   31.997  10267083  853.100710\n",
      "3     Afghanistan      Asia  1967   34.020  11537966  836.197138\n",
      "4     Afghanistan      Asia  1972   36.088  13079460  739.981106\n",
      "...           ...       ...   ...      ...       ...         ...\n",
      "1699     Zimbabwe    Africa  1987   62.351   9216418  706.157306\n",
      "1700     Zimbabwe    Africa  1992   60.377  10704340  693.420786\n",
      "1701     Zimbabwe    Africa  1997   46.809  11404948  792.449960\n",
      "1702     Zimbabwe    Africa  2002   39.989  11926563  672.038623\n",
      "1703     Zimbabwe    Africa  2007   43.487  12311143  469.709298\n",
      "\n",
      "[1704 rows x 6 columns]\n"
     ]
    }
   ],
   "execution_count": 13
  },
  {
   "metadata": {
    "ExecuteTime": {
     "end_time": "2024-08-03T14:03:04.339050Z",
     "start_time": "2024-08-03T14:03:04.337Z"
    }
   },
   "cell_type": "code",
   "source": "print(type(df))",
   "id": "230e2515bc4a01c5",
   "outputs": [
    {
     "name": "stdout",
     "output_type": "stream",
     "text": [
      "<class 'pandas.core.frame.DataFrame'>\n"
     ]
    }
   ],
   "execution_count": 14
  },
  {
   "metadata": {},
   "cell_type": "markdown",
   "source": [
    "데이터프레임 객체는 shape 속성을 사용해 저장된 데이터셋의 행과 열의 개수를 확인할 수 있다.   \n",
    "shape 속성은 첫 번째 값이 행 개수이고 두 번째 값이 열 개수인 튜플을 반환한다."
   ],
   "id": "4b3ea5c585714823"
  },
  {
   "metadata": {
    "ExecuteTime": {
     "end_time": "2024-08-03T14:03:04.343694Z",
     "start_time": "2024-08-03T14:03:04.340180Z"
    }
   },
   "cell_type": "code",
   "source": "df.shape",
   "id": "981ff92aa414a2a8",
   "outputs": [
    {
     "data": {
      "text/plain": [
       "(1704, 6)"
      ]
     },
     "execution_count": 15,
     "metadata": {},
     "output_type": "execute_result"
    }
   ],
   "execution_count": 15
  },
  {
   "metadata": {},
   "cell_type": "markdown",
   "source": [
    "결과를 보면 이 데이터셋은 1704개의 행과 6개의 열로 구성된다는 것을 확인할 수 있다.  \n",
    "참고로 shape는 메서드가 아니기 때문에 괄호를 붙이면 오류가 난다.\n",
    "  \n",
    "이번에는 데이터셋에 어떤 정보가 있는지 알아보자. shape 속성과 마찬가지로 columns 속성을 사용하면 데이터프레임의 열 이름을 확인할 수 있다. 불러온 데이터셋의 열 이름은 각각 country, continent, year, lifeExp, pop, pdfPercap 이다. "
   ],
   "id": "c21bc1b24db0b168"
  },
  {
   "metadata": {
    "ExecuteTime": {
     "end_time": "2024-08-03T14:03:04.347018Z",
     "start_time": "2024-08-03T14:03:04.344301Z"
    }
   },
   "cell_type": "code",
   "source": "df.columns",
   "id": "dd29f5b60585ee18",
   "outputs": [
    {
     "data": {
      "text/plain": [
       "Index(['country', 'continent', 'year', 'lifeExp', 'pop', 'gdpPercap'], dtype='object')"
      ]
     },
     "execution_count": 16,
     "metadata": {},
     "output_type": "execute_result"
    }
   ],
   "execution_count": 16
  },
  {
   "metadata": {},
   "cell_type": "markdown",
   "source": "데이터프레임 객체의 각 열은 같은 자료형이어야 하지만 각 행은 여러 가지 자료형일 수 있다. dtypes 속성으로 갭마인더 데이터셋의 각 열이 어떤 자료형인지를 확인할 수 있다.",
   "id": "77d6db29cb2d227d"
  },
  {
   "metadata": {
    "ExecuteTime": {
     "end_time": "2024-08-03T14:03:04.377274Z",
     "start_time": "2024-08-03T14:03:04.374411Z"
    }
   },
   "cell_type": "code",
   "source": "df.dtypes",
   "id": "d87f4e2305056407",
   "outputs": [
    {
     "data": {
      "text/plain": [
       "country       object\n",
       "continent     object\n",
       "year           int64\n",
       "lifeExp      float64\n",
       "pop            int64\n",
       "gdpPercap    float64\n",
       "dtype: object"
      ]
     },
     "execution_count": 17,
     "metadata": {},
     "output_type": "execute_result"
    }
   ],
   "execution_count": 17
  },
  {
   "metadata": {},
   "cell_type": "markdown",
   "source": "열의 자료형뿐만 아니라 데이터와 관련된 다양한 정보를 함께 확인하고 싶다면 `info()` 메서드를 사용한다.",
   "id": "2a5dc285e3c1eaa9"
  },
  {
   "metadata": {
    "ExecuteTime": {
     "end_time": "2024-08-03T14:03:04.456481Z",
     "start_time": "2024-08-03T14:03:04.449171Z"
    }
   },
   "cell_type": "code",
   "source": "df.info()",
   "id": "248c620bb83c0dbb",
   "outputs": [
    {
     "name": "stdout",
     "output_type": "stream",
     "text": [
      "<class 'pandas.core.frame.DataFrame'>\n",
      "RangeIndex: 1704 entries, 0 to 1703\n",
      "Data columns (total 6 columns):\n",
      " #   Column     Non-Null Count  Dtype  \n",
      "---  ------     --------------  -----  \n",
      " 0   country    1704 non-null   object \n",
      " 1   continent  1704 non-null   object \n",
      " 2   year       1704 non-null   int64  \n",
      " 3   lifeExp    1704 non-null   float64\n",
      " 4   pop        1704 non-null   int64  \n",
      " 5   gdpPercap  1704 non-null   float64\n",
      "dtypes: float64(2), int64(2), object(2)\n",
      "memory usage: 80.0+ KB\n"
     ]
    }
   ],
   "execution_count": 18
  },
  {
   "metadata": {},
   "cell_type": "markdown",
   "source": [
    "판다스의 자료형은 파이썬과 다르다!  \n",
    "country는 object로, year는 int64라는 자료형을 출력했다. 이처럼 판다스는 파이썬과는 다른 자료형을 사용한다. 다음 표를 보고 판다스와 파이썬의 자료형이 어떻게 다른지 알아두자.  \n",
    "\n",
    "| 판다스        | 파이썬      | 설명                           |\n",
    "|------------|----------|------------------------------|\n",
    "| object     | string   | 문자열, 가장 일반적인 자료형             |\n",
    "| datetime64 | datetime | 표준 라이브러리 datetime에서 제공하는 자료형 |\n",
    "| int64      | int      | 정수                           |\n",
    "| float64    | float    | 소수점이 있는 숫자                   |"
   ],
   "id": "ecb553f986d7f181"
  },
  {
   "metadata": {
    "ExecuteTime": {
     "end_time": "2024-08-03T14:03:04.504903Z",
     "start_time": "2024-08-03T14:03:04.503378Z"
    }
   },
   "cell_type": "code",
   "source": "",
   "id": "1ca69aa6593ec780",
   "outputs": [],
   "execution_count": 18
  }
 ],
 "metadata": {
  "kernelspec": {
   "display_name": "Python 3",
   "language": "python",
   "name": "python3"
  },
  "language_info": {
   "codemirror_mode": {
    "name": "ipython",
    "version": 2
   },
   "file_extension": ".py",
   "mimetype": "text/x-python",
   "name": "python",
   "nbconvert_exporter": "python",
   "pygments_lexer": "ipython2",
   "version": "2.7.6"
  }
 },
 "nbformat": 4,
 "nbformat_minor": 5
}
