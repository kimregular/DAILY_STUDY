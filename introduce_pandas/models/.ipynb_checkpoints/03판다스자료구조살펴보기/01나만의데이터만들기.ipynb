{
 "cells": [
  {
   "metadata": {},
   "cell_type": "markdown",
   "source": [
    "직접 입력해서 데이터프레임을 생성할 수도 있다. 이 방법은 작은 데이터 예제를 만들 때 특히 유용하다.\n",
    "\n",
    "## 시리즈와 데이터프레임 만들기\n",
    "### 시리즈 만들기\n",
    "판다스의 시리즈는 파이썬의 기본 자료구조인 리스트와 비슷한 1차원자료구조이며 데이터프레임의 각 열을 나타내는 자료형이다. 한 열에 있는 모든 값은 자료형(dtype)이 같아야한다. 예를 들어 어떤 열에 숫자 1과 일련의 문자열 'pizza'가 있다면 이 열의 전체 자료형은 문자열이 된다.\n",
    "\n",
    "데이터프레임은 각 키가 열의 이름이고 값이 시리즈인 딕셔너리로 볼 수 있다. 시리즈는 모든 요소의 자료형이 같아야 한다는 점을 제외하면 파이썬의 리스트와 매우 닯았다. 넘파이 라이브러리를 사용해 본 적이 있다면 이러한 자료구조가 ndarray와 같은 특징을 가진다고 이해하면 된다.\n",
    "\n",
    "1. 시리즈를 만드는 가장 쉬운 방법은 파이썬의 리스트를 사용하는 것이다. 여러 가지 자료형이 섞인 리스트로 시리즈를 생성하면 모든 자료형을 포괄할 수 있는 가장 일반적인 자료형으로 시리즈의 dtype을 설정한다. 판다스에서 가장 일반적인 자료형은 파이썬의 문자열과 같은 object이다. 예를 들어 정수 42와 문자열 'banana'로 이루어진 리스트로 시리즈를 생성하면 dtype은 다음과 같이 object로 설정된다."
   ],
   "id": "469eb5ed53b192cb"
  },
  {
   "cell_type": "code",
   "id": "initial_id",
   "metadata": {
    "collapsed": true,
    "ExecuteTime": {
     "end_time": "2024-10-30T13:53:59.953601Z",
     "start_time": "2024-10-30T13:53:58.740836Z"
    }
   },
   "source": "import pandas as pd",
   "outputs": [],
   "execution_count": 1
  },
  {
   "metadata": {
    "ExecuteTime": {
     "end_time": "2024-10-30T13:54:12.405402Z",
     "start_time": "2024-10-30T13:54:12.402876Z"
    }
   },
   "cell_type": "code",
   "source": [
    "s = pd.Series(['banana', 42])\n",
    "print(s)"
   ],
   "id": "5fc4fa62ab942b2d",
   "outputs": [
    {
     "name": "stdout",
     "output_type": "stream",
     "text": [
      "0    banana\n",
      "1        42\n",
      "dtype: object\n"
     ]
    }
   ],
   "execution_count": 2
  },
  {
   "metadata": {},
   "cell_type": "markdown",
   "source": "2. 출력 결과를 보면 시리즈의 왼쪽에 행 번호가 있다는 점을 확인할 수 있다. 이것이 시리즈의 인덱스이다. 시리즈에도 값에 이름을 할당할 수 있다. 다음과 같이 Series를 생성할 때 매개변수 index에 파이썬 리스트를 지정하면 행 이름 인덱스를 할당할 수 있다.",
   "id": "1e9017f4c13406b3"
  },
  {
   "metadata": {
    "ExecuteTime": {
     "end_time": "2024-10-30T13:56:20.205972Z",
     "start_time": "2024-10-30T13:56:20.201176Z"
    }
   },
   "cell_type": "code",
   "source": [
    "s = pd.Series(data = [\"Wes McKinney\", \"Creator of Pandas\"], index=[\"Person\", \"Who\"])\n",
    "print(s)"
   ],
   "id": "f456f2e97d6e3e63",
   "outputs": [
    {
     "name": "stdout",
     "output_type": "stream",
     "text": [
      "Person         Wes McKinney\n",
      "Who       Creator of Pandas\n",
      "dtype: object\n"
     ]
    }
   ],
   "execution_count": 3
  },
  {
   "metadata": {},
   "cell_type": "markdown",
   "source": [
    "### 데이터프레임 만들기\n",
    "\n",
    "여러 번 언급했듯이 데이터프레임은 시리즈 객체를 모든 딕셔너리라고 생각할 수 있다. 실제로 데이터프레임을 생성하는 가장 일반적인 방법 역시 딕셔너리를 사용하는 것이다. 딕셔너리의 키로 열 이름을 표현하고 값으로 열 내용을 설정한다.\n",
    "\n",
    "1. 다음과 같이 예제 데이터프레임 scientists를 생성하자."
   ],
   "id": "8470f4f926040688"
  },
  {
   "metadata": {
    "ExecuteTime": {
     "end_time": "2024-10-30T14:02:07.018175Z",
     "start_time": "2024-10-30T14:02:07.010305Z"
    }
   },
   "cell_type": "code",
   "source": [
    "scientists = pd.DataFrame({\n",
    "    \"Name\" : [\"Rosaline Franklin\", \"William Gosset\"],\n",
    "    \"Occupation\" : [\"Chemist\", \"Statistician\"],\n",
    "    \"Born\" : [\"1920-07-25\", \"1876-06-13\"],\n",
    "    \"Died\" : [\"1958-04-16\", \"1937-10-16\"],\n",
    "    \"Age\" : [37, 61]\n",
    "})\n",
    "print(scientists)"
   ],
   "id": "e603489f9efcd583",
   "outputs": [
    {
     "name": "stdout",
     "output_type": "stream",
     "text": [
      "                Name    Occupation        Born        Died  Age\n",
      "0  Rosaline Franklin       Chemist  1920-07-25  1958-04-16   37\n",
      "1     William Gosset  Statistician  1876-06-13  1937-10-16   61\n"
     ]
    }
   ],
   "execution_count": 5
  },
  {
   "metadata": {},
   "cell_type": "markdown",
   "source": "2. 데이터프레임 공식 문서를 보면 매개변수 columns를 사용하거나 열 순서를 지정할 수 있다. name 열의 값을 열 이름 인덱스로 사용하고 싶다면 매개변수 index에 해당 리스트를 지정하면 된다.",
   "id": "b69b856510f7e42b"
  },
  {
   "metadata": {
    "ExecuteTime": {
     "end_time": "2024-10-30T14:04:25.843541Z",
     "start_time": "2024-10-30T14:04:25.837767Z"
    }
   },
   "cell_type": "code",
   "source": [
    "scientists = pd.DataFrame(\n",
    "    data={\n",
    "        \"Occupation\": [\"Chemist\", \"Statistician\"],\n",
    "        \"Born\": [\"1920-07-25\", \"1876-06-13\"],\n",
    "        \"Died\": [\"1958-04-16\", \"1937-10-16\"],\n",
    "        \"Age\": [37, 61]\n",
    "    },\n",
    "    index=[\"Rosaline Franklin\", \"William Gosset\"],\n",
    "    columns=[\"Occupation\",\n",
    "             \"Born\",\n",
    "             \"Died\",\n",
    "             \"Age\"]\n",
    ")\n",
    "print(scientists)"
   ],
   "id": "5a1d6bc8d593e11b",
   "outputs": [
    {
     "name": "stdout",
     "output_type": "stream",
     "text": [
      "                     Occupation        Born        Died  Age\n",
      "Rosaline Franklin       Chemist  1920-07-25  1958-04-16   37\n",
      "William Gosset     Statistician  1876-06-13  1937-10-16   61\n"
     ]
    }
   ],
   "execution_count": 6
  },
  {
   "metadata": {},
   "cell_type": "code",
   "outputs": [],
   "execution_count": null,
   "source": "",
   "id": "10583e670b885f82"
  }
 ],
 "metadata": {
  "kernelspec": {
   "display_name": "Python 3",
   "language": "python",
   "name": "python3"
  },
  "language_info": {
   "codemirror_mode": {
    "name": "ipython",
    "version": 2
   },
   "file_extension": ".py",
   "mimetype": "text/x-python",
   "name": "python",
   "nbconvert_exporter": "python",
   "pygments_lexer": "ipython2",
   "version": "2.7.6"
  }
 },
 "nbformat": 4,
 "nbformat_minor": 5
}
