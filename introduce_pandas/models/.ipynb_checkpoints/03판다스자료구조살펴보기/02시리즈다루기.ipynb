{
 "cells": [
  {
   "metadata": {},
   "cell_type": "markdown",
   "source": [
    "2장에서 loc을 사용하여 데이터프레임에서 시리즈를 추출하는 슬라이싱 기법을 알아봤다.\n",
    "\n",
    "### 시리즈 추출하기\n",
    "1. 먼저 매개변수 index에 행 이름 인덱스를 지정하여 예제 데이터프레임 scientists를 생성한다."
   ],
   "id": "632fa6e97ec38534"
  },
  {
   "metadata": {
    "ExecuteTime": {
     "end_time": "2024-10-30T14:06:28.688585Z",
     "start_time": "2024-10-30T14:06:28.406022Z"
    }
   },
   "cell_type": "code",
   "source": "import pandas as pd",
   "id": "9dda1c3a4fb585e9",
   "outputs": [],
   "execution_count": 2
  },
  {
   "cell_type": "code",
   "id": "initial_id",
   "metadata": {
    "collapsed": true,
    "ExecuteTime": {
     "end_time": "2024-10-30T14:06:30.137767Z",
     "start_time": "2024-10-30T14:06:30.129326Z"
    }
   },
   "source": [
    "scientists = pd.DataFrame(\n",
    "    data={\n",
    "        \"Occupation\": [\"Chemist\", \"Statistician\"],\n",
    "        \"Born\": [\"1920-07-25\", \"1876-06-13\"],\n",
    "        \"Died\": [\"1958-04-16\", \"1937-10-16\"],\n",
    "        \"Age\": [37, 61]\n",
    "    },\n",
    "    index=[\"Rosaline Franklin\", \"William Gosset\"],\n",
    "    columns=[\"Occupation\",\n",
    "             \"Born\",\n",
    "             \"Died\",\n",
    "             \"Age\"]\n",
    ")\n",
    "print(scientists)"
   ],
   "outputs": [
    {
     "name": "stdout",
     "output_type": "stream",
     "text": [
      "                     Occupation        Born        Died  Age\n",
      "Rosaline Franklin       Chemist  1920-07-25  1958-04-16   37\n",
      "William Gosset     Statistician  1876-06-13  1937-10-16   61\n"
     ]
    }
   ],
   "execution_count": 3
  },
  {
   "metadata": {},
   "cell_type": "markdown",
   "source": "2. 이제 scientists 데이터프레임에서 loc로 행 이름 인덱스 \"William Gosset\"을 지정하여 행을 추출한다. 추출한 행을 first_row에 저장하고 type() 함수로 자료형을 살펴보면 다음과 같다.",
   "id": "497b1fa760a43803"
  },
  {
   "metadata": {
    "ExecuteTime": {
     "end_time": "2024-10-30T14:08:05.513328Z",
     "start_time": "2024-10-30T14:08:05.510352Z"
    }
   },
   "cell_type": "code",
   "source": [
    "first_row = scientists.loc[\"William Gosset\"]\n",
    "print(type(first_row))"
   ],
   "id": "d353358c716c898c",
   "outputs": [
    {
     "name": "stdout",
     "output_type": "stream",
     "text": [
      "<class 'pandas.core.series.Series'>\n"
     ]
    }
   ],
   "execution_count": 5
  },
  {
   "metadata": {},
   "cell_type": "markdown",
   "source": "first_row의 내용은 아래와 같다.",
   "id": "efe27166fea9a2e4"
  },
  {
   "metadata": {
    "ExecuteTime": {
     "end_time": "2024-10-30T14:08:27.038443Z",
     "start_time": "2024-10-30T14:08:27.036253Z"
    }
   },
   "cell_type": "code",
   "source": "print(first_row)",
   "id": "15feecb0c0f59db0",
   "outputs": [
    {
     "name": "stdout",
     "output_type": "stream",
     "text": [
      "Occupation    Statistician\n",
      "Born            1876-06-13\n",
      "Died            1937-10-16\n",
      "Age                     61\n",
      "Name: William Gosset, dtype: object\n"
     ]
    }
   ],
   "execution_count": 6
  },
  {
   "metadata": {},
   "cell_type": "markdown",
   "source": [
    "시리즈를 print()로 출력하면 첫 번째 열에 열 이름을, 두 번째 열에 값을 표시한다.\n",
    "\n",
    "3. 시리즈 객체는 index, values와 같은 다양한 속성과 메서드를 제공한다."
   ],
   "id": "eea971ac02f4dfb8"
  },
  {
   "metadata": {
    "ExecuteTime": {
     "end_time": "2024-10-30T14:09:39.540021Z",
     "start_time": "2024-10-30T14:09:39.537730Z"
    }
   },
   "cell_type": "code",
   "source": "print(first_row.index)",
   "id": "b3ab20892f419b8f",
   "outputs": [
    {
     "name": "stdout",
     "output_type": "stream",
     "text": [
      "Index(['Occupation', 'Born', 'Died', 'Age'], dtype='object')\n"
     ]
    }
   ],
   "execution_count": 7
  },
  {
   "metadata": {
    "ExecuteTime": {
     "end_time": "2024-10-30T14:09:46.979296Z",
     "start_time": "2024-10-30T14:09:46.977283Z"
    }
   },
   "cell_type": "code",
   "source": "print(first_row.values)",
   "id": "d22b4c345baced7c",
   "outputs": [
    {
     "name": "stdout",
     "output_type": "stream",
     "text": [
      "['Statistician' '1876-06-13' '1937-10-16' 61]\n"
     ]
    }
   ],
   "execution_count": 8
  },
  {
   "metadata": {},
   "cell_type": "markdown",
   "source": [
    "이 밖에도 다음 표와 같은 여러 가지 속성이 있다. \n",
    "\n",
    "| 시리즈 속성          | 설명                             |\n",
    "|-----------------|--------------------------------|\n",
    "| loc             | 열 이름으로 데이터 추출                  |\n",
    "| iloc            | 열 위치로 데이터 추출                   |\n",
    "| dtype or dtypes | 시리즈에 저장된 값의 자료형                |\n",
    "| T               | 시리즈의 전치                        |\n",
    "| shape           | 데이터의 차원                        |\n",
    "| size            | 시리즈의 요소 개수                     |\n",
    "| values          | 시리즈의 ndarray 또는 ndarray와 같은 형태 |\n"
   ],
   "id": "bb005c66f15df1aa"
  },
  {
   "metadata": {},
   "cell_type": "markdown",
   "source": [
    "## 시리즈의 keys() 메서드\n",
    "시리즈의 keys() 메서드는 index 속성과  같은 역할을 한다."
   ],
   "id": "b68c3e43245dbe56"
  },
  {
   "metadata": {
    "ExecuteTime": {
     "end_time": "2024-10-30T21:49:55.342493Z",
     "start_time": "2024-10-30T21:49:55.339334Z"
    }
   },
   "cell_type": "code",
   "source": "print(first_row.keys())",
   "id": "598b89d81403a43f",
   "outputs": [
    {
     "name": "stdout",
     "output_type": "stream",
     "text": [
      "Index(['Occupation', 'Born', 'Died', 'Age'], dtype='object')\n"
     ]
    }
   ],
   "execution_count": 10
  },
  {
   "metadata": {},
   "cell_type": "markdown",
   "source": "속성은 객체의 특성이라 볼 수 있고 메서드는 객체를 대상으로 수행하는 계산이나 연산이라 할 수 있다. 속성 구문을 사용할 때는 소괄호가 아닌  대괄호를 사용한다. 예를 들어 loc와 iloc 구문은 모두 속성이므로 대괄호를 사용했다. keys() 는 메서드이므로 첫 번째 키를 추출하고 싶다면 메서드를 호출한 후에 대활호를 사용한다.",
   "id": "437be3bec2a58315"
  },
  {
   "metadata": {
    "ExecuteTime": {
     "end_time": "2024-10-30T21:51:46.413788Z",
     "start_time": "2024-10-30T21:51:46.404107Z"
    }
   },
   "cell_type": "code",
   "source": "print(first_row.index[0])",
   "id": "ee194bd288211ce9",
   "outputs": [
    {
     "name": "stdout",
     "output_type": "stream",
     "text": [
      "Occupation\n"
     ]
    }
   ],
   "execution_count": 11
  },
  {
   "metadata": {},
   "cell_type": "markdown",
   "source": "속성 뒤에 바로 대괄호를 사용하여 인덱스를 추출했다. 이와 달리 keys() 메서드를 사용하여 첫 번째 인덱스를 추출하는 방법은 다음과 같다.",
   "id": "1f648c1964c699b6"
  },
  {
   "metadata": {
    "ExecuteTime": {
     "end_time": "2024-10-30T21:53:27.204888Z",
     "start_time": "2024-10-30T21:53:27.202465Z"
    }
   },
   "cell_type": "code",
   "source": "print(first_row.keys()[0])",
   "id": "854c59902310e0e1",
   "outputs": [
    {
     "name": "stdout",
     "output_type": "stream",
     "text": [
      "Occupation\n"
     ]
    }
   ],
   "execution_count": 14
  },
  {
   "metadata": {},
   "cell_type": "markdown",
   "source": [
    "메서드를 호출 뒤에 대괄호를 사용하여 첫 번째 인덱스를 추출했다.\n",
    "\n",
    "## 시리즈와 ndarray\n",
    "\n",
    "판다스의 시리즈 자료구조는 넘파이의 ndarray(numpy.ndarray)와 매우 닮았다. ndarray에서 사용할 수 있는 대부분의 메서드와 함수는 시리즈에도 사용할 수 있다. 한 특성에 대한 여러 가지 값이므로 시리즈를 벡터라고도 한다.\n",
    "\n",
    "### 시리즈의 메서드 사용하기\n",
    "\n",
    "1. 먼저 scientists 데이터프레임에서 age 열 시리즈를 추출한다."
   ],
   "id": "e303eb1a629bc9bb"
  },
  {
   "metadata": {
    "ExecuteTime": {
     "end_time": "2024-10-30T21:55:53.947605Z",
     "start_time": "2024-10-30T21:55:53.945212Z"
    }
   },
   "cell_type": "code",
   "source": [
    "ages = scientists[\"Age\"]\n",
    "print(ages)"
   ],
   "id": "c52cfb2deaf78a5f",
   "outputs": [
    {
     "name": "stdout",
     "output_type": "stream",
     "text": [
      "Rosaline Franklin    37\n",
      "William Gosset       61\n",
      "Name: Age, dtype: int64\n"
     ]
    }
   ],
   "execution_count": 15
  },
  {
   "metadata": {},
   "cell_type": "markdown",
   "source": "2. 넘파이는 숫자 벡터를 다루는 유명한 과학 계산 라이브러리이다. 시리즈는 넘파이의 ndarray를 확장한 개념으로 생각할 수 있고, 많은 속성과 메서드를 그대로 사용할 수 있다. 숫자 벡터에 적용할 수 있는 몇 가지 연산을 살펴보면 다음과 같다.",
   "id": "2f21d4c0ab9ca7e7"
  },
  {
   "metadata": {
    "ExecuteTime": {
     "end_time": "2024-10-30T21:58:31.679035Z",
     "start_time": "2024-10-30T21:58:31.677072Z"
    }
   },
   "cell_type": "code",
   "source": [
    "# 평균\n",
    "print(ages.mean())"
   ],
   "id": "13f122e5492990c5",
   "outputs": [
    {
     "name": "stdout",
     "output_type": "stream",
     "text": [
      "49.0\n"
     ]
    }
   ],
   "execution_count": 16
  },
  {
   "metadata": {
    "ExecuteTime": {
     "end_time": "2024-10-30T21:58:50.331635Z",
     "start_time": "2024-10-30T21:58:50.329528Z"
    }
   },
   "cell_type": "code",
   "source": [
    "# 최솟값\n",
    "print(ages.min())"
   ],
   "id": "a4a4664cb411ffd",
   "outputs": [
    {
     "name": "stdout",
     "output_type": "stream",
     "text": [
      "37\n"
     ]
    }
   ],
   "execution_count": 17
  },
  {
   "metadata": {
    "ExecuteTime": {
     "end_time": "2024-10-30T21:59:04.473320Z",
     "start_time": "2024-10-30T21:59:04.469999Z"
    }
   },
   "cell_type": "code",
   "source": [
    "# 최대값\n",
    "print(ages.max())"
   ],
   "id": "d1980c5462c13a1b",
   "outputs": [
    {
     "name": "stdout",
     "output_type": "stream",
     "text": [
      "61\n"
     ]
    }
   ],
   "execution_count": 18
  },
  {
   "metadata": {
    "ExecuteTime": {
     "end_time": "2024-10-30T21:59:37.108167Z",
     "start_time": "2024-10-30T21:59:37.105907Z"
    }
   },
   "cell_type": "code",
   "source": [
    "# 표준편차\n",
    "print(ages.std())"
   ],
   "id": "254cb9f487b73625",
   "outputs": [
    {
     "name": "stdout",
     "output_type": "stream",
     "text": [
      "16.97056274847714\n"
     ]
    }
   ],
   "execution_count": 19
  },
  {
   "metadata": {},
   "cell_type": "markdown",
   "source": "mean(), min(), max(), std() 메서드는 넘파이의 ndarray 의 메서드이기도 하다. 다음은 시리즈에 사용할 수 있는 메서드를 정리한 표이다.",
   "id": "1b4366e2fbf731f9"
  },
  {
   "metadata": {},
   "cell_type": "code",
   "outputs": [],
   "execution_count": null,
   "source": "",
   "id": "dc213e6a60ba2310"
  }
 ],
 "metadata": {
  "kernelspec": {
   "display_name": "Python 3",
   "language": "python",
   "name": "python3"
  },
  "language_info": {
   "codemirror_mode": {
    "name": "ipython",
    "version": 2
   },
   "file_extension": ".py",
   "mimetype": "text/x-python",
   "name": "python",
   "nbconvert_exporter": "python",
   "pygments_lexer": "ipython2",
   "version": "2.7.6"
  }
 },
 "nbformat": 4,
 "nbformat_minor": 5
}
