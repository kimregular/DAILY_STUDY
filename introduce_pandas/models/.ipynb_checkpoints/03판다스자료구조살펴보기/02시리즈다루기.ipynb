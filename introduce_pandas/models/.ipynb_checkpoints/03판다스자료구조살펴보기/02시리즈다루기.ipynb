{
 "cells": [
  {
   "metadata": {},
   "cell_type": "markdown",
   "source": [
    "2장에서 loc을 사용하여 데이터프레임에서 시리즈를 추출하는 슬라이싱 기법을 알아봤다.\n",
    "\n",
    "### 시리즈 추출하기\n",
    "1. 먼저 매개변수 index에 행 이름 인덱스를 지정하여 예제 데이터프레임 scientists를 생성한다."
   ],
   "id": "632fa6e97ec38534"
  },
  {
   "metadata": {
    "ExecuteTime": {
     "end_time": "2024-10-30T14:06:28.688585Z",
     "start_time": "2024-10-30T14:06:28.406022Z"
    }
   },
   "cell_type": "code",
   "source": "import pandas as pd",
   "id": "9dda1c3a4fb585e9",
   "outputs": [],
   "execution_count": 2
  },
  {
   "cell_type": "code",
   "id": "initial_id",
   "metadata": {
    "collapsed": true,
    "ExecuteTime": {
     "end_time": "2024-10-30T14:06:30.137767Z",
     "start_time": "2024-10-30T14:06:30.129326Z"
    }
   },
   "source": [
    "scientists = pd.DataFrame(\n",
    "    data={\n",
    "        \"Occupation\": [\"Chemist\", \"Statistician\"],\n",
    "        \"Born\": [\"1920-07-25\", \"1876-06-13\"],\n",
    "        \"Died\": [\"1958-04-16\", \"1937-10-16\"],\n",
    "        \"Age\": [37, 61]\n",
    "    },\n",
    "    index=[\"Rosaline Franklin\", \"William Gosset\"],\n",
    "    columns=[\"Occupation\",\n",
    "             \"Born\",\n",
    "             \"Died\",\n",
    "             \"Age\"]\n",
    ")\n",
    "print(scientists)"
   ],
   "outputs": [
    {
     "name": "stdout",
     "output_type": "stream",
     "text": [
      "                     Occupation        Born        Died  Age\n",
      "Rosaline Franklin       Chemist  1920-07-25  1958-04-16   37\n",
      "William Gosset     Statistician  1876-06-13  1937-10-16   61\n"
     ]
    }
   ],
   "execution_count": 3
  },
  {
   "metadata": {},
   "cell_type": "markdown",
   "source": "2. 이제 scientists 데이터프레임에서 loc로 행 이름 인덱스 \"William Gosset\"을 지정하여 행을 추출한다. 추출한 행을 first_row에 저장하고 type() 함수로 자료형을 살펴보면 다음과 같다.",
   "id": "497b1fa760a43803"
  },
  {
   "metadata": {
    "ExecuteTime": {
     "end_time": "2024-10-30T14:08:05.513328Z",
     "start_time": "2024-10-30T14:08:05.510352Z"
    }
   },
   "cell_type": "code",
   "source": [
    "first_row = scientists.loc[\"William Gosset\"]\n",
    "print(type(first_row))"
   ],
   "id": "d353358c716c898c",
   "outputs": [
    {
     "name": "stdout",
     "output_type": "stream",
     "text": [
      "<class 'pandas.core.series.Series'>\n"
     ]
    }
   ],
   "execution_count": 5
  },
  {
   "metadata": {},
   "cell_type": "markdown",
   "source": "first_row의 내용은 아래와 같다.",
   "id": "efe27166fea9a2e4"
  },
  {
   "metadata": {
    "ExecuteTime": {
     "end_time": "2024-10-30T14:08:27.038443Z",
     "start_time": "2024-10-30T14:08:27.036253Z"
    }
   },
   "cell_type": "code",
   "source": "print(first_row)",
   "id": "15feecb0c0f59db0",
   "outputs": [
    {
     "name": "stdout",
     "output_type": "stream",
     "text": [
      "Occupation    Statistician\n",
      "Born            1876-06-13\n",
      "Died            1937-10-16\n",
      "Age                     61\n",
      "Name: William Gosset, dtype: object\n"
     ]
    }
   ],
   "execution_count": 6
  },
  {
   "metadata": {},
   "cell_type": "markdown",
   "source": [
    "시리즈를 print()로 출력하면 첫 번째 열에 열 이름을, 두 번째 열에 값을 표시한다.\n",
    "\n",
    "3. 시리즈 객체는 index, values와 같은 다양한 속성과 메서드를 제공한다."
   ],
   "id": "eea971ac02f4dfb8"
  },
  {
   "metadata": {
    "ExecuteTime": {
     "end_time": "2024-10-30T14:09:39.540021Z",
     "start_time": "2024-10-30T14:09:39.537730Z"
    }
   },
   "cell_type": "code",
   "source": "print(first_row.index)",
   "id": "b3ab20892f419b8f",
   "outputs": [
    {
     "name": "stdout",
     "output_type": "stream",
     "text": [
      "Index(['Occupation', 'Born', 'Died', 'Age'], dtype='object')\n"
     ]
    }
   ],
   "execution_count": 7
  },
  {
   "metadata": {
    "ExecuteTime": {
     "end_time": "2024-10-30T14:09:46.979296Z",
     "start_time": "2024-10-30T14:09:46.977283Z"
    }
   },
   "cell_type": "code",
   "source": "print(first_row.values)",
   "id": "d22b4c345baced7c",
   "outputs": [
    {
     "name": "stdout",
     "output_type": "stream",
     "text": [
      "['Statistician' '1876-06-13' '1937-10-16' 61]\n"
     ]
    }
   ],
   "execution_count": 8
  },
  {
   "metadata": {},
   "cell_type": "markdown",
   "source": [
    "이 밖에도 다음 표와 같은 여러 가지 속성이 있다. \n",
    "\n",
    "| 시리즈 속성          | 설명                             |\n",
    "|-----------------|--------------------------------|\n",
    "| loc             | 열 이름으로 데이터 추출                  |\n",
    "| iloc            | 열 위치로 데이터 추출                   |\n",
    "| dtype or dtypes | 시리즈에 저장된 값의 자료형                |\n",
    "| T               | 시리즈의 전치                        |\n",
    "| shape           | 데이터의 차원                        |\n",
    "| size            | 시리즈의 요소 개수                     |\n",
    "| values          | 시리즈의 ndarray 또는 ndarray와 같은 형태 |\n"
   ],
   "id": "bb005c66f15df1aa"
  },
  {
   "metadata": {},
   "cell_type": "markdown",
   "source": [
    "## 시리즈의 keys() 메서드\n",
    "시리즈의 keys() 메서드는 index 속성과  같은 역할을 한다."
   ],
   "id": "b68c3e43245dbe56"
  },
  {
   "metadata": {
    "ExecuteTime": {
     "end_time": "2024-10-30T21:49:55.342493Z",
     "start_time": "2024-10-30T21:49:55.339334Z"
    }
   },
   "cell_type": "code",
   "source": "print(first_row.keys())",
   "id": "598b89d81403a43f",
   "outputs": [
    {
     "name": "stdout",
     "output_type": "stream",
     "text": [
      "Index(['Occupation', 'Born', 'Died', 'Age'], dtype='object')\n"
     ]
    }
   ],
   "execution_count": 10
  },
  {
   "metadata": {},
   "cell_type": "markdown",
   "source": "속성은 객체의 특성이라 볼 수 있고 메서드는 객체를 대상으로 수행하는 계산이나 연산이라 할 수 있다. 속성 구문을 사용할 때는 소괄호가 아닌  대괄호를 사용한다. 예를 들어 loc와 iloc 구문은 모두 속성이므로 대괄호를 사용했다. keys() 는 메서드이므로 첫 번째 키를 추출하고 싶다면 메서드를 호출한 후에 대활호를 사용한다.",
   "id": "437be3bec2a58315"
  },
  {
   "metadata": {
    "ExecuteTime": {
     "end_time": "2024-10-30T21:51:46.413788Z",
     "start_time": "2024-10-30T21:51:46.404107Z"
    }
   },
   "cell_type": "code",
   "source": "print(first_row.index[0])",
   "id": "ee194bd288211ce9",
   "outputs": [
    {
     "name": "stdout",
     "output_type": "stream",
     "text": [
      "Occupation\n"
     ]
    }
   ],
   "execution_count": 11
  },
  {
   "metadata": {},
   "cell_type": "markdown",
   "source": "속성 뒤에 바로 대괄호를 사용하여 인덱스를 추출했다. 이와 달리 keys() 메서드를 사용하여 첫 번째 인덱스를 추출하는 방법은 다음과 같다.",
   "id": "1f648c1964c699b6"
  },
  {
   "metadata": {
    "ExecuteTime": {
     "end_time": "2024-10-30T21:53:27.204888Z",
     "start_time": "2024-10-30T21:53:27.202465Z"
    }
   },
   "cell_type": "code",
   "source": "print(first_row.keys()[0])",
   "id": "854c59902310e0e1",
   "outputs": [
    {
     "name": "stdout",
     "output_type": "stream",
     "text": [
      "Occupation\n"
     ]
    }
   ],
   "execution_count": 14
  },
  {
   "metadata": {},
   "cell_type": "markdown",
   "source": [
    "메서드를 호출 뒤에 대괄호를 사용하여 첫 번째 인덱스를 추출했다.\n",
    "\n",
    "## 시리즈와 ndarray\n",
    "\n",
    "판다스의 시리즈 자료구조는 넘파이의 ndarray(numpy.ndarray)와 매우 닮았다. ndarray에서 사용할 수 있는 대부분의 메서드와 함수는 시리즈에도 사용할 수 있다. 한 특성에 대한 여러 가지 값이므로 시리즈를 벡터라고도 한다.\n",
    "\n",
    "### 시리즈의 메서드 사용하기\n",
    "\n",
    "1. 먼저 scientists 데이터프레임에서 age 열 시리즈를 추출한다."
   ],
   "id": "e303eb1a629bc9bb"
  },
  {
   "metadata": {
    "ExecuteTime": {
     "end_time": "2024-10-30T21:55:53.947605Z",
     "start_time": "2024-10-30T21:55:53.945212Z"
    }
   },
   "cell_type": "code",
   "source": [
    "ages = scientists[\"Age\"]\n",
    "print(ages)"
   ],
   "id": "c52cfb2deaf78a5f",
   "outputs": [
    {
     "name": "stdout",
     "output_type": "stream",
     "text": [
      "Rosaline Franklin    37\n",
      "William Gosset       61\n",
      "Name: Age, dtype: int64\n"
     ]
    }
   ],
   "execution_count": 15
  },
  {
   "metadata": {},
   "cell_type": "markdown",
   "source": "2. 넘파이는 숫자 벡터를 다루는 유명한 과학 계산 라이브러리이다. 시리즈는 넘파이의 ndarray를 확장한 개념으로 생각할 수 있고, 많은 속성과 메서드를 그대로 사용할 수 있다. 숫자 벡터에 적용할 수 있는 몇 가지 연산을 살펴보면 다음과 같다.",
   "id": "2f21d4c0ab9ca7e7"
  },
  {
   "metadata": {
    "ExecuteTime": {
     "end_time": "2024-10-30T21:58:31.679035Z",
     "start_time": "2024-10-30T21:58:31.677072Z"
    }
   },
   "cell_type": "code",
   "source": [
    "# 평균\n",
    "print(ages.mean())"
   ],
   "id": "13f122e5492990c5",
   "outputs": [
    {
     "name": "stdout",
     "output_type": "stream",
     "text": [
      "49.0\n"
     ]
    }
   ],
   "execution_count": 16
  },
  {
   "metadata": {
    "ExecuteTime": {
     "end_time": "2024-10-30T21:58:50.331635Z",
     "start_time": "2024-10-30T21:58:50.329528Z"
    }
   },
   "cell_type": "code",
   "source": [
    "# 최솟값\n",
    "print(ages.min())"
   ],
   "id": "a4a4664cb411ffd",
   "outputs": [
    {
     "name": "stdout",
     "output_type": "stream",
     "text": [
      "37\n"
     ]
    }
   ],
   "execution_count": 17
  },
  {
   "metadata": {
    "ExecuteTime": {
     "end_time": "2024-10-30T21:59:04.473320Z",
     "start_time": "2024-10-30T21:59:04.469999Z"
    }
   },
   "cell_type": "code",
   "source": [
    "# 최대값\n",
    "print(ages.max())"
   ],
   "id": "d1980c5462c13a1b",
   "outputs": [
    {
     "name": "stdout",
     "output_type": "stream",
     "text": [
      "61\n"
     ]
    }
   ],
   "execution_count": 18
  },
  {
   "metadata": {
    "ExecuteTime": {
     "end_time": "2024-10-30T21:59:37.108167Z",
     "start_time": "2024-10-30T21:59:37.105907Z"
    }
   },
   "cell_type": "code",
   "source": [
    "# 표준편차\n",
    "print(ages.std())"
   ],
   "id": "254cb9f487b73625",
   "outputs": [
    {
     "name": "stdout",
     "output_type": "stream",
     "text": [
      "16.97056274847714\n"
     ]
    }
   ],
   "execution_count": 19
  },
  {
   "metadata": {},
   "cell_type": "markdown",
   "source": [
    "mean(), min(), max(), std() 메서드는 넘파이의 ndarray 의 메서드이기도 하다. 다음은 시리즈에 사용할 수 있는 메서드를 정리한 표이다.\n",
    "\n",
    "| 시리즈 메서드           | 설명                           |\n",
    "|-------------------|------------------------------|\n",
    "| append()          | 2개 이상의 시리즈 연결                |\n",
    "| corr()            | 다른 시리즈와의 상관관계 계산             |\n",
    "| cov()             | 다른 시리즈와의 공분산 계산              |\n",
    "| describe()        | 요약 통계량 계산                    |\n",
    "| drop_duplicates() | 중복값이 없는 시리즈 반환               |\n",
    "| equals()          | 시리즈에 주어진 값을 가진 요소가 있는지 확인    |\n",
    "| get_values()      | 시리즈 값 구하기(values 속성과 같음)     |\n",
    "| hist()            | 히스토그램 그리기                    |\n",
    "| isin()            | 주어진 값이 시리즈에 포함되어 있는지 확인      |\n",
    "| min()             | 최솟값 반환                       |\n",
    "| max()             | 최대값 반환                       |\n",
    "| mean()            | 산술 평균 반환                     |\n",
    "| median()          | 중앙값 반환                       |\n",
    "| mode()            | 최빈값 반환                       |\n",
    "| quantile()        | 사분위수로 값을 반환                  |\n",
    "| replace()         | 시리즈의 특정 값을 변환                |\n",
    "| sample()          | 시리즈에서 임의의 값을 반환              |\n",
    "| sort_values()     | 값 정렬                         |\n",
    "| to_frame()        | 시리즈를 데이터프레임으로 변환             |\n",
    "| transpose()       | 시리즈의 전치 반환                   |\n",
    "| unique()          | 고윳값만으로 이루어진 numpy.ndarray 반환 |\n",
    "\n",
    "## 시리즈와 불리언\n",
    "02장에서 특정 인덱스를 사용하여 데이터를 추출하는 방법을 살펴봤다. 그러나 추출할 데이터의 정확한 행 또는 열 인덱스를 아는 경우는 많지 않다. 일반적으로 데이터를 다룰 때는 특정 계산 또는 조건을 만족하거나 그렇지 않은 값으로 데이터르 구분할 때가 흔하다. 이번 예제에서는 과학자 데이터셋 파일을 사용한다. "
   ],
   "id": "1b4366e2fbf731f9"
  },
  {
   "metadata": {
    "ExecuteTime": {
     "end_time": "2024-10-30T22:11:05.182240Z",
     "start_time": "2024-10-30T22:11:05.165951Z"
    }
   },
   "cell_type": "code",
   "source": "scientists = pd.read_csv(\"../../../data/scientists.csv\")",
   "id": "dc213e6a60ba2310",
   "outputs": [],
   "execution_count": 20
  },
  {
   "metadata": {},
   "cell_type": "markdown",
   "source": [
    "앞서 mean(), min() 등 시리즈로 기본적인 기술 통계를 계산하는 방법을 소개했다. 이와 함께 describe() 메서드르 호출하면 다양한 기술 통계량을 한 번에 계산할 수 있다.\n",
    "\n",
    "### 기술 통계량 계산하기\n",
    "\n",
    "1. 먼저 scientists 데이터프레임에서 Age 열을 추출하고 ages에 저장한다."
   ],
   "id": "d09f0cab1bd20e23"
  },
  {
   "metadata": {
    "ExecuteTime": {
     "end_time": "2024-10-30T22:12:58.968996Z",
     "start_time": "2024-10-30T22:12:58.965278Z"
    }
   },
   "cell_type": "code",
   "source": [
    "ages = scientists[\"Age\"]\n",
    "print(ages)"
   ],
   "id": "950e989d686925ba",
   "outputs": [
    {
     "name": "stdout",
     "output_type": "stream",
     "text": [
      "0    37\n",
      "1    61\n",
      "2    90\n",
      "3    66\n",
      "4    56\n",
      "5    45\n",
      "6    41\n",
      "7    77\n",
      "Name: Age, dtype: int64\n"
     ]
    }
   ],
   "execution_count": 23
  },
  {
   "metadata": {},
   "cell_type": "markdown",
   "source": "2. 그런 다음 ages 시리즈를 대상으로 describe() 메서드를 호출하면 다음과 같이 다양한 기술 통계량을 계산할 수 있다.",
   "id": "fe147096f2f5c8d8"
  },
  {
   "metadata": {
    "ExecuteTime": {
     "end_time": "2024-10-30T22:13:42.284818Z",
     "start_time": "2024-10-30T22:13:42.280587Z"
    }
   },
   "cell_type": "code",
   "source": "print(ages.describe())",
   "id": "fbf97deaf9ce9097",
   "outputs": [
    {
     "name": "stdout",
     "output_type": "stream",
     "text": [
      "count     8.000000\n",
      "mean     59.125000\n",
      "std      18.325918\n",
      "min      37.000000\n",
      "25%      44.000000\n",
      "50%      58.500000\n",
      "75%      68.750000\n",
      "max      90.000000\n",
      "Name: Age, dtype: float64\n"
     ]
    }
   ],
   "execution_count": 24
  },
  {
   "metadata": {},
   "cell_type": "markdown",
   "source": "3. mean() 으로 구한 산술 평균값과 describe()의 mean 값을 비교하면 값이 같다는 점을 알 수 있다.",
   "id": "8d8c125e939a1536"
  },
  {
   "metadata": {
    "ExecuteTime": {
     "end_time": "2024-10-30T22:14:32.249001Z",
     "start_time": "2024-10-30T22:14:32.246474Z"
    }
   },
   "cell_type": "code",
   "source": "print(ages.mean())",
   "id": "7d763207432f1810",
   "outputs": [
    {
     "name": "stdout",
     "output_type": "stream",
     "text": [
      "59.125\n"
     ]
    }
   ],
   "execution_count": 25
  },
  {
   "metadata": {},
   "cell_type": "markdown",
   "source": "4. 평균 나이보다 나이가 많은 과학자만 추출하려면 어떻게 해야 할까? 다음과 같이 대괄호 구문에 조건을 삽입하면 조건에 맞는 데이터만 추출할 수 있다.",
   "id": "d151a07f0e5f34ce"
  },
  {
   "metadata": {
    "ExecuteTime": {
     "end_time": "2024-10-30T22:15:21.492600Z",
     "start_time": "2024-10-30T22:15:21.488822Z"
    }
   },
   "cell_type": "code",
   "source": "print(ages[ages > ages.mean()])",
   "id": "3659f21eddccde06",
   "outputs": [
    {
     "name": "stdout",
     "output_type": "stream",
     "text": [
      "1    61\n",
      "2    90\n",
      "3    66\n",
      "7    77\n",
      "Name: Age, dtype: int64\n"
     ]
    }
   ],
   "execution_count": 26
  },
  {
   "metadata": {},
   "cell_type": "markdown",
   "source": "5. 조건으로 삽입한 ages > ages.mean() 이 무엇을 반환하는지 살펴보자",
   "id": "f92eed486fe274bc"
  },
  {
   "metadata": {
    "ExecuteTime": {
     "end_time": "2024-10-30T22:16:01.257095Z",
     "start_time": "2024-10-30T22:16:01.252499Z"
    }
   },
   "cell_type": "code",
   "source": "ages > ages.mean()",
   "id": "9ef9c95f18718dc2",
   "outputs": [
    {
     "data": {
      "text/plain": [
       "0    False\n",
       "1     True\n",
       "2     True\n",
       "3     True\n",
       "4    False\n",
       "5    False\n",
       "6    False\n",
       "7     True\n",
       "Name: Age, dtype: bool"
      ]
     },
     "execution_count": 27,
     "metadata": {},
     "output_type": "execute_result"
    }
   ],
   "execution_count": 27
  },
  {
   "metadata": {},
   "cell_type": "markdown",
   "source": "type() 함수로 해당 조건이 반환하는 자료형을 살펴보면 다음과 같다.",
   "id": "1bdb93f5f43feed5"
  },
  {
   "metadata": {
    "ExecuteTime": {
     "end_time": "2024-10-30T22:16:28.329758Z",
     "start_time": "2024-10-30T22:16:28.326261Z"
    }
   },
   "cell_type": "code",
   "source": "print(type(ages > ages.mean()))",
   "id": "3c98abf836196edf",
   "outputs": [
    {
     "name": "stdout",
     "output_type": "stream",
     "text": [
      "<class 'pandas.core.series.Series'>\n"
     ]
    }
   ],
   "execution_count": 28
  },
  {
   "metadata": {},
   "cell_type": "markdown",
   "source": [
    "이 조건문은 dtype이 bool인 시리즈를 반환한다. 출력된 부릴언 시리즈를 살펴보면 행별로  True, False를 출력하는데, 여기서는  1, 2, 3, 7행이 True 이다. 이것을 통해 행 이름과 행 위치뿐만 아니라 불리언값으로 구성된 시리즈로도 데이터를 추출할 수 있다는 점을 알 수 있다.\n",
    "\n",
    "6. 불리언 시리즈를 직접 지정하여 데이터를 추출할 수도 있다. 예를 들어 행 번호가 0, 1, 4, 5, 7인 데이터는 다음과 같이 추출할 수 있다."
   ],
   "id": "16727b4fe1b16b36"
  },
  {
   "metadata": {
    "ExecuteTime": {
     "end_time": "2024-10-30T22:19:41.058171Z",
     "start_time": "2024-10-30T22:19:41.055868Z"
    }
   },
   "cell_type": "code",
   "source": [
    "manual_bool_values = [\n",
    "    True,\n",
    "    True,\n",
    "    False,\n",
    "    False,\n",
    "    True,\n",
    "    True,\n",
    "    False,\n",
    "    True\n",
    "]\n",
    "print(ages[manual_bool_values])"
   ],
   "id": "5f744e7be2b07dca",
   "outputs": [
    {
     "name": "stdout",
     "output_type": "stream",
     "text": [
      "0    37\n",
      "1    61\n",
      "4    56\n",
      "5    45\n",
      "7    77\n",
      "Name: Age, dtype: int64\n"
     ]
    }
   ],
   "execution_count": 31
  },
  {
   "metadata": {},
   "cell_type": "markdown",
   "source": [
    "파이썬에서는 다양한 함수와 메서드가 있다. 구현 방법에 따라 행 이름, 행 위치 또는 불리언을 반환하는 구문을 얼마든지 다양하게 만들 수 있다. 새로운 구현 방법을 공부할 때마다 다양하게 시도해보자.\n",
    "\n",
    "\n",
    "## 시리즈와 브로드캐스팅\n",
    "\n",
    "프로그래밍에 익숙한 독자라면 for루프 없이 age > age.mean()이라는 조건문 하나로 해당하는 모든 데이터를 반환한다는 점이 이상해 보일 수도 있다. 이는 시리즈와 데이터프레임을 대상으로 사용하는 많은 메서드는 모든 데이터를 대상으로 연산, 즉 브로드캐스팅하기 때문이다. 이 방법을 사용하면 코드의 가독성을 높일 수 있고 일반적으로 계산 속도를 높이는 최적화 효과도 얻을 수 있다.\n",
    "\n",
    "### 벡터와 벡터, 벡터와 스칼라 계산하기\n",
    "\n",
    "1. 길이가 같은 두 개의 시리즈를 대상으로 연산을 수행하면 시리즈의 각 요소가 서로 대응하여 계산되며, 결과는 요소별 연산 결과를 포함한다."
   ],
   "id": "f63c9f2d475a3586"
  },
  {
   "metadata": {
    "ExecuteTime": {
     "end_time": "2024-10-30T22:23:15.437218Z",
     "start_time": "2024-10-30T22:23:15.434579Z"
    }
   },
   "cell_type": "code",
   "source": "print(ages + ages)",
   "id": "3b7923d2ea0afe4f",
   "outputs": [
    {
     "name": "stdout",
     "output_type": "stream",
     "text": [
      "0     74\n",
      "1    122\n",
      "2    180\n",
      "3    132\n",
      "4    112\n",
      "5     90\n",
      "6     82\n",
      "7    154\n",
      "Name: Age, dtype: int64\n"
     ]
    }
   ],
   "execution_count": 32
  },
  {
   "metadata": {
    "ExecuteTime": {
     "end_time": "2024-10-30T22:23:29.353811Z",
     "start_time": "2024-10-30T22:23:29.351045Z"
    }
   },
   "cell_type": "code",
   "source": "print(ages * ages)",
   "id": "9e6ba62396612dcb",
   "outputs": [
    {
     "name": "stdout",
     "output_type": "stream",
     "text": [
      "0    1369\n",
      "1    3721\n",
      "2    8100\n",
      "3    4356\n",
      "4    3136\n",
      "5    2025\n",
      "6    1681\n",
      "7    5929\n",
      "Name: Age, dtype: int64\n"
     ]
    }
   ],
   "execution_count": 33
  },
  {
   "metadata": {},
   "cell_type": "markdown",
   "source": [
    "2. 스칼라와 벡터를 연산하면 같은 스칼라값이 벡터의 모든 요소에 적용된다.\n",
    "\n",
    "스칼라란 하나의 정수로 표현한 값을 말한다."
   ],
   "id": "35372cffeb6be7dc"
  },
  {
   "metadata": {
    "jupyter": {
     "is_executing": true
    }
   },
   "cell_type": "code",
   "source": "print(ages + 100)",
   "id": "6031f853f485afc8",
   "outputs": [],
   "execution_count": null
  },
  {
   "metadata": {
    "ExecuteTime": {
     "end_time": "2024-10-30T22:24:31.748751Z",
     "start_time": "2024-10-30T22:24:31.745586Z"
    }
   },
   "cell_type": "code",
   "source": "print(ages * 2)",
   "id": "130598f608b4b96e",
   "outputs": [
    {
     "name": "stdout",
     "output_type": "stream",
     "text": [
      "0     74\n",
      "1    122\n",
      "2    180\n",
      "3    132\n",
      "4    112\n",
      "5     90\n",
      "6     82\n",
      "7    154\n",
      "Name: Age, dtype: int64\n"
     ]
    }
   ],
   "execution_count": 35
  },
  {
   "metadata": {},
   "cell_type": "code",
   "outputs": [],
   "execution_count": null,
   "source": "",
   "id": "995cd3b98c56aba6"
  }
 ],
 "metadata": {
  "kernelspec": {
   "display_name": "Python 3",
   "language": "python",
   "name": "python3"
  },
  "language_info": {
   "codemirror_mode": {
    "name": "ipython",
    "version": 2
   },
   "file_extension": ".py",
   "mimetype": "text/x-python",
   "name": "python",
   "nbconvert_exporter": "python",
   "pygments_lexer": "ipython2",
   "version": "2.7.6"
  }
 },
 "nbformat": 4,
 "nbformat_minor": 5
}
