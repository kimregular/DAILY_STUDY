{
 "cells": [
  {
   "metadata": {},
   "cell_type": "markdown",
   "source": [
    "2장에서 loc을 사용하여 데이터프레임에서 시리즈를 추출하는 슬라이싱 기법을 알아봤다.\n",
    "\n",
    "### 시리즈 추출하기\n",
    "1. 먼저 매개변수 index에 행 이름 인덱스를 지정하여 예제 데이터프레임 scientists를 생성한다."
   ],
   "id": "632fa6e97ec38534"
  },
  {
   "metadata": {
    "ExecuteTime": {
     "end_time": "2024-10-30T14:06:28.688585Z",
     "start_time": "2024-10-30T14:06:28.406022Z"
    }
   },
   "cell_type": "code",
   "source": "import pandas as pd",
   "id": "9dda1c3a4fb585e9",
   "outputs": [],
   "execution_count": 2
  },
  {
   "cell_type": "code",
   "id": "initial_id",
   "metadata": {
    "collapsed": true,
    "ExecuteTime": {
     "end_time": "2024-10-30T14:06:30.137767Z",
     "start_time": "2024-10-30T14:06:30.129326Z"
    }
   },
   "source": [
    "scientists = pd.DataFrame(\n",
    "    data={\n",
    "        \"Occupation\": [\"Chemist\", \"Statistician\"],\n",
    "        \"Born\": [\"1920-07-25\", \"1876-06-13\"],\n",
    "        \"Died\": [\"1958-04-16\", \"1937-10-16\"],\n",
    "        \"Age\": [37, 61]\n",
    "    },\n",
    "    index=[\"Rosaline Franklin\", \"William Gosset\"],\n",
    "    columns=[\"Occupation\",\n",
    "             \"Born\",\n",
    "             \"Died\",\n",
    "             \"Age\"]\n",
    ")\n",
    "print(scientists)"
   ],
   "outputs": [
    {
     "name": "stdout",
     "output_type": "stream",
     "text": [
      "                     Occupation        Born        Died  Age\n",
      "Rosaline Franklin       Chemist  1920-07-25  1958-04-16   37\n",
      "William Gosset     Statistician  1876-06-13  1937-10-16   61\n"
     ]
    }
   ],
   "execution_count": 3
  },
  {
   "metadata": {},
   "cell_type": "markdown",
   "source": "2. 이제 scientists 데이터프레임에서 loc로 행 이름 인덱스 \"William Gosset\"을 지정하여 행을 추출한다. 추출한 행을 first_row에 저장하고 type() 함수로 자료형을 살펴보면 다음과 같다.",
   "id": "497b1fa760a43803"
  },
  {
   "metadata": {
    "ExecuteTime": {
     "end_time": "2024-10-30T14:08:05.513328Z",
     "start_time": "2024-10-30T14:08:05.510352Z"
    }
   },
   "cell_type": "code",
   "source": [
    "first_row = scientists.loc[\"William Gosset\"]\n",
    "print(type(first_row))"
   ],
   "id": "d353358c716c898c",
   "outputs": [
    {
     "name": "stdout",
     "output_type": "stream",
     "text": [
      "<class 'pandas.core.series.Series'>\n"
     ]
    }
   ],
   "execution_count": 5
  },
  {
   "metadata": {},
   "cell_type": "markdown",
   "source": "first_row의 내용은 아래와 같다.",
   "id": "efe27166fea9a2e4"
  },
  {
   "metadata": {
    "ExecuteTime": {
     "end_time": "2024-10-30T14:08:27.038443Z",
     "start_time": "2024-10-30T14:08:27.036253Z"
    }
   },
   "cell_type": "code",
   "source": "print(first_row)",
   "id": "15feecb0c0f59db0",
   "outputs": [
    {
     "name": "stdout",
     "output_type": "stream",
     "text": [
      "Occupation    Statistician\n",
      "Born            1876-06-13\n",
      "Died            1937-10-16\n",
      "Age                     61\n",
      "Name: William Gosset, dtype: object\n"
     ]
    }
   ],
   "execution_count": 6
  },
  {
   "metadata": {},
   "cell_type": "markdown",
   "source": [
    "시리즈를 print()로 출력하면 첫 번째 열에 열 이름을, 두 번째 열에 값을 표시한다.\n",
    "\n",
    "3. 시리즈 객체는 index, values와 같은 다양한 속성과 메서드를 제공한다."
   ],
   "id": "eea971ac02f4dfb8"
  },
  {
   "metadata": {
    "ExecuteTime": {
     "end_time": "2024-10-30T14:09:39.540021Z",
     "start_time": "2024-10-30T14:09:39.537730Z"
    }
   },
   "cell_type": "code",
   "source": "print(first_row.index)",
   "id": "b3ab20892f419b8f",
   "outputs": [
    {
     "name": "stdout",
     "output_type": "stream",
     "text": [
      "Index(['Occupation', 'Born', 'Died', 'Age'], dtype='object')\n"
     ]
    }
   ],
   "execution_count": 7
  },
  {
   "metadata": {
    "ExecuteTime": {
     "end_time": "2024-10-30T14:09:46.979296Z",
     "start_time": "2024-10-30T14:09:46.977283Z"
    }
   },
   "cell_type": "code",
   "source": "print(first_row.values)",
   "id": "d22b4c345baced7c",
   "outputs": [
    {
     "name": "stdout",
     "output_type": "stream",
     "text": [
      "['Statistician' '1876-06-13' '1937-10-16' 61]\n"
     ]
    }
   ],
   "execution_count": 8
  },
  {
   "metadata": {},
   "cell_type": "code",
   "outputs": [],
   "execution_count": null,
   "source": "",
   "id": "598b89d81403a43f"
  }
 ],
 "metadata": {
  "kernelspec": {
   "display_name": "Python 3",
   "language": "python",
   "name": "python3"
  },
  "language_info": {
   "codemirror_mode": {
    "name": "ipython",
    "version": 2
   },
   "file_extension": ".py",
   "mimetype": "text/x-python",
   "name": "python",
   "nbconvert_exporter": "python",
   "pygments_lexer": "ipython2",
   "version": "2.7.6"
  }
 },
 "nbformat": 4,
 "nbformat_minor": 5
}
