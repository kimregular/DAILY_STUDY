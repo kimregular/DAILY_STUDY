{
 "cells": [
  {
   "metadata": {},
   "cell_type": "markdown",
   "source": [
    "데이터프레임은 가장 일반적인 판다스 객체이다. 파이썬이 스프레드시트와 같은 데이터를 저장하는 방식으로 이해할 수 있다. 이와 함께 시리즈 자료구조의 특성 대부분은 데이터프레임에서도 볼 수 있다.\n",
    "\n",
    "## 데이터프레임의 구성\n",
    "판다스 데이터프레임 객체에는 각각 행 이름, 열 이름, 데이터를 나타내는 index, columns, values 의 3가지 구성 요소가 있다."
   ],
   "id": "5dba92e5bf093a10"
  },
  {
   "cell_type": "code",
   "id": "initial_id",
   "metadata": {
    "collapsed": true,
    "ExecuteTime": {
     "end_time": "2024-11-01T11:16:51.351505Z",
     "start_time": "2024-11-01T11:16:51.062716Z"
    }
   },
   "source": "import pandas as pd",
   "outputs": [],
   "execution_count": 1
  },
  {
   "metadata": {
    "ExecuteTime": {
     "end_time": "2024-11-01T11:17:13.202411Z",
     "start_time": "2024-11-01T11:17:13.185619Z"
    }
   },
   "cell_type": "code",
   "source": "scientists = pd.read_csv(\"../../../data/scientists.csv\")",
   "id": "c0ab166f519d3e5b",
   "outputs": [],
   "execution_count": 2
  },
  {
   "metadata": {
    "ExecuteTime": {
     "end_time": "2024-11-01T11:17:26.003832Z",
     "start_time": "2024-11-01T11:17:25.997784Z"
    }
   },
   "cell_type": "code",
   "source": "scientists.index",
   "id": "6fb2c17c60963f76",
   "outputs": [
    {
     "data": {
      "text/plain": [
       "RangeIndex(start=0, stop=8, step=1)"
      ]
     },
     "execution_count": 3,
     "metadata": {},
     "output_type": "execute_result"
    }
   ],
   "execution_count": 3
  },
  {
   "metadata": {
    "ExecuteTime": {
     "end_time": "2024-11-01T11:17:40.240441Z",
     "start_time": "2024-11-01T11:17:40.233056Z"
    }
   },
   "cell_type": "code",
   "source": "scientists.columns",
   "id": "8a8495af3692fae8",
   "outputs": [
    {
     "data": {
      "text/plain": [
       "Index(['Name', 'Born', 'Died', 'Age', 'Occupation'], dtype='object')"
      ]
     },
     "execution_count": 4,
     "metadata": {},
     "output_type": "execute_result"
    }
   ],
   "execution_count": 4
  },
  {
   "metadata": {
    "ExecuteTime": {
     "end_time": "2024-11-01T11:17:48.671673Z",
     "start_time": "2024-11-01T11:17:48.663106Z"
    }
   },
   "cell_type": "code",
   "source": "scientists.values",
   "id": "d84799a384da6bd0",
   "outputs": [
    {
     "data": {
      "text/plain": [
       "array([['Rosaline Franklin', '1920-07-25', '1958-04-16', 37, 'Chemist'],\n",
       "       ['William Gosset', '1876-06-13', '1937-10-16', 61, 'Statistician'],\n",
       "       ['Florence Nightingale', '1820-05-12', '1910-08-13', 90, 'Nurse'],\n",
       "       ['Marie Curie', '1867-11-07', '1934-07-04', 66, 'Chemist'],\n",
       "       ['Rachel Carson', '1907-05-27', '1964-04-14', 56, 'Biologist'],\n",
       "       ['John Snow', '1813-03-15', '1858-06-16', 45, 'Physician'],\n",
       "       ['Alan Turing', '1912-06-23', '1954-06-07', 41,\n",
       "        'Computer Scientist'],\n",
       "       ['Johann Gauss', '1777-04-30', '1855-02-23', 77, 'Mathematician']],\n",
       "      dtype=object)"
      ]
     },
     "execution_count": 5,
     "metadata": {},
     "output_type": "execute_result"
    }
   ],
   "execution_count": 5
  },
  {
   "metadata": {},
   "cell_type": "markdown",
   "source": [
    "values는 모든 행 인덱스 정보를 보는 대신 기본 numpy 표현법으로 간단하게 데이터를 살펴볼 때 유용하다.\n",
    "\n",
    "## 데이터프레임과 불리언 추출\n",
    "\n",
    "True나 False와 같은 불리언으로 시리즈의 일부 데이터를 추출할 수 있었던 것처럼 데이터프레임에서도 불리언으로 데이터를 추출할 수 있다. 다음 예제는 scientist 데이터프레임에서 Age 열의 값이 평균값보다 큰 데이터만 추출한다"
   ],
   "id": "31fdfcf6752a4122"
  },
  {
   "metadata": {
    "ExecuteTime": {
     "end_time": "2024-11-01T11:20:54.844324Z",
     "start_time": "2024-11-01T11:20:54.823712Z"
    }
   },
   "cell_type": "code",
   "source": "print(scientists.loc[scientists[\"Age\"] > scientists[\"Age\"].mean()])",
   "id": "844d1d9a38fb5cb2",
   "outputs": [
    {
     "name": "stdout",
     "output_type": "stream",
     "text": [
      "                   Name        Born        Died  Age     Occupation\n",
      "1        William Gosset  1876-06-13  1937-10-16   61   Statistician\n",
      "2  Florence Nightingale  1820-05-12  1910-08-13   90          Nurse\n",
      "3           Marie Curie  1867-11-07  1934-07-04   66        Chemist\n",
      "7          Johann Gauss  1777-04-30  1855-02-23   77  Mathematician\n"
     ]
    }
   ],
   "execution_count": 6
  },
  {
   "metadata": {},
   "cell_type": "markdown",
   "source": [
    "loc 외에도 데이터프레임에서 데이터를 추출하는 다양한 방법은 다음 표를 참고한다.\n",
    "\n",
    "|구문 | 추출결과             |\n",
    "|---|------------------|\n",
    "|df[column_name] | 시리즈              |\n",
    "|df[[column1, column2, column3, ...]] | 데이터 프레임          |\n",
    "|df.loc[row_table] | 행 이름으로 추출한 행 데이터 |\n",
    "|df.loc[[label1, label2, ...]] | 행 이름으로 추출한 여러 행 데이터 |\n",
    "|df.iloc[row_number] | 행 번호로 추출한 행 데이터 |\n",
    "|df.iloc[[row1, row2, ...]] | 행 번호로 추출한 여러 행 데이터 |\n",
    "|df[bool] | 불리언으로 추출한 행 데이터 |\n",
    "|df[[bool1, bool2, ...]] | 불리언으로 추출한 여러 행 데이터 |\n",
    "|df[start:stop:step] | 슬라이싱 구문으로 추출한 여러 행 데이터 |\n",
    "\n",
    "## 데이터프레임과 브로드캐스팅\n",
    "시리즈와 데이터프레임 객체는 넘파이 라이브러리 기반으로 구현했으므로 브로드캐시팅을 지원하는 넘파이와 같이 판다스도 브로드캐시틩을 지원한다. 브로드캐스팅은 배열과 같은 객체 사이에 연산을 수행하는 원리를 의미하며 이는 객체 유형, 길이, 객체와 연결된 레이블 등에 따라 달라진다.\n",
    "\n",
    "### 데이터프레임을 대상으로 연산하기\n",
    "\n",
    "1. 먼저 scientists 데이터프레임을 반씩 나누어 각각 first_half, second_half 라고 정의한다."
   ],
   "id": "794681aba64f250a"
  },
  {
   "metadata": {
    "ExecuteTime": {
     "end_time": "2024-11-01T11:45:47.598623Z",
     "start_time": "2024-11-01T11:45:47.590290Z"
    }
   },
   "cell_type": "code",
   "source": [
    "first_half = scientists[:4]\n",
    "second_half = scientists[4:]\n",
    "print(first_half)"
   ],
   "id": "796d3429213e8586",
   "outputs": [
    {
     "name": "stdout",
     "output_type": "stream",
     "text": [
      "                   Name        Born        Died  Age    Occupation\n",
      "0     Rosaline Franklin  1920-07-25  1958-04-16   37       Chemist\n",
      "1        William Gosset  1876-06-13  1937-10-16   61  Statistician\n",
      "2  Florence Nightingale  1820-05-12  1910-08-13   90         Nurse\n",
      "3           Marie Curie  1867-11-07  1934-07-04   66       Chemist\n"
     ]
    }
   ],
   "execution_count": 7
  },
  {
   "metadata": {
    "ExecuteTime": {
     "end_time": "2024-11-01T11:45:53.748811Z",
     "start_time": "2024-11-01T11:45:53.742983Z"
    }
   },
   "cell_type": "code",
   "source": "print(second_half)",
   "id": "3b05c8f68e9c0387",
   "outputs": [
    {
     "name": "stdout",
     "output_type": "stream",
     "text": [
      "            Name        Born        Died  Age          Occupation\n",
      "4  Rachel Carson  1907-05-27  1964-04-14   56           Biologist\n",
      "5      John Snow  1813-03-15  1858-06-16   45           Physician\n",
      "6    Alan Turing  1912-06-23  1954-06-07   41  Computer Scientist\n",
      "7   Johann Gauss  1777-04-30  1855-02-23   77       Mathematician\n"
     ]
    }
   ],
   "execution_count": 8
  },
  {
   "metadata": {},
   "cell_type": "markdown",
   "source": "2. 데이터프레임과 스칼라를 연산하면 데이터프레임의 각 셀마다 스칼라와 연산을 수행한다. 이때 각 셀의 자료형에 따라 연산이 다르다. 예를 들어 scientists 데이터프레임에 스칼라 2를 곱하면 숫자 셀은 2배가 되고 문자열은 두 번 반복한다. 문자열과 스칼라의 연산은 파이썬의 기본 연산 방식과 같다. ",
   "id": "3aa9734e4d183d27"
  },
  {
   "metadata": {
    "ExecuteTime": {
     "end_time": "2024-11-01T11:47:25.713392Z",
     "start_time": "2024-11-01T11:47:25.706683Z"
    }
   },
   "cell_type": "code",
   "source": "print(scientists * 2)",
   "id": "28601e49f3d87b69",
   "outputs": [
    {
     "name": "stdout",
     "output_type": "stream",
     "text": [
      "                                       Name                  Born  \\\n",
      "0        Rosaline FranklinRosaline Franklin  1920-07-251920-07-25   \n",
      "1              William GossetWilliam Gosset  1876-06-131876-06-13   \n",
      "2  Florence NightingaleFlorence Nightingale  1820-05-121820-05-12   \n",
      "3                    Marie CurieMarie Curie  1867-11-071867-11-07   \n",
      "4                Rachel CarsonRachel Carson  1907-05-271907-05-27   \n",
      "5                        John SnowJohn Snow  1813-03-151813-03-15   \n",
      "6                    Alan TuringAlan Turing  1912-06-231912-06-23   \n",
      "7                  Johann GaussJohann Gauss  1777-04-301777-04-30   \n",
      "\n",
      "                   Died  Age                            Occupation  \n",
      "0  1958-04-161958-04-16   74                        ChemistChemist  \n",
      "1  1937-10-161937-10-16  122              StatisticianStatistician  \n",
      "2  1910-08-131910-08-13  180                            NurseNurse  \n",
      "3  1934-07-041934-07-04  132                        ChemistChemist  \n",
      "4  1964-04-141964-04-14  112                    BiologistBiologist  \n",
      "5  1858-06-161858-06-16   90                    PhysicianPhysician  \n",
      "6  1954-06-071954-06-07   82  Computer ScientistComputer Scientist  \n",
      "7  1855-02-231855-02-23  154            MathematicianMathematician  \n"
     ]
    }
   ],
   "execution_count": 9
  },
  {
   "metadata": {},
   "cell_type": "markdown",
   "source": "데이터프레임의 모든 값이 숫자이고 같은 셀끼리 값을 더하고 싶다면 add() 메서드를 사용한다.",
   "id": "b39649ffed1059fc"
  },
  {
   "metadata": {
    "ExecuteTime": {
     "end_time": "2024-11-01T11:48:37.152934Z",
     "start_time": "2024-11-01T11:48:37.147726Z"
    }
   },
   "cell_type": "code",
   "source": [
    "df1 = df2 = pd.DataFrame(data=[[1,2,3], [4,5,6], [7,8,9]])\n",
    "df_added = df1.add(df2)\n",
    "print(df_added)"
   ],
   "id": "460cd2b8335e8b26",
   "outputs": [
    {
     "name": "stdout",
     "output_type": "stream",
     "text": [
      "    0   1   2\n",
      "0   2   4   6\n",
      "1   8  10  12\n",
      "2  14  16  18\n"
     ]
    }
   ],
   "execution_count": 10
  }
 ],
 "metadata": {
  "kernelspec": {
   "display_name": "Python 3",
   "language": "python",
   "name": "python3"
  },
  "language_info": {
   "codemirror_mode": {
    "name": "ipython",
    "version": 2
   },
   "file_extension": ".py",
   "mimetype": "text/x-python",
   "name": "python",
   "nbconvert_exporter": "python",
   "pygments_lexer": "ipython2",
   "version": "2.7.6"
  }
 },
 "nbformat": 4,
 "nbformat_minor": 5
}
