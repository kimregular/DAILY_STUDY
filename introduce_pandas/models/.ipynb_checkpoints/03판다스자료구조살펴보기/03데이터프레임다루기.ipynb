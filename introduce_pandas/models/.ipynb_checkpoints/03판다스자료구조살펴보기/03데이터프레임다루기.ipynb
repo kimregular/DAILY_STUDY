{
 "cells": [
  {
   "metadata": {},
   "cell_type": "markdown",
   "source": [
    "데이터프레임은 가장 일반적인 판다스 객체이다. 파이썬이 스프레드시트와 같은 데이터를 저장하는 방식으로 이해할 수 있다. 이와 함께 시리즈 자료구조의 특성 대부분은 데이터프레임에서도 볼 수 있다.\n",
    "\n",
    "## 데이터프레임의 구성\n",
    "판다스 데이터프레임 객체에는 각각 행 이름, 열 이름, 데이터를 나타내는 index, columns, values 의 3가지 구성 요소가 있다."
   ],
   "id": "5dba92e5bf093a10"
  },
  {
   "cell_type": "code",
   "id": "initial_id",
   "metadata": {
    "collapsed": true,
    "ExecuteTime": {
     "end_time": "2024-11-01T11:16:51.351505Z",
     "start_time": "2024-11-01T11:16:51.062716Z"
    }
   },
   "source": "import pandas as pd",
   "outputs": [],
   "execution_count": 1
  },
  {
   "metadata": {
    "ExecuteTime": {
     "end_time": "2024-11-01T11:17:13.202411Z",
     "start_time": "2024-11-01T11:17:13.185619Z"
    }
   },
   "cell_type": "code",
   "source": "scientists = pd.read_csv(\"../../../data/scientists.csv\")",
   "id": "c0ab166f519d3e5b",
   "outputs": [],
   "execution_count": 2
  },
  {
   "metadata": {
    "ExecuteTime": {
     "end_time": "2024-11-01T11:17:26.003832Z",
     "start_time": "2024-11-01T11:17:25.997784Z"
    }
   },
   "cell_type": "code",
   "source": "scientists.index",
   "id": "6fb2c17c60963f76",
   "outputs": [
    {
     "data": {
      "text/plain": [
       "RangeIndex(start=0, stop=8, step=1)"
      ]
     },
     "execution_count": 3,
     "metadata": {},
     "output_type": "execute_result"
    }
   ],
   "execution_count": 3
  },
  {
   "metadata": {
    "ExecuteTime": {
     "end_time": "2024-11-01T11:17:40.240441Z",
     "start_time": "2024-11-01T11:17:40.233056Z"
    }
   },
   "cell_type": "code",
   "source": "scientists.columns",
   "id": "8a8495af3692fae8",
   "outputs": [
    {
     "data": {
      "text/plain": [
       "Index(['Name', 'Born', 'Died', 'Age', 'Occupation'], dtype='object')"
      ]
     },
     "execution_count": 4,
     "metadata": {},
     "output_type": "execute_result"
    }
   ],
   "execution_count": 4
  },
  {
   "metadata": {
    "ExecuteTime": {
     "end_time": "2024-11-01T11:17:48.671673Z",
     "start_time": "2024-11-01T11:17:48.663106Z"
    }
   },
   "cell_type": "code",
   "source": "scientists.values",
   "id": "d84799a384da6bd0",
   "outputs": [
    {
     "data": {
      "text/plain": [
       "array([['Rosaline Franklin', '1920-07-25', '1958-04-16', 37, 'Chemist'],\n",
       "       ['William Gosset', '1876-06-13', '1937-10-16', 61, 'Statistician'],\n",
       "       ['Florence Nightingale', '1820-05-12', '1910-08-13', 90, 'Nurse'],\n",
       "       ['Marie Curie', '1867-11-07', '1934-07-04', 66, 'Chemist'],\n",
       "       ['Rachel Carson', '1907-05-27', '1964-04-14', 56, 'Biologist'],\n",
       "       ['John Snow', '1813-03-15', '1858-06-16', 45, 'Physician'],\n",
       "       ['Alan Turing', '1912-06-23', '1954-06-07', 41,\n",
       "        'Computer Scientist'],\n",
       "       ['Johann Gauss', '1777-04-30', '1855-02-23', 77, 'Mathematician']],\n",
       "      dtype=object)"
      ]
     },
     "execution_count": 5,
     "metadata": {},
     "output_type": "execute_result"
    }
   ],
   "execution_count": 5
  },
  {
   "metadata": {},
   "cell_type": "markdown",
   "source": [
    "values는 모든 행 인덱스 정보를 보는 대신 기본 numpy 표현법으로 간단하게 데이터를 살펴볼 때 유용하다.\n",
    "\n",
    "## 데이터프레임과 불리언 추출\n",
    "\n",
    "True나 False와 같은 불리언으로 시리즈의 일부 데이터를 추출할 수 있었던 것처럼 데이터프레임에서도 불리언으로 데이터를 추출할 수 있다. 다음 예제는 scientist 데이터프레임에서 Age 열의 값이 평균값보다 큰 데이터만 추출한다"
   ],
   "id": "31fdfcf6752a4122"
  },
  {
   "metadata": {
    "ExecuteTime": {
     "end_time": "2024-11-01T11:20:54.844324Z",
     "start_time": "2024-11-01T11:20:54.823712Z"
    }
   },
   "cell_type": "code",
   "source": "print(scientists.loc[scientists[\"Age\"] > scientists[\"Age\"].mean()])",
   "id": "844d1d9a38fb5cb2",
   "outputs": [
    {
     "name": "stdout",
     "output_type": "stream",
     "text": [
      "                   Name        Born        Died  Age     Occupation\n",
      "1        William Gosset  1876-06-13  1937-10-16   61   Statistician\n",
      "2  Florence Nightingale  1820-05-12  1910-08-13   90          Nurse\n",
      "3           Marie Curie  1867-11-07  1934-07-04   66        Chemist\n",
      "7          Johann Gauss  1777-04-30  1855-02-23   77  Mathematician\n"
     ]
    }
   ],
   "execution_count": 6
  },
  {
   "metadata": {},
   "cell_type": "markdown",
   "source": [
    "loc 외에도 데이터프레임에서 데이터를 추출하는 다양한 방법은 다음 표를 참고한다.\n",
    "\n",
    "|구문 | 추출결과             |\n",
    "|---|------------------|\n",
    "|df[column_name] | 시리즈              |\n",
    "|df[[column1, column2, column3, ...]] | 데이터 프레임          |\n",
    "|df.loc[row_table] | 행 이름으로 추출한 행 데이터 |\n",
    "|df.loc[[label1, label2, ...]] | 행 이름으로 추출한 여러 행 데이터 |\n",
    "|df.iloc[row_number] | 행 번호로 추출한 행 데이터 |\n",
    "|df.iloc[[row1, row2, ...]] | 행 번호로 추출한 여러 행 데이터 |\n",
    "|df[bool] | 불리언으로 추출한 행 데이터 |\n",
    "|df[[bool1, bool2, ...]] | 불리언으로 추출한 여러 행 데이터 |\n",
    "|df[start:stop:step] | 슬라이싱 구문으로 추출한 여러 행 데이터 |\n"
   ],
   "id": "794681aba64f250a"
  },
  {
   "metadata": {},
   "cell_type": "code",
   "outputs": [],
   "execution_count": null,
   "source": "",
   "id": "796d3429213e8586"
  },
  {
   "metadata": {},
   "cell_type": "code",
   "outputs": [],
   "execution_count": null,
   "source": "",
   "id": "3b05c8f68e9c0387"
  }
 ],
 "metadata": {
  "kernelspec": {
   "display_name": "Python 3",
   "language": "python",
   "name": "python3"
  },
  "language_info": {
   "codemirror_mode": {
    "name": "ipython",
    "version": 2
   },
   "file_extension": ".py",
   "mimetype": "text/x-python",
   "name": "python",
   "nbconvert_exporter": "python",
   "pygments_lexer": "ipython2",
   "version": "2.7.6"
  }
 },
 "nbformat": 4,
 "nbformat_minor": 5
}
