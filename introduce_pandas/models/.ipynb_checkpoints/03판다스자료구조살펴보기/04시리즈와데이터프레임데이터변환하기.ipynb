{
 "cells": [
  {
   "metadata": {
    "ExecuteTime": {
     "end_time": "2024-11-01T11:53:04.298673Z",
     "start_time": "2024-11-01T11:53:03.982297Z"
    }
   },
   "cell_type": "code",
   "source": [
    "import pandas as pd\n",
    "scientists = pd.read_csv(\"../../../data/scientists.csv\")"
   ],
   "id": "bb2bcfa44dc1c2d",
   "outputs": [],
   "execution_count": 1
  },
  {
   "metadata": {},
   "cell_type": "markdown",
   "source": [
    "데이터를 추출하고 슬라이싱하는 방법을 알았으니 이번에는 데이터 객체 변경 방법을 살펴보자.\n",
    "\n",
    "### 열 추가하기\n",
    "1. 여기서도 scientists 데이터프레임을 사용한다. 데이터프레임의 dtypes 속성을 사용하여 각 열의 유형을 보면 Born열과 Died 열의 dtype은 object이다. 즉, 두 열의 값은 문자열 또는 일련의 문자이다."
   ],
   "id": "1ceef9f449018a03"
  },
  {
   "metadata": {
    "ExecuteTime": {
     "end_time": "2024-11-01T11:53:15.375493Z",
     "start_time": "2024-11-01T11:53:15.366495Z"
    }
   },
   "cell_type": "code",
   "source": "print(scientists.dtypes)",
   "id": "4c8c96d5f634c135",
   "outputs": [
    {
     "name": "stdout",
     "output_type": "stream",
     "text": [
      "Name          object\n",
      "Born          object\n",
      "Died          object\n",
      "Age            int64\n",
      "Occupation    object\n",
      "dtype: object\n"
     ]
    }
   ],
   "execution_count": 2
  },
  {
   "metadata": {},
   "cell_type": "markdown",
   "source": "날짜와 시간을 나타내는 문자열은 date",
   "id": "4bc45b9e40dffec0"
  },
  {
   "metadata": {},
   "cell_type": "code",
   "outputs": [],
   "execution_count": null,
   "source": "",
   "id": "37542fb3a4d8a70b"
  }
 ],
 "metadata": {
  "kernelspec": {
   "display_name": "Python 3",
   "language": "python",
   "name": "python3"
  },
  "language_info": {
   "codemirror_mode": {
    "name": "ipython",
    "version": 2
   },
   "file_extension": ".py",
   "mimetype": "text/x-python",
   "name": "python",
   "nbconvert_exporter": "python",
   "pygments_lexer": "ipython2",
   "version": "2.7.6"
  }
 },
 "nbformat": 4,
 "nbformat_minor": 5
}
