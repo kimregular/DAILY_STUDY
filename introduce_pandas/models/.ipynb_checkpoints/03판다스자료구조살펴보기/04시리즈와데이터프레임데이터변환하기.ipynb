{
 "cells": [
  {
   "metadata": {
    "ExecuteTime": {
     "end_time": "2024-11-01T11:53:04.298673Z",
     "start_time": "2024-11-01T11:53:03.982297Z"
    }
   },
   "cell_type": "code",
   "source": [
    "import pandas as pd\n",
    "scientists = pd.read_csv(\"../../../data/scientists.csv\")"
   ],
   "id": "bb2bcfa44dc1c2d",
   "outputs": [],
   "execution_count": 1
  },
  {
   "metadata": {},
   "cell_type": "markdown",
   "source": [
    "데이터를 추출하고 슬라이싱하는 방법을 알았으니 이번에는 데이터 객체 변경 방법을 살펴보자.\n",
    "\n",
    "### 열 추가하기\n",
    "1. 여기서도 scientists 데이터프레임을 사용한다. 데이터프레임의 dtypes 속성을 사용하여 각 열의 유형을 보면 Born열과 Died 열의 dtype은 object이다. 즉, 두 열의 값은 문자열 또는 일련의 문자이다."
   ],
   "id": "1ceef9f449018a03"
  },
  {
   "metadata": {
    "ExecuteTime": {
     "end_time": "2024-11-01T11:53:15.375493Z",
     "start_time": "2024-11-01T11:53:15.366495Z"
    }
   },
   "cell_type": "code",
   "source": "print(scientists.dtypes)",
   "id": "4c8c96d5f634c135",
   "outputs": [
    {
     "name": "stdout",
     "output_type": "stream",
     "text": [
      "Name          object\n",
      "Born          object\n",
      "Died          object\n",
      "Age            int64\n",
      "Occupation    object\n",
      "dtype: object\n"
     ]
    }
   ],
   "execution_count": 2
  },
  {
   "metadata": {},
   "cell_type": "markdown",
   "source": [
    "날짜와 시간을 나타내는 문자열은 datetime 형으로 변환하는 것이 좋다. 날짜 차이를 계산하거나 사람의 나이를 계산하는 등 날짜와 시간 계산에 다양하게 활용할 수 있기 때문이다. 날짜 문자열이 다른 형식이라면 매개변수 format을 지정하여 원하는 형식의 datetime으로 변환할 수 있다. datetime 모듈에서 제공하는 형식은 공식 문서를 참고하자.\n",
    "\n",
    "2. Born 열을 문자열(object)에서 datetime형으로 변환해보자. 이 열의 날짜 형식은 YYYY-MM-DD 이므로 format에 %Y-%m-%d를 지정하고 변환 결과는 born_datetime에 저장한다."
   ],
   "id": "4bc45b9e40dffec0"
  },
  {
   "metadata": {
    "ExecuteTime": {
     "end_time": "2024-11-01T11:56:41.239405Z",
     "start_time": "2024-11-01T11:56:41.208600Z"
    }
   },
   "cell_type": "code",
   "source": [
    "born_datetime = pd.to_datetime(scientists[\"Born\"], format=\"%Y-%m-%d\")\n",
    "print(born_datetime)"
   ],
   "id": "37542fb3a4d8a70b",
   "outputs": [
    {
     "name": "stdout",
     "output_type": "stream",
     "text": [
      "0   1920-07-25\n",
      "1   1876-06-13\n",
      "2   1820-05-12\n",
      "3   1867-11-07\n",
      "4   1907-05-27\n",
      "5   1813-03-15\n",
      "6   1912-06-23\n",
      "7   1777-04-30\n",
      "Name: Born, dtype: datetime64[ns]\n"
     ]
    }
   ],
   "execution_count": 3
  },
  {
   "metadata": {},
   "cell_type": "markdown",
   "source": "3. Died 열도 Born 열과 같은 형식이므로 같은 방법으로 변환하고 died_datetime에 저장한다.",
   "id": "82de47b7b226f815"
  },
  {
   "metadata": {
    "ExecuteTime": {
     "end_time": "2024-11-01T11:57:27.936608Z",
     "start_time": "2024-11-01T11:57:27.928900Z"
    }
   },
   "cell_type": "code",
   "source": [
    "died_datetime = pd.to_datetime(scientists[\"Died\"], format=\"%Y-%m-%d\")\n",
    "print(died_datetime)"
   ],
   "id": "2632a1d2f1ef9355",
   "outputs": [
    {
     "name": "stdout",
     "output_type": "stream",
     "text": [
      "0   1958-04-16\n",
      "1   1937-10-16\n",
      "2   1910-08-13\n",
      "3   1934-07-04\n",
      "4   1964-04-14\n",
      "5   1858-06-16\n",
      "6   1954-06-07\n",
      "7   1855-02-23\n",
      "Name: Died, dtype: datetime64[ns]\n"
     ]
    }
   ],
   "execution_count": 4
  },
  {
   "metadata": {},
   "cell_type": "markdown",
   "source": "4. 이제 born_datetime과 died_datetime을 각각 born_dt, died_dt라는 새로운 열로 scientists 데이터프레임에 추가하자.",
   "id": "166081cd594e4d86"
  },
  {
   "metadata": {
    "ExecuteTime": {
     "end_time": "2024-11-01T11:58:44.205793Z",
     "start_time": "2024-11-01T11:58:44.197927Z"
    }
   },
   "cell_type": "code",
   "source": "scientists[\"born_dt\"], scientists[\"died_dt\"] = born_datetime, died_datetime",
   "id": "791e1e75c90fb750",
   "outputs": [],
   "execution_count": 5
  },
  {
   "metadata": {
    "ExecuteTime": {
     "end_time": "2024-11-01T11:58:54.513007Z",
     "start_time": "2024-11-01T11:58:54.503540Z"
    }
   },
   "cell_type": "code",
   "source": "print(scientists.head())",
   "id": "4c2535556682cebb",
   "outputs": [
    {
     "name": "stdout",
     "output_type": "stream",
     "text": [
      "                   Name        Born        Died  Age    Occupation    born_dt  \\\n",
      "0     Rosaline Franklin  1920-07-25  1958-04-16   37       Chemist 1920-07-25   \n",
      "1        William Gosset  1876-06-13  1937-10-16   61  Statistician 1876-06-13   \n",
      "2  Florence Nightingale  1820-05-12  1910-08-13   90         Nurse 1820-05-12   \n",
      "3           Marie Curie  1867-11-07  1934-07-04   66       Chemist 1867-11-07   \n",
      "4         Rachel Carson  1907-05-27  1964-04-14   56     Biologist 1907-05-27   \n",
      "\n",
      "     died_dt  \n",
      "0 1958-04-16  \n",
      "1 1937-10-16  \n",
      "2 1910-08-13  \n",
      "3 1934-07-04  \n",
      "4 1964-04-14  \n"
     ]
    }
   ],
   "execution_count": 6
  },
  {
   "metadata": {},
   "cell_type": "markdown",
   "source": "5. shape과 dtypes 속성으로 데이터프레임의 모양과 각 열의 자료형도 살펴보자.",
   "id": "bae00b5b4722424e"
  },
  {
   "metadata": {
    "ExecuteTime": {
     "end_time": "2024-11-01T11:59:48.320982Z",
     "start_time": "2024-11-01T11:59:48.297199Z"
    }
   },
   "cell_type": "code",
   "source": "print(scientists.shape)",
   "id": "b36db1ba0009e882",
   "outputs": [
    {
     "name": "stdout",
     "output_type": "stream",
     "text": [
      "(8, 7)\n"
     ]
    }
   ],
   "execution_count": 7
  },
  {
   "metadata": {
    "ExecuteTime": {
     "end_time": "2024-11-01T11:59:55.422885Z",
     "start_time": "2024-11-01T11:59:55.414568Z"
    }
   },
   "cell_type": "code",
   "source": "print(scientists.dtypes)",
   "id": "f4e62874fc62390f",
   "outputs": [
    {
     "name": "stdout",
     "output_type": "stream",
     "text": [
      "Name                  object\n",
      "Born                  object\n",
      "Died                  object\n",
      "Age                    int64\n",
      "Occupation            object\n",
      "born_dt       datetime64[ns]\n",
      "died_dt       datetime64[ns]\n",
      "dtype: object\n"
     ]
    }
   ],
   "execution_count": 8
  },
  {
   "metadata": {},
   "cell_type": "code",
   "outputs": [],
   "execution_count": null,
   "source": "",
   "id": "695df01aac90cc70"
  }
 ],
 "metadata": {
  "kernelspec": {
   "display_name": "Python 3",
   "language": "python",
   "name": "python3"
  },
  "language_info": {
   "codemirror_mode": {
    "name": "ipython",
    "version": 2
   },
   "file_extension": ".py",
   "mimetype": "text/x-python",
   "name": "python",
   "nbconvert_exporter": "python",
   "pygments_lexer": "ipython2",
   "version": "2.7.6"
  }
 },
 "nbformat": 4,
 "nbformat_minor": 5
}
