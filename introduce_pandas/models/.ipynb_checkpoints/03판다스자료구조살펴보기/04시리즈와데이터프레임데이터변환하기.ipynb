{
 "cells": [
  {
   "metadata": {
    "ExecuteTime": {
     "end_time": "2024-11-01T11:53:04.298673Z",
     "start_time": "2024-11-01T11:53:03.982297Z"
    }
   },
   "cell_type": "code",
   "source": [
    "import pandas as pd\n",
    "scientists = pd.read_csv(\"../../../data/scientists.csv\")"
   ],
   "id": "bb2bcfa44dc1c2d",
   "outputs": [],
   "execution_count": 1
  },
  {
   "metadata": {},
   "cell_type": "markdown",
   "source": [
    "데이터를 추출하고 슬라이싱하는 방법을 알았으니 이번에는 데이터 객체 변경 방법을 살펴보자.\n",
    "\n",
    "### 열 추가하기\n",
    "1. 여기서도 scientists 데이터프레임을 사용한다. 데이터프레임의 dtypes 속성을 사용하여 각 열의 유형을 보면 Born열과 Died 열의 dtype은 object이다. 즉, 두 열의 값은 문자열 또는 일련의 문자이다."
   ],
   "id": "1ceef9f449018a03"
  },
  {
   "metadata": {
    "ExecuteTime": {
     "end_time": "2024-11-01T11:53:15.375493Z",
     "start_time": "2024-11-01T11:53:15.366495Z"
    }
   },
   "cell_type": "code",
   "source": "print(scientists.dtypes)",
   "id": "4c8c96d5f634c135",
   "outputs": [
    {
     "name": "stdout",
     "output_type": "stream",
     "text": [
      "Name          object\n",
      "Born          object\n",
      "Died          object\n",
      "Age            int64\n",
      "Occupation    object\n",
      "dtype: object\n"
     ]
    }
   ],
   "execution_count": 2
  },
  {
   "metadata": {},
   "cell_type": "markdown",
   "source": [
    "날짜와 시간을 나타내는 문자열은 datetime 형으로 변환하는 것이 좋다. 날짜 차이를 계산하거나 사람의 나이를 계산하는 등 날짜와 시간 계산에 다양하게 활용할 수 있기 때문이다. 날짜 문자열이 다른 형식이라면 매개변수 format을 지정하여 원하는 형식의 datetime으로 변환할 수 있다. datetime 모듈에서 제공하는 형식은 공식 문서를 참고하자.\n",
    "\n",
    "2. Born 열을 문자열(object)에서 datetime형으로 변환해보자. 이 열의 날짜 형식은 YYYY-MM-DD 이므로 format에 %Y-%m-%d를 지정하고 변환 결과는 born_datetime에 저장한다."
   ],
   "id": "4bc45b9e40dffec0"
  },
  {
   "metadata": {
    "ExecuteTime": {
     "end_time": "2024-11-01T11:56:41.239405Z",
     "start_time": "2024-11-01T11:56:41.208600Z"
    }
   },
   "cell_type": "code",
   "source": [
    "born_datetime = pd.to_datetime(scientists[\"Born\"], format=\"%Y-%m-%d\")\n",
    "print(born_datetime)"
   ],
   "id": "37542fb3a4d8a70b",
   "outputs": [
    {
     "name": "stdout",
     "output_type": "stream",
     "text": [
      "0   1920-07-25\n",
      "1   1876-06-13\n",
      "2   1820-05-12\n",
      "3   1867-11-07\n",
      "4   1907-05-27\n",
      "5   1813-03-15\n",
      "6   1912-06-23\n",
      "7   1777-04-30\n",
      "Name: Born, dtype: datetime64[ns]\n"
     ]
    }
   ],
   "execution_count": 3
  },
  {
   "metadata": {},
   "cell_type": "markdown",
   "source": "3. Died 열도 Born 열과 같은 형식이므로 같은 방법으로 변환하고 died_datetime에 저장한다.",
   "id": "82de47b7b226f815"
  },
  {
   "metadata": {
    "ExecuteTime": {
     "end_time": "2024-11-01T11:57:27.936608Z",
     "start_time": "2024-11-01T11:57:27.928900Z"
    }
   },
   "cell_type": "code",
   "source": [
    "died_datetime = pd.to_datetime(scientists[\"Died\"], format=\"%Y-%m-%d\")\n",
    "print(died_datetime)"
   ],
   "id": "2632a1d2f1ef9355",
   "outputs": [
    {
     "name": "stdout",
     "output_type": "stream",
     "text": [
      "0   1958-04-16\n",
      "1   1937-10-16\n",
      "2   1910-08-13\n",
      "3   1934-07-04\n",
      "4   1964-04-14\n",
      "5   1858-06-16\n",
      "6   1954-06-07\n",
      "7   1855-02-23\n",
      "Name: Died, dtype: datetime64[ns]\n"
     ]
    }
   ],
   "execution_count": 4
  },
  {
   "metadata": {},
   "cell_type": "markdown",
   "source": "4. 이제 born_datetime과 died_datetime을 각각 born_dt, died_dt라는 새로운 열로 scientists 데이터프레임에 추가하자.",
   "id": "166081cd594e4d86"
  },
  {
   "metadata": {
    "ExecuteTime": {
     "end_time": "2024-11-01T11:58:44.205793Z",
     "start_time": "2024-11-01T11:58:44.197927Z"
    }
   },
   "cell_type": "code",
   "source": "scientists[\"born_dt\"], scientists[\"died_dt\"] = born_datetime, died_datetime",
   "id": "791e1e75c90fb750",
   "outputs": [],
   "execution_count": 5
  },
  {
   "metadata": {
    "ExecuteTime": {
     "end_time": "2024-11-01T11:58:54.513007Z",
     "start_time": "2024-11-01T11:58:54.503540Z"
    }
   },
   "cell_type": "code",
   "source": "print(scientists.head())",
   "id": "4c2535556682cebb",
   "outputs": [
    {
     "name": "stdout",
     "output_type": "stream",
     "text": [
      "                   Name        Born        Died  Age    Occupation    born_dt  \\\n",
      "0     Rosaline Franklin  1920-07-25  1958-04-16   37       Chemist 1920-07-25   \n",
      "1        William Gosset  1876-06-13  1937-10-16   61  Statistician 1876-06-13   \n",
      "2  Florence Nightingale  1820-05-12  1910-08-13   90         Nurse 1820-05-12   \n",
      "3           Marie Curie  1867-11-07  1934-07-04   66       Chemist 1867-11-07   \n",
      "4         Rachel Carson  1907-05-27  1964-04-14   56     Biologist 1907-05-27   \n",
      "\n",
      "     died_dt  \n",
      "0 1958-04-16  \n",
      "1 1937-10-16  \n",
      "2 1910-08-13  \n",
      "3 1934-07-04  \n",
      "4 1964-04-14  \n"
     ]
    }
   ],
   "execution_count": 6
  },
  {
   "metadata": {},
   "cell_type": "markdown",
   "source": "5. shape과 dtypes 속성으로 데이터프레임의 모양과 각 열의 자료형도 살펴보자.",
   "id": "bae00b5b4722424e"
  },
  {
   "metadata": {
    "ExecuteTime": {
     "end_time": "2024-11-01T11:59:48.320982Z",
     "start_time": "2024-11-01T11:59:48.297199Z"
    }
   },
   "cell_type": "code",
   "source": "print(scientists.shape)",
   "id": "b36db1ba0009e882",
   "outputs": [
    {
     "name": "stdout",
     "output_type": "stream",
     "text": [
      "(8, 7)\n"
     ]
    }
   ],
   "execution_count": 7
  },
  {
   "metadata": {
    "ExecuteTime": {
     "end_time": "2024-11-01T11:59:55.422885Z",
     "start_time": "2024-11-01T11:59:55.414568Z"
    }
   },
   "cell_type": "code",
   "source": "print(scientists.dtypes)",
   "id": "f4e62874fc62390f",
   "outputs": [
    {
     "name": "stdout",
     "output_type": "stream",
     "text": [
      "Name                  object\n",
      "Born                  object\n",
      "Died                  object\n",
      "Age                    int64\n",
      "Occupation            object\n",
      "born_dt       datetime64[ns]\n",
      "died_dt       datetime64[ns]\n",
      "dtype: object\n"
     ]
    }
   ],
   "execution_count": 8
  },
  {
   "metadata": {},
   "cell_type": "markdown",
   "source": [
    "### 열 내용 변환하기\n",
    "1. 여기서는 열 내용을 무작위로 섞어 보겠다. 먼저 scientists 데이터프레임의 Age열을 살펴보자."
   ],
   "id": "b6b49275003c979"
  },
  {
   "metadata": {
    "ExecuteTime": {
     "end_time": "2024-11-01T12:06:38.706205Z",
     "start_time": "2024-11-01T12:06:38.694642Z"
    }
   },
   "cell_type": "code",
   "source": "print(scientists[\"Age\"])",
   "id": "695df01aac90cc70",
   "outputs": [
    {
     "name": "stdout",
     "output_type": "stream",
     "text": [
      "0    37\n",
      "1    61\n",
      "2    90\n",
      "3    66\n",
      "4    56\n",
      "5    45\n",
      "6    41\n",
      "7    77\n",
      "Name: Age, dtype: int64\n"
     ]
    }
   ],
   "execution_count": 9
  },
  {
   "metadata": {},
   "cell_type": "markdown",
   "source": "2. 이제 열을 섞어 보자. 시리즈의 sample() 메서드를 사용하여 열을 무작위로 섞어 보자. sample() 메서드는 무작위로 시리즈의 값을 추출하는 메서드로, 매개변수 frac에 원하는 추출 비율을 0~1 사이의 값으로 지정할 수 있다. 열 전체의 값을 무작위로 섞고자 하므로 전체 값(100%)을 추출한다는 의미로 1을 지정한다. 매개변수 random_state는 컴퓨터가 생성하는 난수의 기준값을 정하는 역할로, 같은 값을 사용하면 같은 결과를 얻는다. 여기서는 42로 지정했다.",
   "id": "afd6499102bc17fb"
  },
  {
   "metadata": {
    "ExecuteTime": {
     "end_time": "2024-11-01T12:09:05.203492Z",
     "start_time": "2024-11-01T12:09:05.196983Z"
    }
   },
   "cell_type": "code",
   "source": "print(scientists[\"Age\"].sample(frac=1, random_state=42))",
   "id": "d4f469e6f3345ac5",
   "outputs": [
    {
     "name": "stdout",
     "output_type": "stream",
     "text": [
      "1    61\n",
      "5    45\n",
      "0    37\n",
      "7    77\n",
      "2    90\n",
      "4    56\n",
      "3    66\n",
      "6    41\n",
      "Name: Age, dtype: int64\n"
     ]
    }
   ],
   "execution_count": 10
  },
  {
   "metadata": {},
   "cell_type": "markdown",
   "source": "3. 열 값의 순서가 무작위로 변한 것을 알 수 있다. 이제 이렇게 섞인 열을 Age 열에 할당하고 어떻게 변했는지 살펴보자.",
   "id": "f5c80ac77396ffb9"
  },
  {
   "metadata": {
    "ExecuteTime": {
     "end_time": "2024-11-01T12:10:35.844796Z",
     "start_time": "2024-11-01T12:10:35.827889Z"
    }
   },
   "cell_type": "code",
   "source": [
    "scientists[\"Age\"] = scientists[\"Age\"].sample(frac=1, random_state=42)\n",
    "print(scientists.head())"
   ],
   "id": "40877a02291b3b1b",
   "outputs": [
    {
     "name": "stdout",
     "output_type": "stream",
     "text": [
      "                   Name        Born        Died  Age    Occupation    born_dt  \\\n",
      "0     Rosaline Franklin  1920-07-25  1958-04-16   37       Chemist 1920-07-25   \n",
      "1        William Gosset  1876-06-13  1937-10-16   61  Statistician 1876-06-13   \n",
      "2  Florence Nightingale  1820-05-12  1910-08-13   90         Nurse 1820-05-12   \n",
      "3           Marie Curie  1867-11-07  1934-07-04   66       Chemist 1867-11-07   \n",
      "4         Rachel Carson  1907-05-27  1964-04-14   56     Biologist 1907-05-27   \n",
      "\n",
      "     died_dt  \n",
      "0 1958-04-16  \n",
      "1 1937-10-16  \n",
      "2 1910-08-13  \n",
      "3 1934-07-04  \n",
      "4 1964-04-14  \n"
     ]
    }
   ],
   "execution_count": 11
  },
  {
   "metadata": {},
   "cell_type": "markdown",
   "source": [
    "분명히 순서를 섞은 데이터를 할당했는데 Age 열의 값이 기존 순서대로 돌아왔다. 이것은 판다스가 대부분의 연산에서 index를 기준으로 자동 병합하기 때문이다. 즉, 열의 값을 섞을 때 각 값에 대응하는 인덱스는 변하지 ㅇ낳으면서 제자리를 찾아간 것이다. 이 문제를 해결하려면 열의 값을 할당할 때 index 정보를 제거해야한다.\n",
    "\n",
    "4. 인덱스 정보 없이 값만 반환하는 values를 사용하면 섞인 값을 그대로 할당할 수 있다."
   ],
   "id": "df7375278957470e"
  },
  {
   "metadata": {
    "ExecuteTime": {
     "end_time": "2024-11-01T12:13:12.075435Z",
     "start_time": "2024-11-01T12:13:12.066878Z"
    }
   },
   "cell_type": "code",
   "source": [
    "scientists[\"Age\"] = scientists[\"Age\"].sample(frac=1, random_state=42).values\n",
    "print(scientists.head())"
   ],
   "id": "12635988c2f0220",
   "outputs": [
    {
     "name": "stdout",
     "output_type": "stream",
     "text": [
      "                   Name        Born        Died  Age    Occupation    born_dt  \\\n",
      "0     Rosaline Franklin  1920-07-25  1958-04-16   61       Chemist 1920-07-25   \n",
      "1        William Gosset  1876-06-13  1937-10-16   45  Statistician 1876-06-13   \n",
      "2  Florence Nightingale  1820-05-12  1910-08-13   37         Nurse 1820-05-12   \n",
      "3           Marie Curie  1867-11-07  1934-07-04   77       Chemist 1867-11-07   \n",
      "4         Rachel Carson  1907-05-27  1964-04-14   90     Biologist 1907-05-27   \n",
      "\n",
      "     died_dt  \n",
      "0 1958-04-16  \n",
      "1 1937-10-16  \n",
      "2 1910-08-13  \n",
      "3 1934-07-04  \n",
      "4 1964-04-14  \n"
     ]
    }
   ],
   "execution_count": 12
  },
  {
   "metadata": {},
   "cell_type": "markdown",
   "source": [
    "이제 값이 잘 섞여서 저장되었다. 그런데 데이터의 나이 정보가 뒤죽박죽이 뒤었다. 다행히 출생일과 사망일 정보가 있으니 정확한 나이를 계산할 수 있다.\n",
    "\n",
    "5. datetime 연산을 사용하여 각 과학자의 실제 나이를 구해보자. 앞에서 구한 born_dt와 died_dt 열의 날짜 차이를 계산하고 이것을 새로운 열 age_days에 저장한다."
   ],
   "id": "abb477dbf532a866"
  },
  {
   "metadata": {
    "ExecuteTime": {
     "end_time": "2024-11-01T12:15:16.590689Z",
     "start_time": "2024-11-01T12:15:16.564337Z"
    }
   },
   "cell_type": "code",
   "source": [
    "scientists[\"age_days\"] = scientists[\"died_dt\"] - scientists[\"born_dt\"]\n",
    "print(scientists)"
   ],
   "id": "9adbea8da213315a",
   "outputs": [
    {
     "name": "stdout",
     "output_type": "stream",
     "text": [
      "                   Name        Born        Died  Age          Occupation  \\\n",
      "0     Rosaline Franklin  1920-07-25  1958-04-16   61             Chemist   \n",
      "1        William Gosset  1876-06-13  1937-10-16   45        Statistician   \n",
      "2  Florence Nightingale  1820-05-12  1910-08-13   37               Nurse   \n",
      "3           Marie Curie  1867-11-07  1934-07-04   77             Chemist   \n",
      "4         Rachel Carson  1907-05-27  1964-04-14   90           Biologist   \n",
      "5             John Snow  1813-03-15  1858-06-16   56           Physician   \n",
      "6           Alan Turing  1912-06-23  1954-06-07   66  Computer Scientist   \n",
      "7          Johann Gauss  1777-04-30  1855-02-23   41       Mathematician   \n",
      "\n",
      "     born_dt    died_dt   age_days  \n",
      "0 1920-07-25 1958-04-16 13779 days  \n",
      "1 1876-06-13 1937-10-16 22404 days  \n",
      "2 1820-05-12 1910-08-13 32964 days  \n",
      "3 1867-11-07 1934-07-04 24345 days  \n",
      "4 1907-05-27 1964-04-14 20777 days  \n",
      "5 1813-03-15 1858-06-16 16529 days  \n",
      "6 1912-06-23 1954-06-07 15324 days  \n",
      "7 1777-04-30 1855-02-23 28422 days  \n"
     ]
    }
   ],
   "execution_count": 13
  },
  {
   "metadata": {},
   "cell_type": "markdown",
   "source": "6. 새로운 열 age_days에는 출생일부터 사망일가지의 날짜 수가 저장되었다. 이 날짜 수를 햇수로 변환한다.",
   "id": "80ab61c0871e9bb"
  },
  {
   "metadata": {},
   "cell_type": "code",
   "outputs": [],
   "execution_count": null,
   "source": "",
   "id": "4042622858c53a83"
  }
 ],
 "metadata": {
  "kernelspec": {
   "display_name": "Python 3",
   "language": "python",
   "name": "python3"
  },
  "language_info": {
   "codemirror_mode": {
    "name": "ipython",
    "version": 2
   },
   "file_extension": ".py",
   "mimetype": "text/x-python",
   "name": "python",
   "nbconvert_exporter": "python",
   "pygments_lexer": "ipython2",
   "version": "2.7.6"
  }
 },
 "nbformat": 4,
 "nbformat_minor": 5
}
